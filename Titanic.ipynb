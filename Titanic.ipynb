{
  "nbformat": 4,
  "nbformat_minor": 0,
  "metadata": {
    "colab": {
      "name": "Titanic_recuperacao.ipynb",
      "provenance": [],
      "authorship_tag": "ABX9TyOGhV+3esw+iVRm7G3DtfgE",
      "include_colab_link": true
    },
    "kernelspec": {
      "name": "python3",
      "display_name": "Python 3"
    },
    "language_info": {
      "name": "python"
    },
    "widgets": {
      "application/vnd.jupyter.widget-state+json": {
        "2054b8f0841447c2a5b8ff99eea60626": {
          "model_module": "@jupyter-widgets/controls",
          "model_name": "HBoxModel",
          "model_module_version": "1.5.0",
          "state": {
            "_view_name": "HBoxView",
            "_dom_classes": [],
            "_model_name": "HBoxModel",
            "_view_module": "@jupyter-widgets/controls",
            "_model_module_version": "1.5.0",
            "_view_count": null,
            "_view_module_version": "1.5.0",
            "box_style": "",
            "layout": "IPY_MODEL_a3a6bb7503774689a43f0295814318af",
            "_model_module": "@jupyter-widgets/controls",
            "children": [
              "IPY_MODEL_2bd26f37e6b345e9bc21deaecd19df96",
              "IPY_MODEL_440840ab426449fcba1bf83569dac48c",
              "IPY_MODEL_fa0aefda8e1a422bb4f08c4e48ee7000"
            ]
          }
        },
        "a3a6bb7503774689a43f0295814318af": {
          "model_module": "@jupyter-widgets/base",
          "model_name": "LayoutModel",
          "model_module_version": "1.2.0",
          "state": {
            "_view_name": "LayoutView",
            "grid_template_rows": null,
            "right": null,
            "justify_content": null,
            "_view_module": "@jupyter-widgets/base",
            "overflow": null,
            "_model_module_version": "1.2.0",
            "_view_count": null,
            "flex_flow": null,
            "width": null,
            "min_width": null,
            "border": null,
            "align_items": null,
            "bottom": null,
            "_model_module": "@jupyter-widgets/base",
            "top": null,
            "grid_column": null,
            "overflow_y": null,
            "overflow_x": null,
            "grid_auto_flow": null,
            "grid_area": null,
            "grid_template_columns": null,
            "flex": null,
            "_model_name": "LayoutModel",
            "justify_items": null,
            "grid_row": null,
            "max_height": null,
            "align_content": null,
            "visibility": null,
            "align_self": null,
            "height": null,
            "min_height": null,
            "padding": null,
            "grid_auto_rows": null,
            "grid_gap": null,
            "max_width": null,
            "order": null,
            "_view_module_version": "1.2.0",
            "grid_template_areas": null,
            "object_position": null,
            "object_fit": null,
            "grid_auto_columns": null,
            "margin": null,
            "display": null,
            "left": null
          }
        },
        "2bd26f37e6b345e9bc21deaecd19df96": {
          "model_module": "@jupyter-widgets/controls",
          "model_name": "HTMLModel",
          "model_module_version": "1.5.0",
          "state": {
            "_view_name": "HTMLView",
            "style": "IPY_MODEL_e8147b468d0e4370a58bc5acef21f314",
            "_dom_classes": [],
            "description": "",
            "_model_name": "HTMLModel",
            "placeholder": "​",
            "_view_module": "@jupyter-widgets/controls",
            "_model_module_version": "1.5.0",
            "value": "Folds avaliados: 100%",
            "_view_count": null,
            "_view_module_version": "1.5.0",
            "description_tooltip": null,
            "_model_module": "@jupyter-widgets/controls",
            "layout": "IPY_MODEL_63b6848115c14647bde3f43f9975049a"
          }
        },
        "440840ab426449fcba1bf83569dac48c": {
          "model_module": "@jupyter-widgets/controls",
          "model_name": "FloatProgressModel",
          "model_module_version": "1.5.0",
          "state": {
            "_view_name": "ProgressView",
            "style": "IPY_MODEL_509d21e20f3d4051825859e4ed582f87",
            "_dom_classes": [],
            "description": "",
            "_model_name": "FloatProgressModel",
            "bar_style": "success",
            "max": 10,
            "_view_module": "@jupyter-widgets/controls",
            "_model_module_version": "1.5.0",
            "value": 10,
            "_view_count": null,
            "_view_module_version": "1.5.0",
            "orientation": "horizontal",
            "min": 0,
            "description_tooltip": null,
            "_model_module": "@jupyter-widgets/controls",
            "layout": "IPY_MODEL_5159d95d0d874a9f97d261971e674a82"
          }
        },
        "fa0aefda8e1a422bb4f08c4e48ee7000": {
          "model_module": "@jupyter-widgets/controls",
          "model_name": "HTMLModel",
          "model_module_version": "1.5.0",
          "state": {
            "_view_name": "HTMLView",
            "style": "IPY_MODEL_8d89e6ddb22f45bc868c03d72c2533ab",
            "_dom_classes": [],
            "description": "",
            "_model_name": "HTMLModel",
            "placeholder": "​",
            "_view_module": "@jupyter-widgets/controls",
            "_model_module_version": "1.5.0",
            "value": " 10/10 [00:03&lt;00:00,  5.08it/s]",
            "_view_count": null,
            "_view_module_version": "1.5.0",
            "description_tooltip": null,
            "_model_module": "@jupyter-widgets/controls",
            "layout": "IPY_MODEL_8aa9c13c384a4f85a72914fbc9150d54"
          }
        },
        "e8147b468d0e4370a58bc5acef21f314": {
          "model_module": "@jupyter-widgets/controls",
          "model_name": "DescriptionStyleModel",
          "model_module_version": "1.5.0",
          "state": {
            "_view_name": "StyleView",
            "_model_name": "DescriptionStyleModel",
            "description_width": "",
            "_view_module": "@jupyter-widgets/base",
            "_model_module_version": "1.5.0",
            "_view_count": null,
            "_view_module_version": "1.2.0",
            "_model_module": "@jupyter-widgets/controls"
          }
        },
        "63b6848115c14647bde3f43f9975049a": {
          "model_module": "@jupyter-widgets/base",
          "model_name": "LayoutModel",
          "model_module_version": "1.2.0",
          "state": {
            "_view_name": "LayoutView",
            "grid_template_rows": null,
            "right": null,
            "justify_content": null,
            "_view_module": "@jupyter-widgets/base",
            "overflow": null,
            "_model_module_version": "1.2.0",
            "_view_count": null,
            "flex_flow": null,
            "width": null,
            "min_width": null,
            "border": null,
            "align_items": null,
            "bottom": null,
            "_model_module": "@jupyter-widgets/base",
            "top": null,
            "grid_column": null,
            "overflow_y": null,
            "overflow_x": null,
            "grid_auto_flow": null,
            "grid_area": null,
            "grid_template_columns": null,
            "flex": null,
            "_model_name": "LayoutModel",
            "justify_items": null,
            "grid_row": null,
            "max_height": null,
            "align_content": null,
            "visibility": null,
            "align_self": null,
            "height": null,
            "min_height": null,
            "padding": null,
            "grid_auto_rows": null,
            "grid_gap": null,
            "max_width": null,
            "order": null,
            "_view_module_version": "1.2.0",
            "grid_template_areas": null,
            "object_position": null,
            "object_fit": null,
            "grid_auto_columns": null,
            "margin": null,
            "display": null,
            "left": null
          }
        },
        "509d21e20f3d4051825859e4ed582f87": {
          "model_module": "@jupyter-widgets/controls",
          "model_name": "ProgressStyleModel",
          "model_module_version": "1.5.0",
          "state": {
            "_view_name": "StyleView",
            "_model_name": "ProgressStyleModel",
            "description_width": "",
            "_view_module": "@jupyter-widgets/base",
            "_model_module_version": "1.5.0",
            "_view_count": null,
            "_view_module_version": "1.2.0",
            "bar_color": null,
            "_model_module": "@jupyter-widgets/controls"
          }
        },
        "5159d95d0d874a9f97d261971e674a82": {
          "model_module": "@jupyter-widgets/base",
          "model_name": "LayoutModel",
          "model_module_version": "1.2.0",
          "state": {
            "_view_name": "LayoutView",
            "grid_template_rows": null,
            "right": null,
            "justify_content": null,
            "_view_module": "@jupyter-widgets/base",
            "overflow": null,
            "_model_module_version": "1.2.0",
            "_view_count": null,
            "flex_flow": null,
            "width": null,
            "min_width": null,
            "border": null,
            "align_items": null,
            "bottom": null,
            "_model_module": "@jupyter-widgets/base",
            "top": null,
            "grid_column": null,
            "overflow_y": null,
            "overflow_x": null,
            "grid_auto_flow": null,
            "grid_area": null,
            "grid_template_columns": null,
            "flex": null,
            "_model_name": "LayoutModel",
            "justify_items": null,
            "grid_row": null,
            "max_height": null,
            "align_content": null,
            "visibility": null,
            "align_self": null,
            "height": null,
            "min_height": null,
            "padding": null,
            "grid_auto_rows": null,
            "grid_gap": null,
            "max_width": null,
            "order": null,
            "_view_module_version": "1.2.0",
            "grid_template_areas": null,
            "object_position": null,
            "object_fit": null,
            "grid_auto_columns": null,
            "margin": null,
            "display": null,
            "left": null
          }
        },
        "8d89e6ddb22f45bc868c03d72c2533ab": {
          "model_module": "@jupyter-widgets/controls",
          "model_name": "DescriptionStyleModel",
          "model_module_version": "1.5.0",
          "state": {
            "_view_name": "StyleView",
            "_model_name": "DescriptionStyleModel",
            "description_width": "",
            "_view_module": "@jupyter-widgets/base",
            "_model_module_version": "1.5.0",
            "_view_count": null,
            "_view_module_version": "1.2.0",
            "_model_module": "@jupyter-widgets/controls"
          }
        },
        "8aa9c13c384a4f85a72914fbc9150d54": {
          "model_module": "@jupyter-widgets/base",
          "model_name": "LayoutModel",
          "model_module_version": "1.2.0",
          "state": {
            "_view_name": "LayoutView",
            "grid_template_rows": null,
            "right": null,
            "justify_content": null,
            "_view_module": "@jupyter-widgets/base",
            "overflow": null,
            "_model_module_version": "1.2.0",
            "_view_count": null,
            "flex_flow": null,
            "width": null,
            "min_width": null,
            "border": null,
            "align_items": null,
            "bottom": null,
            "_model_module": "@jupyter-widgets/base",
            "top": null,
            "grid_column": null,
            "overflow_y": null,
            "overflow_x": null,
            "grid_auto_flow": null,
            "grid_area": null,
            "grid_template_columns": null,
            "flex": null,
            "_model_name": "LayoutModel",
            "justify_items": null,
            "grid_row": null,
            "max_height": null,
            "align_content": null,
            "visibility": null,
            "align_self": null,
            "height": null,
            "min_height": null,
            "padding": null,
            "grid_auto_rows": null,
            "grid_gap": null,
            "max_width": null,
            "order": null,
            "_view_module_version": "1.2.0",
            "grid_template_areas": null,
            "object_position": null,
            "object_fit": null,
            "grid_auto_columns": null,
            "margin": null,
            "display": null,
            "left": null
          }
        },
        "95f8896fbace451097d480214217c8d7": {
          "model_module": "@jupyter-widgets/controls",
          "model_name": "HBoxModel",
          "model_module_version": "1.5.0",
          "state": {
            "_view_name": "HBoxView",
            "_dom_classes": [],
            "_model_name": "HBoxModel",
            "_view_module": "@jupyter-widgets/controls",
            "_model_module_version": "1.5.0",
            "_view_count": null,
            "_view_module_version": "1.5.0",
            "box_style": "",
            "layout": "IPY_MODEL_806ce1e290834ae18bc09a17e00398a1",
            "_model_module": "@jupyter-widgets/controls",
            "children": [
              "IPY_MODEL_b1fbe533f6c54b1e8e1526bb6ca34577",
              "IPY_MODEL_57fbeb79f3a946bab7975ebc890811a0",
              "IPY_MODEL_c4fd5f8d9b4644128948a8c087debe67"
            ]
          }
        },
        "806ce1e290834ae18bc09a17e00398a1": {
          "model_module": "@jupyter-widgets/base",
          "model_name": "LayoutModel",
          "model_module_version": "1.2.0",
          "state": {
            "_view_name": "LayoutView",
            "grid_template_rows": null,
            "right": null,
            "justify_content": null,
            "_view_module": "@jupyter-widgets/base",
            "overflow": null,
            "_model_module_version": "1.2.0",
            "_view_count": null,
            "flex_flow": null,
            "width": null,
            "min_width": null,
            "border": null,
            "align_items": null,
            "bottom": null,
            "_model_module": "@jupyter-widgets/base",
            "top": null,
            "grid_column": null,
            "overflow_y": null,
            "overflow_x": null,
            "grid_auto_flow": null,
            "grid_area": null,
            "grid_template_columns": null,
            "flex": null,
            "_model_name": "LayoutModel",
            "justify_items": null,
            "grid_row": null,
            "max_height": null,
            "align_content": null,
            "visibility": null,
            "align_self": null,
            "height": null,
            "min_height": null,
            "padding": null,
            "grid_auto_rows": null,
            "grid_gap": null,
            "max_width": null,
            "order": null,
            "_view_module_version": "1.2.0",
            "grid_template_areas": null,
            "object_position": null,
            "object_fit": null,
            "grid_auto_columns": null,
            "margin": null,
            "display": null,
            "left": null
          }
        },
        "b1fbe533f6c54b1e8e1526bb6ca34577": {
          "model_module": "@jupyter-widgets/controls",
          "model_name": "HTMLModel",
          "model_module_version": "1.5.0",
          "state": {
            "_view_name": "HTMLView",
            "style": "IPY_MODEL_78a0273d1a0c4a15af9325ad3c639df2",
            "_dom_classes": [],
            "description": "",
            "_model_name": "HTMLModel",
            "placeholder": "​",
            "_view_module": "@jupyter-widgets/controls",
            "_model_module_version": "1.5.0",
            "value": "Folds avaliados: 100%",
            "_view_count": null,
            "_view_module_version": "1.5.0",
            "description_tooltip": null,
            "_model_module": "@jupyter-widgets/controls",
            "layout": "IPY_MODEL_24cf448992dd4f29a63580675a4c8766"
          }
        },
        "57fbeb79f3a946bab7975ebc890811a0": {
          "model_module": "@jupyter-widgets/controls",
          "model_name": "FloatProgressModel",
          "model_module_version": "1.5.0",
          "state": {
            "_view_name": "ProgressView",
            "style": "IPY_MODEL_d0e657ad31684235ab4a581f90c7a396",
            "_dom_classes": [],
            "description": "",
            "_model_name": "FloatProgressModel",
            "bar_style": "success",
            "max": 10,
            "_view_module": "@jupyter-widgets/controls",
            "_model_module_version": "1.5.0",
            "value": 10,
            "_view_count": null,
            "_view_module_version": "1.5.0",
            "orientation": "horizontal",
            "min": 0,
            "description_tooltip": null,
            "_model_module": "@jupyter-widgets/controls",
            "layout": "IPY_MODEL_4738b06e1df94ef1a1353d477c599601"
          }
        },
        "c4fd5f8d9b4644128948a8c087debe67": {
          "model_module": "@jupyter-widgets/controls",
          "model_name": "HTMLModel",
          "model_module_version": "1.5.0",
          "state": {
            "_view_name": "HTMLView",
            "style": "IPY_MODEL_73df27312a0f4004a5084263bf8697b6",
            "_dom_classes": [],
            "description": "",
            "_model_name": "HTMLModel",
            "placeholder": "​",
            "_view_module": "@jupyter-widgets/controls",
            "_model_module_version": "1.5.0",
            "value": " 10/10 [00:07&lt;00:00,  1.37it/s]",
            "_view_count": null,
            "_view_module_version": "1.5.0",
            "description_tooltip": null,
            "_model_module": "@jupyter-widgets/controls",
            "layout": "IPY_MODEL_6407d00e4cdd4baab3597268bce976f6"
          }
        },
        "78a0273d1a0c4a15af9325ad3c639df2": {
          "model_module": "@jupyter-widgets/controls",
          "model_name": "DescriptionStyleModel",
          "model_module_version": "1.5.0",
          "state": {
            "_view_name": "StyleView",
            "_model_name": "DescriptionStyleModel",
            "description_width": "",
            "_view_module": "@jupyter-widgets/base",
            "_model_module_version": "1.5.0",
            "_view_count": null,
            "_view_module_version": "1.2.0",
            "_model_module": "@jupyter-widgets/controls"
          }
        },
        "24cf448992dd4f29a63580675a4c8766": {
          "model_module": "@jupyter-widgets/base",
          "model_name": "LayoutModel",
          "model_module_version": "1.2.0",
          "state": {
            "_view_name": "LayoutView",
            "grid_template_rows": null,
            "right": null,
            "justify_content": null,
            "_view_module": "@jupyter-widgets/base",
            "overflow": null,
            "_model_module_version": "1.2.0",
            "_view_count": null,
            "flex_flow": null,
            "width": null,
            "min_width": null,
            "border": null,
            "align_items": null,
            "bottom": null,
            "_model_module": "@jupyter-widgets/base",
            "top": null,
            "grid_column": null,
            "overflow_y": null,
            "overflow_x": null,
            "grid_auto_flow": null,
            "grid_area": null,
            "grid_template_columns": null,
            "flex": null,
            "_model_name": "LayoutModel",
            "justify_items": null,
            "grid_row": null,
            "max_height": null,
            "align_content": null,
            "visibility": null,
            "align_self": null,
            "height": null,
            "min_height": null,
            "padding": null,
            "grid_auto_rows": null,
            "grid_gap": null,
            "max_width": null,
            "order": null,
            "_view_module_version": "1.2.0",
            "grid_template_areas": null,
            "object_position": null,
            "object_fit": null,
            "grid_auto_columns": null,
            "margin": null,
            "display": null,
            "left": null
          }
        },
        "d0e657ad31684235ab4a581f90c7a396": {
          "model_module": "@jupyter-widgets/controls",
          "model_name": "ProgressStyleModel",
          "model_module_version": "1.5.0",
          "state": {
            "_view_name": "StyleView",
            "_model_name": "ProgressStyleModel",
            "description_width": "",
            "_view_module": "@jupyter-widgets/base",
            "_model_module_version": "1.5.0",
            "_view_count": null,
            "_view_module_version": "1.2.0",
            "bar_color": null,
            "_model_module": "@jupyter-widgets/controls"
          }
        },
        "4738b06e1df94ef1a1353d477c599601": {
          "model_module": "@jupyter-widgets/base",
          "model_name": "LayoutModel",
          "model_module_version": "1.2.0",
          "state": {
            "_view_name": "LayoutView",
            "grid_template_rows": null,
            "right": null,
            "justify_content": null,
            "_view_module": "@jupyter-widgets/base",
            "overflow": null,
            "_model_module_version": "1.2.0",
            "_view_count": null,
            "flex_flow": null,
            "width": null,
            "min_width": null,
            "border": null,
            "align_items": null,
            "bottom": null,
            "_model_module": "@jupyter-widgets/base",
            "top": null,
            "grid_column": null,
            "overflow_y": null,
            "overflow_x": null,
            "grid_auto_flow": null,
            "grid_area": null,
            "grid_template_columns": null,
            "flex": null,
            "_model_name": "LayoutModel",
            "justify_items": null,
            "grid_row": null,
            "max_height": null,
            "align_content": null,
            "visibility": null,
            "align_self": null,
            "height": null,
            "min_height": null,
            "padding": null,
            "grid_auto_rows": null,
            "grid_gap": null,
            "max_width": null,
            "order": null,
            "_view_module_version": "1.2.0",
            "grid_template_areas": null,
            "object_position": null,
            "object_fit": null,
            "grid_auto_columns": null,
            "margin": null,
            "display": null,
            "left": null
          }
        },
        "73df27312a0f4004a5084263bf8697b6": {
          "model_module": "@jupyter-widgets/controls",
          "model_name": "DescriptionStyleModel",
          "model_module_version": "1.5.0",
          "state": {
            "_view_name": "StyleView",
            "_model_name": "DescriptionStyleModel",
            "description_width": "",
            "_view_module": "@jupyter-widgets/base",
            "_model_module_version": "1.5.0",
            "_view_count": null,
            "_view_module_version": "1.2.0",
            "_model_module": "@jupyter-widgets/controls"
          }
        },
        "6407d00e4cdd4baab3597268bce976f6": {
          "model_module": "@jupyter-widgets/base",
          "model_name": "LayoutModel",
          "model_module_version": "1.2.0",
          "state": {
            "_view_name": "LayoutView",
            "grid_template_rows": null,
            "right": null,
            "justify_content": null,
            "_view_module": "@jupyter-widgets/base",
            "overflow": null,
            "_model_module_version": "1.2.0",
            "_view_count": null,
            "flex_flow": null,
            "width": null,
            "min_width": null,
            "border": null,
            "align_items": null,
            "bottom": null,
            "_model_module": "@jupyter-widgets/base",
            "top": null,
            "grid_column": null,
            "overflow_y": null,
            "overflow_x": null,
            "grid_auto_flow": null,
            "grid_area": null,
            "grid_template_columns": null,
            "flex": null,
            "_model_name": "LayoutModel",
            "justify_items": null,
            "grid_row": null,
            "max_height": null,
            "align_content": null,
            "visibility": null,
            "align_self": null,
            "height": null,
            "min_height": null,
            "padding": null,
            "grid_auto_rows": null,
            "grid_gap": null,
            "max_width": null,
            "order": null,
            "_view_module_version": "1.2.0",
            "grid_template_areas": null,
            "object_position": null,
            "object_fit": null,
            "grid_auto_columns": null,
            "margin": null,
            "display": null,
            "left": null
          }
        },
        "0ed04c1d77a741feb3d5a97a2386adfd": {
          "model_module": "@jupyter-widgets/controls",
          "model_name": "HBoxModel",
          "model_module_version": "1.5.0",
          "state": {
            "_view_name": "HBoxView",
            "_dom_classes": [],
            "_model_name": "HBoxModel",
            "_view_module": "@jupyter-widgets/controls",
            "_model_module_version": "1.5.0",
            "_view_count": null,
            "_view_module_version": "1.5.0",
            "box_style": "",
            "layout": "IPY_MODEL_6e254f494b664cbfa8d72bb8051061f8",
            "_model_module": "@jupyter-widgets/controls",
            "children": [
              "IPY_MODEL_5ec8d9eed8f349c783b19f415770800d",
              "IPY_MODEL_56e401f552ce4194bbf2da400e2f73db",
              "IPY_MODEL_2d4203102bd746fe8e58493c26a2df13"
            ]
          }
        },
        "6e254f494b664cbfa8d72bb8051061f8": {
          "model_module": "@jupyter-widgets/base",
          "model_name": "LayoutModel",
          "model_module_version": "1.2.0",
          "state": {
            "_view_name": "LayoutView",
            "grid_template_rows": null,
            "right": null,
            "justify_content": null,
            "_view_module": "@jupyter-widgets/base",
            "overflow": null,
            "_model_module_version": "1.2.0",
            "_view_count": null,
            "flex_flow": null,
            "width": null,
            "min_width": null,
            "border": null,
            "align_items": null,
            "bottom": null,
            "_model_module": "@jupyter-widgets/base",
            "top": null,
            "grid_column": null,
            "overflow_y": null,
            "overflow_x": null,
            "grid_auto_flow": null,
            "grid_area": null,
            "grid_template_columns": null,
            "flex": null,
            "_model_name": "LayoutModel",
            "justify_items": null,
            "grid_row": null,
            "max_height": null,
            "align_content": null,
            "visibility": null,
            "align_self": null,
            "height": null,
            "min_height": null,
            "padding": null,
            "grid_auto_rows": null,
            "grid_gap": null,
            "max_width": null,
            "order": null,
            "_view_module_version": "1.2.0",
            "grid_template_areas": null,
            "object_position": null,
            "object_fit": null,
            "grid_auto_columns": null,
            "margin": null,
            "display": null,
            "left": null
          }
        },
        "5ec8d9eed8f349c783b19f415770800d": {
          "model_module": "@jupyter-widgets/controls",
          "model_name": "HTMLModel",
          "model_module_version": "1.5.0",
          "state": {
            "_view_name": "HTMLView",
            "style": "IPY_MODEL_6aece3e018a84baea690035f591fd7d0",
            "_dom_classes": [],
            "description": "",
            "_model_name": "HTMLModel",
            "placeholder": "​",
            "_view_module": "@jupyter-widgets/controls",
            "_model_module_version": "1.5.0",
            "value": "Folds avaliados: 100%",
            "_view_count": null,
            "_view_module_version": "1.5.0",
            "description_tooltip": null,
            "_model_module": "@jupyter-widgets/controls",
            "layout": "IPY_MODEL_f97443c50c274462bb14c19a81deb4f3"
          }
        },
        "56e401f552ce4194bbf2da400e2f73db": {
          "model_module": "@jupyter-widgets/controls",
          "model_name": "FloatProgressModel",
          "model_module_version": "1.5.0",
          "state": {
            "_view_name": "ProgressView",
            "style": "IPY_MODEL_a7eae1645cab415f86e06b0218cd6f0a",
            "_dom_classes": [],
            "description": "",
            "_model_name": "FloatProgressModel",
            "bar_style": "success",
            "max": 10,
            "_view_module": "@jupyter-widgets/controls",
            "_model_module_version": "1.5.0",
            "value": 10,
            "_view_count": null,
            "_view_module_version": "1.5.0",
            "orientation": "horizontal",
            "min": 0,
            "description_tooltip": null,
            "_model_module": "@jupyter-widgets/controls",
            "layout": "IPY_MODEL_50bb030ae5fb4494bc7529aac655af3d"
          }
        },
        "2d4203102bd746fe8e58493c26a2df13": {
          "model_module": "@jupyter-widgets/controls",
          "model_name": "HTMLModel",
          "model_module_version": "1.5.0",
          "state": {
            "_view_name": "HTMLView",
            "style": "IPY_MODEL_472d98cc6e164633af34ce0c560e7466",
            "_dom_classes": [],
            "description": "",
            "_model_name": "HTMLModel",
            "placeholder": "​",
            "_view_module": "@jupyter-widgets/controls",
            "_model_module_version": "1.5.0",
            "value": " 10/10 [00:03&lt;00:00,  5.80it/s]",
            "_view_count": null,
            "_view_module_version": "1.5.0",
            "description_tooltip": null,
            "_model_module": "@jupyter-widgets/controls",
            "layout": "IPY_MODEL_ed64874da42b495d91597553940f19be"
          }
        },
        "6aece3e018a84baea690035f591fd7d0": {
          "model_module": "@jupyter-widgets/controls",
          "model_name": "DescriptionStyleModel",
          "model_module_version": "1.5.0",
          "state": {
            "_view_name": "StyleView",
            "_model_name": "DescriptionStyleModel",
            "description_width": "",
            "_view_module": "@jupyter-widgets/base",
            "_model_module_version": "1.5.0",
            "_view_count": null,
            "_view_module_version": "1.2.0",
            "_model_module": "@jupyter-widgets/controls"
          }
        },
        "f97443c50c274462bb14c19a81deb4f3": {
          "model_module": "@jupyter-widgets/base",
          "model_name": "LayoutModel",
          "model_module_version": "1.2.0",
          "state": {
            "_view_name": "LayoutView",
            "grid_template_rows": null,
            "right": null,
            "justify_content": null,
            "_view_module": "@jupyter-widgets/base",
            "overflow": null,
            "_model_module_version": "1.2.0",
            "_view_count": null,
            "flex_flow": null,
            "width": null,
            "min_width": null,
            "border": null,
            "align_items": null,
            "bottom": null,
            "_model_module": "@jupyter-widgets/base",
            "top": null,
            "grid_column": null,
            "overflow_y": null,
            "overflow_x": null,
            "grid_auto_flow": null,
            "grid_area": null,
            "grid_template_columns": null,
            "flex": null,
            "_model_name": "LayoutModel",
            "justify_items": null,
            "grid_row": null,
            "max_height": null,
            "align_content": null,
            "visibility": null,
            "align_self": null,
            "height": null,
            "min_height": null,
            "padding": null,
            "grid_auto_rows": null,
            "grid_gap": null,
            "max_width": null,
            "order": null,
            "_view_module_version": "1.2.0",
            "grid_template_areas": null,
            "object_position": null,
            "object_fit": null,
            "grid_auto_columns": null,
            "margin": null,
            "display": null,
            "left": null
          }
        },
        "a7eae1645cab415f86e06b0218cd6f0a": {
          "model_module": "@jupyter-widgets/controls",
          "model_name": "ProgressStyleModel",
          "model_module_version": "1.5.0",
          "state": {
            "_view_name": "StyleView",
            "_model_name": "ProgressStyleModel",
            "description_width": "",
            "_view_module": "@jupyter-widgets/base",
            "_model_module_version": "1.5.0",
            "_view_count": null,
            "_view_module_version": "1.2.0",
            "bar_color": null,
            "_model_module": "@jupyter-widgets/controls"
          }
        },
        "50bb030ae5fb4494bc7529aac655af3d": {
          "model_module": "@jupyter-widgets/base",
          "model_name": "LayoutModel",
          "model_module_version": "1.2.0",
          "state": {
            "_view_name": "LayoutView",
            "grid_template_rows": null,
            "right": null,
            "justify_content": null,
            "_view_module": "@jupyter-widgets/base",
            "overflow": null,
            "_model_module_version": "1.2.0",
            "_view_count": null,
            "flex_flow": null,
            "width": null,
            "min_width": null,
            "border": null,
            "align_items": null,
            "bottom": null,
            "_model_module": "@jupyter-widgets/base",
            "top": null,
            "grid_column": null,
            "overflow_y": null,
            "overflow_x": null,
            "grid_auto_flow": null,
            "grid_area": null,
            "grid_template_columns": null,
            "flex": null,
            "_model_name": "LayoutModel",
            "justify_items": null,
            "grid_row": null,
            "max_height": null,
            "align_content": null,
            "visibility": null,
            "align_self": null,
            "height": null,
            "min_height": null,
            "padding": null,
            "grid_auto_rows": null,
            "grid_gap": null,
            "max_width": null,
            "order": null,
            "_view_module_version": "1.2.0",
            "grid_template_areas": null,
            "object_position": null,
            "object_fit": null,
            "grid_auto_columns": null,
            "margin": null,
            "display": null,
            "left": null
          }
        },
        "472d98cc6e164633af34ce0c560e7466": {
          "model_module": "@jupyter-widgets/controls",
          "model_name": "DescriptionStyleModel",
          "model_module_version": "1.5.0",
          "state": {
            "_view_name": "StyleView",
            "_model_name": "DescriptionStyleModel",
            "description_width": "",
            "_view_module": "@jupyter-widgets/base",
            "_model_module_version": "1.5.0",
            "_view_count": null,
            "_view_module_version": "1.2.0",
            "_model_module": "@jupyter-widgets/controls"
          }
        },
        "ed64874da42b495d91597553940f19be": {
          "model_module": "@jupyter-widgets/base",
          "model_name": "LayoutModel",
          "model_module_version": "1.2.0",
          "state": {
            "_view_name": "LayoutView",
            "grid_template_rows": null,
            "right": null,
            "justify_content": null,
            "_view_module": "@jupyter-widgets/base",
            "overflow": null,
            "_model_module_version": "1.2.0",
            "_view_count": null,
            "flex_flow": null,
            "width": null,
            "min_width": null,
            "border": null,
            "align_items": null,
            "bottom": null,
            "_model_module": "@jupyter-widgets/base",
            "top": null,
            "grid_column": null,
            "overflow_y": null,
            "overflow_x": null,
            "grid_auto_flow": null,
            "grid_area": null,
            "grid_template_columns": null,
            "flex": null,
            "_model_name": "LayoutModel",
            "justify_items": null,
            "grid_row": null,
            "max_height": null,
            "align_content": null,
            "visibility": null,
            "align_self": null,
            "height": null,
            "min_height": null,
            "padding": null,
            "grid_auto_rows": null,
            "grid_gap": null,
            "max_width": null,
            "order": null,
            "_view_module_version": "1.2.0",
            "grid_template_areas": null,
            "object_position": null,
            "object_fit": null,
            "grid_auto_columns": null,
            "margin": null,
            "display": null,
            "left": null
          }
        },
        "ac98d7ea530242a7bf1e21a60a7e4766": {
          "model_module": "@jupyter-widgets/controls",
          "model_name": "HBoxModel",
          "model_module_version": "1.5.0",
          "state": {
            "_view_name": "HBoxView",
            "_dom_classes": [],
            "_model_name": "HBoxModel",
            "_view_module": "@jupyter-widgets/controls",
            "_model_module_version": "1.5.0",
            "_view_count": null,
            "_view_module_version": "1.5.0",
            "box_style": "",
            "layout": "IPY_MODEL_73fcdffb2a4c46099dcfa1e66bcac497",
            "_model_module": "@jupyter-widgets/controls",
            "children": [
              "IPY_MODEL_786fbadafa8042149e9f7eec6f5adac5",
              "IPY_MODEL_48c1b618438e4847bc15fff4223dc4e4",
              "IPY_MODEL_c000bbd140234445abbc3519235f4276"
            ]
          }
        },
        "73fcdffb2a4c46099dcfa1e66bcac497": {
          "model_module": "@jupyter-widgets/base",
          "model_name": "LayoutModel",
          "model_module_version": "1.2.0",
          "state": {
            "_view_name": "LayoutView",
            "grid_template_rows": null,
            "right": null,
            "justify_content": null,
            "_view_module": "@jupyter-widgets/base",
            "overflow": null,
            "_model_module_version": "1.2.0",
            "_view_count": null,
            "flex_flow": null,
            "width": null,
            "min_width": null,
            "border": null,
            "align_items": null,
            "bottom": null,
            "_model_module": "@jupyter-widgets/base",
            "top": null,
            "grid_column": null,
            "overflow_y": null,
            "overflow_x": null,
            "grid_auto_flow": null,
            "grid_area": null,
            "grid_template_columns": null,
            "flex": null,
            "_model_name": "LayoutModel",
            "justify_items": null,
            "grid_row": null,
            "max_height": null,
            "align_content": null,
            "visibility": null,
            "align_self": null,
            "height": null,
            "min_height": null,
            "padding": null,
            "grid_auto_rows": null,
            "grid_gap": null,
            "max_width": null,
            "order": null,
            "_view_module_version": "1.2.0",
            "grid_template_areas": null,
            "object_position": null,
            "object_fit": null,
            "grid_auto_columns": null,
            "margin": null,
            "display": null,
            "left": null
          }
        },
        "786fbadafa8042149e9f7eec6f5adac5": {
          "model_module": "@jupyter-widgets/controls",
          "model_name": "HTMLModel",
          "model_module_version": "1.5.0",
          "state": {
            "_view_name": "HTMLView",
            "style": "IPY_MODEL_e0f73ead32e94e8bbacf0946622e6132",
            "_dom_classes": [],
            "description": "",
            "_model_name": "HTMLModel",
            "placeholder": "​",
            "_view_module": "@jupyter-widgets/controls",
            "_model_module_version": "1.5.0",
            "value": "Folds avaliados: 100%",
            "_view_count": null,
            "_view_module_version": "1.5.0",
            "description_tooltip": null,
            "_model_module": "@jupyter-widgets/controls",
            "layout": "IPY_MODEL_ef94b557bc7e40139f3daa0247319f88"
          }
        },
        "48c1b618438e4847bc15fff4223dc4e4": {
          "model_module": "@jupyter-widgets/controls",
          "model_name": "FloatProgressModel",
          "model_module_version": "1.5.0",
          "state": {
            "_view_name": "ProgressView",
            "style": "IPY_MODEL_77d9008f03364c0a936cde1b09b23e8f",
            "_dom_classes": [],
            "description": "",
            "_model_name": "FloatProgressModel",
            "bar_style": "success",
            "max": 10,
            "_view_module": "@jupyter-widgets/controls",
            "_model_module_version": "1.5.0",
            "value": 10,
            "_view_count": null,
            "_view_module_version": "1.5.0",
            "orientation": "horizontal",
            "min": 0,
            "description_tooltip": null,
            "_model_module": "@jupyter-widgets/controls",
            "layout": "IPY_MODEL_02232346923b4c7e9ee836d5f797428a"
          }
        },
        "c000bbd140234445abbc3519235f4276": {
          "model_module": "@jupyter-widgets/controls",
          "model_name": "HTMLModel",
          "model_module_version": "1.5.0",
          "state": {
            "_view_name": "HTMLView",
            "style": "IPY_MODEL_0eb1598b978c4ac88e99baaa4656cf5b",
            "_dom_classes": [],
            "description": "",
            "_model_name": "HTMLModel",
            "placeholder": "​",
            "_view_module": "@jupyter-widgets/controls",
            "_model_module_version": "1.5.0",
            "value": " 10/10 [00:16&lt;00:00,  1.53s/it]",
            "_view_count": null,
            "_view_module_version": "1.5.0",
            "description_tooltip": null,
            "_model_module": "@jupyter-widgets/controls",
            "layout": "IPY_MODEL_d8af36c7711249d8b72b6e36efb6d142"
          }
        },
        "e0f73ead32e94e8bbacf0946622e6132": {
          "model_module": "@jupyter-widgets/controls",
          "model_name": "DescriptionStyleModel",
          "model_module_version": "1.5.0",
          "state": {
            "_view_name": "StyleView",
            "_model_name": "DescriptionStyleModel",
            "description_width": "",
            "_view_module": "@jupyter-widgets/base",
            "_model_module_version": "1.5.0",
            "_view_count": null,
            "_view_module_version": "1.2.0",
            "_model_module": "@jupyter-widgets/controls"
          }
        },
        "ef94b557bc7e40139f3daa0247319f88": {
          "model_module": "@jupyter-widgets/base",
          "model_name": "LayoutModel",
          "model_module_version": "1.2.0",
          "state": {
            "_view_name": "LayoutView",
            "grid_template_rows": null,
            "right": null,
            "justify_content": null,
            "_view_module": "@jupyter-widgets/base",
            "overflow": null,
            "_model_module_version": "1.2.0",
            "_view_count": null,
            "flex_flow": null,
            "width": null,
            "min_width": null,
            "border": null,
            "align_items": null,
            "bottom": null,
            "_model_module": "@jupyter-widgets/base",
            "top": null,
            "grid_column": null,
            "overflow_y": null,
            "overflow_x": null,
            "grid_auto_flow": null,
            "grid_area": null,
            "grid_template_columns": null,
            "flex": null,
            "_model_name": "LayoutModel",
            "justify_items": null,
            "grid_row": null,
            "max_height": null,
            "align_content": null,
            "visibility": null,
            "align_self": null,
            "height": null,
            "min_height": null,
            "padding": null,
            "grid_auto_rows": null,
            "grid_gap": null,
            "max_width": null,
            "order": null,
            "_view_module_version": "1.2.0",
            "grid_template_areas": null,
            "object_position": null,
            "object_fit": null,
            "grid_auto_columns": null,
            "margin": null,
            "display": null,
            "left": null
          }
        },
        "77d9008f03364c0a936cde1b09b23e8f": {
          "model_module": "@jupyter-widgets/controls",
          "model_name": "ProgressStyleModel",
          "model_module_version": "1.5.0",
          "state": {
            "_view_name": "StyleView",
            "_model_name": "ProgressStyleModel",
            "description_width": "",
            "_view_module": "@jupyter-widgets/base",
            "_model_module_version": "1.5.0",
            "_view_count": null,
            "_view_module_version": "1.2.0",
            "bar_color": null,
            "_model_module": "@jupyter-widgets/controls"
          }
        },
        "02232346923b4c7e9ee836d5f797428a": {
          "model_module": "@jupyter-widgets/base",
          "model_name": "LayoutModel",
          "model_module_version": "1.2.0",
          "state": {
            "_view_name": "LayoutView",
            "grid_template_rows": null,
            "right": null,
            "justify_content": null,
            "_view_module": "@jupyter-widgets/base",
            "overflow": null,
            "_model_module_version": "1.2.0",
            "_view_count": null,
            "flex_flow": null,
            "width": null,
            "min_width": null,
            "border": null,
            "align_items": null,
            "bottom": null,
            "_model_module": "@jupyter-widgets/base",
            "top": null,
            "grid_column": null,
            "overflow_y": null,
            "overflow_x": null,
            "grid_auto_flow": null,
            "grid_area": null,
            "grid_template_columns": null,
            "flex": null,
            "_model_name": "LayoutModel",
            "justify_items": null,
            "grid_row": null,
            "max_height": null,
            "align_content": null,
            "visibility": null,
            "align_self": null,
            "height": null,
            "min_height": null,
            "padding": null,
            "grid_auto_rows": null,
            "grid_gap": null,
            "max_width": null,
            "order": null,
            "_view_module_version": "1.2.0",
            "grid_template_areas": null,
            "object_position": null,
            "object_fit": null,
            "grid_auto_columns": null,
            "margin": null,
            "display": null,
            "left": null
          }
        },
        "0eb1598b978c4ac88e99baaa4656cf5b": {
          "model_module": "@jupyter-widgets/controls",
          "model_name": "DescriptionStyleModel",
          "model_module_version": "1.5.0",
          "state": {
            "_view_name": "StyleView",
            "_model_name": "DescriptionStyleModel",
            "description_width": "",
            "_view_module": "@jupyter-widgets/base",
            "_model_module_version": "1.5.0",
            "_view_count": null,
            "_view_module_version": "1.2.0",
            "_model_module": "@jupyter-widgets/controls"
          }
        },
        "d8af36c7711249d8b72b6e36efb6d142": {
          "model_module": "@jupyter-widgets/base",
          "model_name": "LayoutModel",
          "model_module_version": "1.2.0",
          "state": {
            "_view_name": "LayoutView",
            "grid_template_rows": null,
            "right": null,
            "justify_content": null,
            "_view_module": "@jupyter-widgets/base",
            "overflow": null,
            "_model_module_version": "1.2.0",
            "_view_count": null,
            "flex_flow": null,
            "width": null,
            "min_width": null,
            "border": null,
            "align_items": null,
            "bottom": null,
            "_model_module": "@jupyter-widgets/base",
            "top": null,
            "grid_column": null,
            "overflow_y": null,
            "overflow_x": null,
            "grid_auto_flow": null,
            "grid_area": null,
            "grid_template_columns": null,
            "flex": null,
            "_model_name": "LayoutModel",
            "justify_items": null,
            "grid_row": null,
            "max_height": null,
            "align_content": null,
            "visibility": null,
            "align_self": null,
            "height": null,
            "min_height": null,
            "padding": null,
            "grid_auto_rows": null,
            "grid_gap": null,
            "max_width": null,
            "order": null,
            "_view_module_version": "1.2.0",
            "grid_template_areas": null,
            "object_position": null,
            "object_fit": null,
            "grid_auto_columns": null,
            "margin": null,
            "display": null,
            "left": null
          }
        }
      }
    }
  },
  "cells": [
    {
      "cell_type": "markdown",
      "metadata": {
        "id": "view-in-github",
        "colab_type": "text"
      },
      "source": [
        "<a href=\"https://colab.research.google.com/github/HCelante/Machine_Learning/blob/main/Titanic.ipynb\" target=\"_parent\"><img src=\"https://colab.research.google.com/assets/colab-badge.svg\" alt=\"Open In Colab\"/></a>"
      ]
    },
    {
      "cell_type": "markdown",
      "source": [
        "Importações"
      ],
      "metadata": {
        "id": "HETFp2nXhSrN"
      }
    },
    {
      "cell_type": "code",
      "execution_count": null,
      "metadata": {
        "id": "ka-dr52UhBh3"
      },
      "outputs": [],
      "source": [
        "import pandas as pd\n",
        "from sklearn.feature_extraction.text import CountVectorizer\n",
        "from sklearn.model_selection import train_test_split\n",
        "from sklearn.linear_model import LogisticRegression\n",
        "from sklearn.metrics import accuracy_score\n",
        "import matplotlib.pyplot as plt\n",
        "import numpy as np\n",
        "from sklearn.metrics import f1_score\n",
        "import seaborn as sns\n",
        "from sklearn.neighbors import KNeighborsClassifier\n",
        "import matplotlib.pyplot as plt\n",
        "from sklearn import svm, datasets\n",
        "%matplotlib inline"
      ]
    },
    {
      "cell_type": "markdown",
      "source": [
        "Importando Dataset"
      ],
      "metadata": {
        "id": "Vpfub6ADhgxj"
      }
    },
    {
      "cell_type": "code",
      "source": [
        "from google.colab import drive\n",
        "drive.mount('/content/drive')\n",
        "train = pd.read_csv('/content/drive/My Drive/Colab Notebooks/train.csv')"
      ],
      "metadata": {
        "colab": {
          "base_uri": "https://localhost:8080/"
        },
        "id": "Q7j0mgTmhZc7",
        "outputId": "9262e2d7-a355-44f4-9dff-20fb60075720"
      },
      "execution_count": null,
      "outputs": [
        {
          "output_type": "stream",
          "name": "stdout",
          "text": [
            "Drive already mounted at /content/drive; to attempt to forcibly remount, call drive.mount(\"/content/drive\", force_remount=True).\n"
          ]
        }
      ]
    },
    {
      "cell_type": "markdown",
      "source": [
        "##### Conhecendo o Dataset\n",
        "\n",
        "1. PassengerId (numérico) – este atributo é simplesmente um identificador do passageiro na base de\n",
        "dados. Provavelmente este atributo não deve ser usado como um atributo de entrada!\n",
        "2. Pclass (numérico) – classe do bilhete. Este atributo pode ser visto como um proxy para o status\n",
        "sócio-econômico do passageiro: 1=primeira classe (rico), 2=segunda classe (classe média) e 3=terceira\n",
        "classe (pobre).\n",
        "3. Name (string) – nome do passageiro.\n",
        "4. Sex (categórico) – gênero do passageiro: male(masculino), female(feminino).\n",
        "5. Age (numérico) – idade do passageiro (em anos).\n",
        "6. SubSp (numérico) – número de irmãos + cônjuges a bordo.\n",
        "7. Parch (numérico) – número de pais + filhos a bordo.\n",
        "8. Ticket (string) – identificação do bilhete.\n",
        "9. Fare (numérico) – preço pago pelo bilhete.\n",
        "10. Cabin (string) – número da cabine que o passageiro ficou.\n",
        "11. Embarked (categórico) – porto de embarque do passageiro: C=Cherbourg, Q=Queenstown,\n",
        "S=Southampton."
      ],
      "metadata": {
        "id": "ZsJhOrjJh62J"
      }
    },
    {
      "cell_type": "code",
      "source": [
        "bkp = train\n",
        "print(train.shape)\n",
        "train"
      ],
      "metadata": {
        "colab": {
          "base_uri": "https://localhost:8080/",
          "height": 441
        },
        "id": "WXO-8XCBhikj",
        "outputId": "6576e32d-3e4f-483e-f5e7-1a898e7c16f5"
      },
      "execution_count": null,
      "outputs": [
        {
          "output_type": "stream",
          "name": "stdout",
          "text": [
            "(891, 12)\n"
          ]
        },
        {
          "output_type": "execute_result",
          "data": {
            "text/html": [
              "\n",
              "  <div id=\"df-b025c934-8d98-465a-a3db-45dd6c3451f4\">\n",
              "    <div class=\"colab-df-container\">\n",
              "      <div>\n",
              "<style scoped>\n",
              "    .dataframe tbody tr th:only-of-type {\n",
              "        vertical-align: middle;\n",
              "    }\n",
              "\n",
              "    .dataframe tbody tr th {\n",
              "        vertical-align: top;\n",
              "    }\n",
              "\n",
              "    .dataframe thead th {\n",
              "        text-align: right;\n",
              "    }\n",
              "</style>\n",
              "<table border=\"1\" class=\"dataframe\">\n",
              "  <thead>\n",
              "    <tr style=\"text-align: right;\">\n",
              "      <th></th>\n",
              "      <th>PassengerId</th>\n",
              "      <th>Survived</th>\n",
              "      <th>Pclass</th>\n",
              "      <th>Name</th>\n",
              "      <th>Sex</th>\n",
              "      <th>Age</th>\n",
              "      <th>SibSp</th>\n",
              "      <th>Parch</th>\n",
              "      <th>Ticket</th>\n",
              "      <th>Fare</th>\n",
              "      <th>Cabin</th>\n",
              "      <th>Embarked</th>\n",
              "    </tr>\n",
              "  </thead>\n",
              "  <tbody>\n",
              "    <tr>\n",
              "      <th>0</th>\n",
              "      <td>1</td>\n",
              "      <td>0</td>\n",
              "      <td>3</td>\n",
              "      <td>Braund, Mr. Owen Harris</td>\n",
              "      <td>male</td>\n",
              "      <td>22.0</td>\n",
              "      <td>1</td>\n",
              "      <td>0</td>\n",
              "      <td>A/5 21171</td>\n",
              "      <td>7.2500</td>\n",
              "      <td>NaN</td>\n",
              "      <td>S</td>\n",
              "    </tr>\n",
              "    <tr>\n",
              "      <th>1</th>\n",
              "      <td>2</td>\n",
              "      <td>1</td>\n",
              "      <td>1</td>\n",
              "      <td>Cumings, Mrs. John Bradley (Florence Briggs Th...</td>\n",
              "      <td>female</td>\n",
              "      <td>38.0</td>\n",
              "      <td>1</td>\n",
              "      <td>0</td>\n",
              "      <td>PC 17599</td>\n",
              "      <td>71.2833</td>\n",
              "      <td>C85</td>\n",
              "      <td>C</td>\n",
              "    </tr>\n",
              "    <tr>\n",
              "      <th>2</th>\n",
              "      <td>3</td>\n",
              "      <td>1</td>\n",
              "      <td>3</td>\n",
              "      <td>Heikkinen, Miss. Laina</td>\n",
              "      <td>female</td>\n",
              "      <td>26.0</td>\n",
              "      <td>0</td>\n",
              "      <td>0</td>\n",
              "      <td>STON/O2. 3101282</td>\n",
              "      <td>7.9250</td>\n",
              "      <td>NaN</td>\n",
              "      <td>S</td>\n",
              "    </tr>\n",
              "    <tr>\n",
              "      <th>3</th>\n",
              "      <td>4</td>\n",
              "      <td>1</td>\n",
              "      <td>1</td>\n",
              "      <td>Futrelle, Mrs. Jacques Heath (Lily May Peel)</td>\n",
              "      <td>female</td>\n",
              "      <td>35.0</td>\n",
              "      <td>1</td>\n",
              "      <td>0</td>\n",
              "      <td>113803</td>\n",
              "      <td>53.1000</td>\n",
              "      <td>C123</td>\n",
              "      <td>S</td>\n",
              "    </tr>\n",
              "    <tr>\n",
              "      <th>4</th>\n",
              "      <td>5</td>\n",
              "      <td>0</td>\n",
              "      <td>3</td>\n",
              "      <td>Allen, Mr. William Henry</td>\n",
              "      <td>male</td>\n",
              "      <td>35.0</td>\n",
              "      <td>0</td>\n",
              "      <td>0</td>\n",
              "      <td>373450</td>\n",
              "      <td>8.0500</td>\n",
              "      <td>NaN</td>\n",
              "      <td>S</td>\n",
              "    </tr>\n",
              "    <tr>\n",
              "      <th>...</th>\n",
              "      <td>...</td>\n",
              "      <td>...</td>\n",
              "      <td>...</td>\n",
              "      <td>...</td>\n",
              "      <td>...</td>\n",
              "      <td>...</td>\n",
              "      <td>...</td>\n",
              "      <td>...</td>\n",
              "      <td>...</td>\n",
              "      <td>...</td>\n",
              "      <td>...</td>\n",
              "      <td>...</td>\n",
              "    </tr>\n",
              "    <tr>\n",
              "      <th>886</th>\n",
              "      <td>887</td>\n",
              "      <td>0</td>\n",
              "      <td>2</td>\n",
              "      <td>Montvila, Rev. Juozas</td>\n",
              "      <td>male</td>\n",
              "      <td>27.0</td>\n",
              "      <td>0</td>\n",
              "      <td>0</td>\n",
              "      <td>211536</td>\n",
              "      <td>13.0000</td>\n",
              "      <td>NaN</td>\n",
              "      <td>S</td>\n",
              "    </tr>\n",
              "    <tr>\n",
              "      <th>887</th>\n",
              "      <td>888</td>\n",
              "      <td>1</td>\n",
              "      <td>1</td>\n",
              "      <td>Graham, Miss. Margaret Edith</td>\n",
              "      <td>female</td>\n",
              "      <td>19.0</td>\n",
              "      <td>0</td>\n",
              "      <td>0</td>\n",
              "      <td>112053</td>\n",
              "      <td>30.0000</td>\n",
              "      <td>B42</td>\n",
              "      <td>S</td>\n",
              "    </tr>\n",
              "    <tr>\n",
              "      <th>888</th>\n",
              "      <td>889</td>\n",
              "      <td>0</td>\n",
              "      <td>3</td>\n",
              "      <td>Johnston, Miss. Catherine Helen \"Carrie\"</td>\n",
              "      <td>female</td>\n",
              "      <td>NaN</td>\n",
              "      <td>1</td>\n",
              "      <td>2</td>\n",
              "      <td>W./C. 6607</td>\n",
              "      <td>23.4500</td>\n",
              "      <td>NaN</td>\n",
              "      <td>S</td>\n",
              "    </tr>\n",
              "    <tr>\n",
              "      <th>889</th>\n",
              "      <td>890</td>\n",
              "      <td>1</td>\n",
              "      <td>1</td>\n",
              "      <td>Behr, Mr. Karl Howell</td>\n",
              "      <td>male</td>\n",
              "      <td>26.0</td>\n",
              "      <td>0</td>\n",
              "      <td>0</td>\n",
              "      <td>111369</td>\n",
              "      <td>30.0000</td>\n",
              "      <td>C148</td>\n",
              "      <td>C</td>\n",
              "    </tr>\n",
              "    <tr>\n",
              "      <th>890</th>\n",
              "      <td>891</td>\n",
              "      <td>0</td>\n",
              "      <td>3</td>\n",
              "      <td>Dooley, Mr. Patrick</td>\n",
              "      <td>male</td>\n",
              "      <td>32.0</td>\n",
              "      <td>0</td>\n",
              "      <td>0</td>\n",
              "      <td>370376</td>\n",
              "      <td>7.7500</td>\n",
              "      <td>NaN</td>\n",
              "      <td>Q</td>\n",
              "    </tr>\n",
              "  </tbody>\n",
              "</table>\n",
              "<p>891 rows × 12 columns</p>\n",
              "</div>\n",
              "      <button class=\"colab-df-convert\" onclick=\"convertToInteractive('df-b025c934-8d98-465a-a3db-45dd6c3451f4')\"\n",
              "              title=\"Convert this dataframe to an interactive table.\"\n",
              "              style=\"display:none;\">\n",
              "        \n",
              "  <svg xmlns=\"http://www.w3.org/2000/svg\" height=\"24px\"viewBox=\"0 0 24 24\"\n",
              "       width=\"24px\">\n",
              "    <path d=\"M0 0h24v24H0V0z\" fill=\"none\"/>\n",
              "    <path d=\"M18.56 5.44l.94 2.06.94-2.06 2.06-.94-2.06-.94-.94-2.06-.94 2.06-2.06.94zm-11 1L8.5 8.5l.94-2.06 2.06-.94-2.06-.94L8.5 2.5l-.94 2.06-2.06.94zm10 10l.94 2.06.94-2.06 2.06-.94-2.06-.94-.94-2.06-.94 2.06-2.06.94z\"/><path d=\"M17.41 7.96l-1.37-1.37c-.4-.4-.92-.59-1.43-.59-.52 0-1.04.2-1.43.59L10.3 9.45l-7.72 7.72c-.78.78-.78 2.05 0 2.83L4 21.41c.39.39.9.59 1.41.59.51 0 1.02-.2 1.41-.59l7.78-7.78 2.81-2.81c.8-.78.8-2.07 0-2.86zM5.41 20L4 18.59l7.72-7.72 1.47 1.35L5.41 20z\"/>\n",
              "  </svg>\n",
              "      </button>\n",
              "      \n",
              "  <style>\n",
              "    .colab-df-container {\n",
              "      display:flex;\n",
              "      flex-wrap:wrap;\n",
              "      gap: 12px;\n",
              "    }\n",
              "\n",
              "    .colab-df-convert {\n",
              "      background-color: #E8F0FE;\n",
              "      border: none;\n",
              "      border-radius: 50%;\n",
              "      cursor: pointer;\n",
              "      display: none;\n",
              "      fill: #1967D2;\n",
              "      height: 32px;\n",
              "      padding: 0 0 0 0;\n",
              "      width: 32px;\n",
              "    }\n",
              "\n",
              "    .colab-df-convert:hover {\n",
              "      background-color: #E2EBFA;\n",
              "      box-shadow: 0px 1px 2px rgba(60, 64, 67, 0.3), 0px 1px 3px 1px rgba(60, 64, 67, 0.15);\n",
              "      fill: #174EA6;\n",
              "    }\n",
              "\n",
              "    [theme=dark] .colab-df-convert {\n",
              "      background-color: #3B4455;\n",
              "      fill: #D2E3FC;\n",
              "    }\n",
              "\n",
              "    [theme=dark] .colab-df-convert:hover {\n",
              "      background-color: #434B5C;\n",
              "      box-shadow: 0px 1px 3px 1px rgba(0, 0, 0, 0.15);\n",
              "      filter: drop-shadow(0px 1px 2px rgba(0, 0, 0, 0.3));\n",
              "      fill: #FFFFFF;\n",
              "    }\n",
              "  </style>\n",
              "\n",
              "      <script>\n",
              "        const buttonEl =\n",
              "          document.querySelector('#df-b025c934-8d98-465a-a3db-45dd6c3451f4 button.colab-df-convert');\n",
              "        buttonEl.style.display =\n",
              "          google.colab.kernel.accessAllowed ? 'block' : 'none';\n",
              "\n",
              "        async function convertToInteractive(key) {\n",
              "          const element = document.querySelector('#df-b025c934-8d98-465a-a3db-45dd6c3451f4');\n",
              "          const dataTable =\n",
              "            await google.colab.kernel.invokeFunction('convertToInteractive',\n",
              "                                                     [key], {});\n",
              "          if (!dataTable) return;\n",
              "\n",
              "          const docLinkHtml = 'Like what you see? Visit the ' +\n",
              "            '<a target=\"_blank\" href=https://colab.research.google.com/notebooks/data_table.ipynb>data table notebook</a>'\n",
              "            + ' to learn more about interactive tables.';\n",
              "          element.innerHTML = '';\n",
              "          dataTable['output_type'] = 'display_data';\n",
              "          await google.colab.output.renderOutput(dataTable, element);\n",
              "          const docLink = document.createElement('div');\n",
              "          docLink.innerHTML = docLinkHtml;\n",
              "          element.appendChild(docLink);\n",
              "        }\n",
              "      </script>\n",
              "    </div>\n",
              "  </div>\n",
              "  "
            ],
            "text/plain": [
              "     PassengerId  Survived  Pclass  ...     Fare Cabin  Embarked\n",
              "0              1         0       3  ...   7.2500   NaN         S\n",
              "1              2         1       1  ...  71.2833   C85         C\n",
              "2              3         1       3  ...   7.9250   NaN         S\n",
              "3              4         1       1  ...  53.1000  C123         S\n",
              "4              5         0       3  ...   8.0500   NaN         S\n",
              "..           ...       ...     ...  ...      ...   ...       ...\n",
              "886          887         0       2  ...  13.0000   NaN         S\n",
              "887          888         1       1  ...  30.0000   B42         S\n",
              "888          889         0       3  ...  23.4500   NaN         S\n",
              "889          890         1       1  ...  30.0000  C148         C\n",
              "890          891         0       3  ...   7.7500   NaN         Q\n",
              "\n",
              "[891 rows x 12 columns]"
            ]
          },
          "metadata": {},
          "execution_count": 118
        }
      ]
    },
    {
      "cell_type": "code",
      "source": [
        "train.describe()"
      ],
      "metadata": {
        "colab": {
          "base_uri": "https://localhost:8080/",
          "height": 300
        },
        "id": "oxl2TRA9mZQ8",
        "outputId": "d50a90c5-247c-408f-aa44-377840205f69"
      },
      "execution_count": null,
      "outputs": [
        {
          "output_type": "execute_result",
          "data": {
            "text/html": [
              "\n",
              "  <div id=\"df-053cd943-067b-4b3d-9fbe-02a6d5a81245\">\n",
              "    <div class=\"colab-df-container\">\n",
              "      <div>\n",
              "<style scoped>\n",
              "    .dataframe tbody tr th:only-of-type {\n",
              "        vertical-align: middle;\n",
              "    }\n",
              "\n",
              "    .dataframe tbody tr th {\n",
              "        vertical-align: top;\n",
              "    }\n",
              "\n",
              "    .dataframe thead th {\n",
              "        text-align: right;\n",
              "    }\n",
              "</style>\n",
              "<table border=\"1\" class=\"dataframe\">\n",
              "  <thead>\n",
              "    <tr style=\"text-align: right;\">\n",
              "      <th></th>\n",
              "      <th>PassengerId</th>\n",
              "      <th>Survived</th>\n",
              "      <th>Pclass</th>\n",
              "      <th>Age</th>\n",
              "      <th>SibSp</th>\n",
              "      <th>Parch</th>\n",
              "      <th>Fare</th>\n",
              "    </tr>\n",
              "  </thead>\n",
              "  <tbody>\n",
              "    <tr>\n",
              "      <th>count</th>\n",
              "      <td>891.000000</td>\n",
              "      <td>891.000000</td>\n",
              "      <td>891.000000</td>\n",
              "      <td>714.000000</td>\n",
              "      <td>891.000000</td>\n",
              "      <td>891.000000</td>\n",
              "      <td>891.000000</td>\n",
              "    </tr>\n",
              "    <tr>\n",
              "      <th>mean</th>\n",
              "      <td>446.000000</td>\n",
              "      <td>0.383838</td>\n",
              "      <td>2.308642</td>\n",
              "      <td>29.699118</td>\n",
              "      <td>0.523008</td>\n",
              "      <td>0.381594</td>\n",
              "      <td>32.204208</td>\n",
              "    </tr>\n",
              "    <tr>\n",
              "      <th>std</th>\n",
              "      <td>257.353842</td>\n",
              "      <td>0.486592</td>\n",
              "      <td>0.836071</td>\n",
              "      <td>14.526497</td>\n",
              "      <td>1.102743</td>\n",
              "      <td>0.806057</td>\n",
              "      <td>49.693429</td>\n",
              "    </tr>\n",
              "    <tr>\n",
              "      <th>min</th>\n",
              "      <td>1.000000</td>\n",
              "      <td>0.000000</td>\n",
              "      <td>1.000000</td>\n",
              "      <td>0.420000</td>\n",
              "      <td>0.000000</td>\n",
              "      <td>0.000000</td>\n",
              "      <td>0.000000</td>\n",
              "    </tr>\n",
              "    <tr>\n",
              "      <th>25%</th>\n",
              "      <td>223.500000</td>\n",
              "      <td>0.000000</td>\n",
              "      <td>2.000000</td>\n",
              "      <td>20.125000</td>\n",
              "      <td>0.000000</td>\n",
              "      <td>0.000000</td>\n",
              "      <td>7.910400</td>\n",
              "    </tr>\n",
              "    <tr>\n",
              "      <th>50%</th>\n",
              "      <td>446.000000</td>\n",
              "      <td>0.000000</td>\n",
              "      <td>3.000000</td>\n",
              "      <td>28.000000</td>\n",
              "      <td>0.000000</td>\n",
              "      <td>0.000000</td>\n",
              "      <td>14.454200</td>\n",
              "    </tr>\n",
              "    <tr>\n",
              "      <th>75%</th>\n",
              "      <td>668.500000</td>\n",
              "      <td>1.000000</td>\n",
              "      <td>3.000000</td>\n",
              "      <td>38.000000</td>\n",
              "      <td>1.000000</td>\n",
              "      <td>0.000000</td>\n",
              "      <td>31.000000</td>\n",
              "    </tr>\n",
              "    <tr>\n",
              "      <th>max</th>\n",
              "      <td>891.000000</td>\n",
              "      <td>1.000000</td>\n",
              "      <td>3.000000</td>\n",
              "      <td>80.000000</td>\n",
              "      <td>8.000000</td>\n",
              "      <td>6.000000</td>\n",
              "      <td>512.329200</td>\n",
              "    </tr>\n",
              "  </tbody>\n",
              "</table>\n",
              "</div>\n",
              "      <button class=\"colab-df-convert\" onclick=\"convertToInteractive('df-053cd943-067b-4b3d-9fbe-02a6d5a81245')\"\n",
              "              title=\"Convert this dataframe to an interactive table.\"\n",
              "              style=\"display:none;\">\n",
              "        \n",
              "  <svg xmlns=\"http://www.w3.org/2000/svg\" height=\"24px\"viewBox=\"0 0 24 24\"\n",
              "       width=\"24px\">\n",
              "    <path d=\"M0 0h24v24H0V0z\" fill=\"none\"/>\n",
              "    <path d=\"M18.56 5.44l.94 2.06.94-2.06 2.06-.94-2.06-.94-.94-2.06-.94 2.06-2.06.94zm-11 1L8.5 8.5l.94-2.06 2.06-.94-2.06-.94L8.5 2.5l-.94 2.06-2.06.94zm10 10l.94 2.06.94-2.06 2.06-.94-2.06-.94-.94-2.06-.94 2.06-2.06.94z\"/><path d=\"M17.41 7.96l-1.37-1.37c-.4-.4-.92-.59-1.43-.59-.52 0-1.04.2-1.43.59L10.3 9.45l-7.72 7.72c-.78.78-.78 2.05 0 2.83L4 21.41c.39.39.9.59 1.41.59.51 0 1.02-.2 1.41-.59l7.78-7.78 2.81-2.81c.8-.78.8-2.07 0-2.86zM5.41 20L4 18.59l7.72-7.72 1.47 1.35L5.41 20z\"/>\n",
              "  </svg>\n",
              "      </button>\n",
              "      \n",
              "  <style>\n",
              "    .colab-df-container {\n",
              "      display:flex;\n",
              "      flex-wrap:wrap;\n",
              "      gap: 12px;\n",
              "    }\n",
              "\n",
              "    .colab-df-convert {\n",
              "      background-color: #E8F0FE;\n",
              "      border: none;\n",
              "      border-radius: 50%;\n",
              "      cursor: pointer;\n",
              "      display: none;\n",
              "      fill: #1967D2;\n",
              "      height: 32px;\n",
              "      padding: 0 0 0 0;\n",
              "      width: 32px;\n",
              "    }\n",
              "\n",
              "    .colab-df-convert:hover {\n",
              "      background-color: #E2EBFA;\n",
              "      box-shadow: 0px 1px 2px rgba(60, 64, 67, 0.3), 0px 1px 3px 1px rgba(60, 64, 67, 0.15);\n",
              "      fill: #174EA6;\n",
              "    }\n",
              "\n",
              "    [theme=dark] .colab-df-convert {\n",
              "      background-color: #3B4455;\n",
              "      fill: #D2E3FC;\n",
              "    }\n",
              "\n",
              "    [theme=dark] .colab-df-convert:hover {\n",
              "      background-color: #434B5C;\n",
              "      box-shadow: 0px 1px 3px 1px rgba(0, 0, 0, 0.15);\n",
              "      filter: drop-shadow(0px 1px 2px rgba(0, 0, 0, 0.3));\n",
              "      fill: #FFFFFF;\n",
              "    }\n",
              "  </style>\n",
              "\n",
              "      <script>\n",
              "        const buttonEl =\n",
              "          document.querySelector('#df-053cd943-067b-4b3d-9fbe-02a6d5a81245 button.colab-df-convert');\n",
              "        buttonEl.style.display =\n",
              "          google.colab.kernel.accessAllowed ? 'block' : 'none';\n",
              "\n",
              "        async function convertToInteractive(key) {\n",
              "          const element = document.querySelector('#df-053cd943-067b-4b3d-9fbe-02a6d5a81245');\n",
              "          const dataTable =\n",
              "            await google.colab.kernel.invokeFunction('convertToInteractive',\n",
              "                                                     [key], {});\n",
              "          if (!dataTable) return;\n",
              "\n",
              "          const docLinkHtml = 'Like what you see? Visit the ' +\n",
              "            '<a target=\"_blank\" href=https://colab.research.google.com/notebooks/data_table.ipynb>data table notebook</a>'\n",
              "            + ' to learn more about interactive tables.';\n",
              "          element.innerHTML = '';\n",
              "          dataTable['output_type'] = 'display_data';\n",
              "          await google.colab.output.renderOutput(dataTable, element);\n",
              "          const docLink = document.createElement('div');\n",
              "          docLink.innerHTML = docLinkHtml;\n",
              "          element.appendChild(docLink);\n",
              "        }\n",
              "      </script>\n",
              "    </div>\n",
              "  </div>\n",
              "  "
            ],
            "text/plain": [
              "       PassengerId    Survived      Pclass  ...       SibSp       Parch        Fare\n",
              "count   891.000000  891.000000  891.000000  ...  891.000000  891.000000  891.000000\n",
              "mean    446.000000    0.383838    2.308642  ...    0.523008    0.381594   32.204208\n",
              "std     257.353842    0.486592    0.836071  ...    1.102743    0.806057   49.693429\n",
              "min       1.000000    0.000000    1.000000  ...    0.000000    0.000000    0.000000\n",
              "25%     223.500000    0.000000    2.000000  ...    0.000000    0.000000    7.910400\n",
              "50%     446.000000    0.000000    3.000000  ...    0.000000    0.000000   14.454200\n",
              "75%     668.500000    1.000000    3.000000  ...    1.000000    0.000000   31.000000\n",
              "max     891.000000    1.000000    3.000000  ...    8.000000    6.000000  512.329200\n",
              "\n",
              "[8 rows x 7 columns]"
            ]
          },
          "metadata": {},
          "execution_count": 119
        }
      ]
    },
    {
      "cell_type": "markdown",
      "source": [
        "### Tratando valores nulos"
      ],
      "metadata": {
        "id": "kAQx3ILRifD8"
      }
    },
    {
      "cell_type": "code",
      "source": [
        "train.isnull().sum()"
      ],
      "metadata": {
        "colab": {
          "base_uri": "https://localhost:8080/"
        },
        "id": "gemhE6cWihm0",
        "outputId": "4f2606a8-7be3-4515-ec67-b33e3f52a56d"
      },
      "execution_count": null,
      "outputs": [
        {
          "output_type": "execute_result",
          "data": {
            "text/plain": [
              "PassengerId      0\n",
              "Survived         0\n",
              "Pclass           0\n",
              "Name             0\n",
              "Sex              0\n",
              "Age            177\n",
              "SibSp            0\n",
              "Parch            0\n",
              "Ticket           0\n",
              "Fare             0\n",
              "Cabin          687\n",
              "Embarked         2\n",
              "dtype: int64"
            ]
          },
          "metadata": {},
          "execution_count": 120
        }
      ]
    },
    {
      "cell_type": "markdown",
      "source": [
        "A quantidade de valores nulos para a coluna Cabine é muito alto se comparado ao número total de registros, então decidi retirá-lo"
      ],
      "metadata": {
        "id": "8gSXtN8timsc"
      }
    },
    {
      "cell_type": "code",
      "source": [
        "train.drop('Cabin',\n",
        "  axis='columns', inplace=True)"
      ],
      "metadata": {
        "id": "hY_gXBDzkAjd"
      },
      "execution_count": null,
      "outputs": []
    },
    {
      "cell_type": "markdown",
      "source": [
        "A coluna Idade e Embarcado não tem muitos valores nulos, então para relações que envolvem a idade, decidi dropar as linhas nulas"
      ],
      "metadata": {
        "id": "Kag8Xg2ikPcg"
      }
    },
    {
      "cell_type": "code",
      "source": [
        "age_drop = train.dropna()\n"
      ],
      "metadata": {
        "id": "F3r_nTTEmiAw"
      },
      "execution_count": null,
      "outputs": []
    },
    {
      "cell_type": "code",
      "source": [
        "print(age_drop.shape)\n",
        "age_drop.isnull().sum()\n"
      ],
      "metadata": {
        "colab": {
          "base_uri": "https://localhost:8080/"
        },
        "id": "fh0twmaNniZn",
        "outputId": "0dfaa4db-8fdf-44fc-eb02-538774824e09"
      },
      "execution_count": null,
      "outputs": [
        {
          "output_type": "stream",
          "name": "stdout",
          "text": [
            "(712, 11)\n"
          ]
        },
        {
          "output_type": "execute_result",
          "data": {
            "text/plain": [
              "PassengerId    0\n",
              "Survived       0\n",
              "Pclass         0\n",
              "Name           0\n",
              "Sex            0\n",
              "Age            0\n",
              "SibSp          0\n",
              "Parch          0\n",
              "Ticket         0\n",
              "Fare           0\n",
              "Embarked       0\n",
              "dtype: int64"
            ]
          },
          "metadata": {},
          "execution_count": 123
        }
      ]
    },
    {
      "cell_type": "markdown",
      "source": [
        "A coluna de nomes e id dos passageiros decidi remover em ambos os dataframes, pois por se tratar de nomes não serve como característica comum para generalizar os sobreviventes."
      ],
      "metadata": {
        "id": "yApTlkrMtnP9"
      }
    },
    {
      "cell_type": "code",
      "source": [
        "train  = train.drop(columns=['Name','PassengerId' ])\n",
        "age_drop  = age_drop.drop(columns=['Name','PassengerId'])"
      ],
      "metadata": {
        "id": "JISSdcLAu3tc"
      },
      "execution_count": null,
      "outputs": []
    },
    {
      "cell_type": "markdown",
      "source": [
        "Ja para relações que não envolvem a idade, decidi excluir a coluna inteira. No caso das coluna Embarcado, decidi excluir o registro. "
      ],
      "metadata": {
        "id": "fZ4RB5h4pLiN"
      }
    },
    {
      "cell_type": "code",
      "source": [
        "print(\"\\nAntes ---\")\n",
        "print(train.isnull().sum())\n",
        "train  = train.drop(columns=['Age'])\n",
        "train = train.dropna()\n",
        "print(\"\\nDepois ---\")\n",
        "print(train.isnull().sum())"
      ],
      "metadata": {
        "colab": {
          "base_uri": "https://localhost:8080/"
        },
        "id": "2lRTViempUi6",
        "outputId": "5badab19-3f6d-4fb5-e9a4-d5235f1867a5"
      },
      "execution_count": null,
      "outputs": [
        {
          "output_type": "stream",
          "name": "stdout",
          "text": [
            "\n",
            "Antes ---\n",
            "Survived      0\n",
            "Pclass        0\n",
            "Sex           0\n",
            "Age         177\n",
            "SibSp         0\n",
            "Parch         0\n",
            "Ticket        0\n",
            "Fare          0\n",
            "Embarked      2\n",
            "dtype: int64\n",
            "\n",
            "Depois ---\n",
            "Survived    0\n",
            "Pclass      0\n",
            "Sex         0\n",
            "SibSp       0\n",
            "Parch       0\n",
            "Ticket      0\n",
            "Fare        0\n",
            "Embarked    0\n",
            "dtype: int64\n"
          ]
        }
      ]
    },
    {
      "cell_type": "markdown",
      "source": [
        "Em resumo, separei os dados em 2 Datasets:\n",
        "\n",
        "* age_drop = Registros nulos na coluna idade excluídos\n",
        "\n",
        "* train = Sem a coluna idade"
      ],
      "metadata": {
        "id": "Qnqp5QQnq1jk"
      }
    },
    {
      "cell_type": "markdown",
      "source": [
        "### Conversão dos atributos categóricos em atributos numéricos. \n",
        "A decisão para essa substituição foi arbitrária. Na ordem que eles aparecem, foi atribuído valores inteiros em ordem crescente. Os atributor não são ordinais"
      ],
      "metadata": {
        "id": "Nr5THJXKiVo8"
      }
    },
    {
      "cell_type": "code",
      "source": [
        "def replacer(df):\n",
        "  print(df.columns)\n",
        "  for column in ['Pclass', 'Sex', 'Ticket', 'Embarked']:\n",
        "    print(\"\\n\\n[+] Coluna: \", column, \"\\n [--] Valores unicos: \",df[column].unique())\n",
        "    dict_column = {}\n",
        "\n",
        "    cont = 0\n",
        "    for uniq in df[column].unique():\n",
        "      dict_column[uniq] = cont\n",
        "      cont += 1\n",
        "    print(\" [--] Substituído: \", dict_column)\n",
        "    df[column] = df[column].map(dict_column) "
      ],
      "metadata": {
        "id": "nrDg_v2_h_G9"
      },
      "execution_count": null,
      "outputs": []
    },
    {
      "cell_type": "code",
      "source": [
        "replacer(age_drop)\n",
        "replacer(train)\n"
      ],
      "metadata": {
        "colab": {
          "base_uri": "https://localhost:8080/"
        },
        "id": "sXtYalXCo6NO",
        "outputId": "1e37a174-ee39-4cc6-c202-6a9145c071c2"
      },
      "execution_count": null,
      "outputs": [
        {
          "output_type": "stream",
          "name": "stdout",
          "text": [
            "Index(['Survived', 'Pclass', 'Sex', 'Age', 'SibSp', 'Parch', 'Ticket', 'Fare',\n",
            "       'Embarked'],\n",
            "      dtype='object')\n",
            "\n",
            "\n",
            "[+] Coluna:  Pclass \n",
            " [--] Valores unicos:  [3 1 2]\n",
            " [--] Substituído:  {3: 0, 1: 1, 2: 2}\n",
            "\n",
            "\n",
            "[+] Coluna:  Sex \n",
            " [--] Valores unicos:  ['male' 'female']\n",
            " [--] Substituído:  {'male': 0, 'female': 1}\n",
            "\n",
            "\n",
            "[+] Coluna:  Ticket \n",
            " [--] Valores unicos:  ['A/5 21171' 'PC 17599' 'STON/O2. 3101282' '113803' '373450' '17463'\n",
            " '349909' '347742' '237736' 'PP 9549' '113783' 'A/5. 2151' '347082'\n",
            " '350406' '248706' '382652' '345763' '239865' '248698' '330923' '113788'\n",
            " '347077' '19950' 'PC 17601' 'C.A. 24579' 'PC 17604' '113789' 'A./5. 2152'\n",
            " '345764' '2651' '7546' '11668' 'SC/Paris 2123' '330958' '349237'\n",
            " '3101295' 'A/4. 39886' 'PC 17572' '2926' '113509' 'C.A. 31026' '2697'\n",
            " 'C.A. 34651' 'CA 2144' '2669' '36973' '347088' 'C.A. 29395' 'S.P. 3464'\n",
            " '3101281' '315151' 'C.A. 33111' 'S.O.C. 14879' '2680' '1601' '348123'\n",
            " '248738' '364516' '345767' '345779' '113059' 'SO/C 14885' '3101278'\n",
            " 'W./C. 6608' '343275' '343276' '347466' 'W.E.P. 5734' 'C.A. 2315'\n",
            " '364500' 'PC 17754' 'PC 17759' '231919' '244367' '349245' '35281' '7540'\n",
            " '3101276' '349207' '343120' '349249' '110465' '2665' '324669' '4136'\n",
            " '2627' 'STON/O 2. 3101294' '370369' 'PC 17558' '27267' 'C 17369' '347061'\n",
            " '349241' 'SOTON/O.Q. 3101307' 'A/5. 3337' '228414' 'C.A. 29178'\n",
            " 'SC/PARIS 2133' '11752' '7534' 'PC 17593' '347081' 'STON/O2. 3101279'\n",
            " '365222' '231945' 'C.A. 33112' '350043' '230080' '244310' 'S.O.P. 1166'\n",
            " '113776' 'A.5. 11206' 'A/5. 851' 'PC 17597' '35851' 'SOTON/OQ 392090'\n",
            " '371362' 'C.A. 33595' '347068' '315093' '363291' '111240'\n",
            " 'STON/O 2. 3101280' '17764' '350404' 'PC 17595' '250653' 'LINE' '230136'\n",
            " '315153' '111428' '364849' '349247' '234604' '28424' '350046' 'PC 17610'\n",
            " 'PC 17569' '4579' '248747' '345770' '3101264' '2628' 'A/5 3540' '347054'\n",
            " '2699' '367231' '112277' 'SOTON/O.Q. 3101311' 'F.C.C. 13528' 'A/5 21174'\n",
            " '250646' '35273' 'STON/O2. 3101283' '243847' '11813' 'W/C 14208'\n",
            " 'SOTON/OQ 392089' '220367' '21440' '19943' 'PP 4348' 'SW/PP 751'\n",
            " 'A/5 21173' '236171' '347067' '237442' 'C.A. 29566' '26707' 'C.A. 31921'\n",
            " '28665' 'SCO/W 1585' 'W./C. 14263' 'STON/O 2. 3101275' '2694' '19928'\n",
            " '347071' '250649' '11751' '244252' '113514' 'A/5. 3336' '370129' '2650'\n",
            " '110152' 'PC 17755' '230433' '110413' '112059' 'C.A. 17248' '347083'\n",
            " 'PC 17582' 'PC 17760' '250644' 'PC 17596' '13502' '347073' 'C.A. 2673'\n",
            " '336439' '347464' '345778' 'A/5. 10482' '349239' '345774' '349206'\n",
            " '237798' '370373' '19877' '11967' 'SC/Paris 2163' '349236' '349233'\n",
            " '2693' '113781' 'PC 17758' 'P/PP 3381' 'PC 17485' '11767' 'PC 17608'\n",
            " '250651' '349243' 'F.C.C. 13529' '347470' '29011' '36928' '16966'\n",
            " 'A/5 21172' '349219' '234818' '345364' '28551' '111361' '113043' '7598'\n",
            " '113784' '248740' '244361' '229236' '248733' '31418' 'C.A. 37671'\n",
            " '315088' '7267' '2695' '345783' '113505' '237671' 'SC/PARIS 2167' '2691'\n",
            " 'SOTON/O.Q. 3101310' 'C 7076' '110813' 'PC 17477' '11765' '3101267'\n",
            " '323951' 'C 7077' '113503' '2648' '347069' 'PC 17757' '2653'\n",
            " 'STON/O 2. 3101293' '27849' 'SC 1748' '113760' '350034' '3101277'\n",
            " '350052' '350407' '28403' '244278' '240929' 'STON/O 2. 3101289' '341826'\n",
            " '4137' '315096' '28664' '347064' '29106' '312992' 'STON/O 2. 3101269'\n",
            " '28220' '250652' '28228' '345773' 'A/5. 13032' '315082' '347080' '2003'\n",
            " '250655' 'SOTON/O.Q. 392078' '110564' 'SC/AH 3085' 'STON/O 2. 3101274'\n",
            " '13507' 'C.A. 18723' '345769' '347076' '230434' '33638' '113794' '2666'\n",
            " '113786' '113051' '17453' '349240' '13509' 'F.C.C. 13531' '19952'\n",
            " '364506' '111320' '234360' 'SOTON/O.Q. 3101306' '113792' '315089'\n",
            " 'SC/AH Basle 541' '7553' '31027' '3460' '350060' '3101298' 'A/5 3594'\n",
            " '4134' '11771' 'A.5. 18509' 'SOTON/OQ 3101317' '113787' 'PC 17609'\n",
            " 'A/4 45380' '36947' '350035' '315086' '364846' '4135' '26360' 'C 4001'\n",
            " '382651' 'PC 17473' 'PC 17603' '349209' '36967' 'C.A. 34260' '226875'\n",
            " '349242' '12749' '349252' '367232' 'W./C. 14258' '3101296' '29104' '2690'\n",
            " '315084' '113050' 'PC 17761' '13568' 'WE/P 5735' '2908' '693' '17421'\n",
            " '244358' '2620' '347085' '113807' '11755' '345572' '349251' '218629'\n",
            " 'A/4 48871' '349205' '350417' 'S.W./PP 752' '11769' 'PC 17474'\n",
            " 'A/4. 20589' '358585' '243880' 'STON/O 2. 3101286' '237789' '13049'\n",
            " '237565' '13567' '14973' 'STON/O 2. 3101273' 'A/5 3902' 'SC/AH 29037'\n",
            " '364511' '111426' '349910' '349246' '113804' '364512' '220845' '31028'\n",
            " '2659' '11753' '350029' '54636' '36963' '219533' '349224' '27042'\n",
            " '347743' '13214' '237668' 'STON/O 2. 3101292' '350050' '349231' '13213'\n",
            " 'CA. 2314' '8475' '365226' '29751' 'PC 17611' '2623' '5727' '349210'\n",
            " 'STON/O 2. 3101285' '234686' 'A/5 3536' '29750' 'F.C. 12750' 'C.A. 24580'\n",
            " '244270' '349912' '342826' '4138' '6563' '349228' '350036' '24160'\n",
            " '17474' '349256' '2672' '113800' '248731' '363592' '348121' 'PC 17475'\n",
            " '36864' '350025' '223596' 'PC 17476' 'PC 17482' '19996' '7545' '250647'\n",
            " '348124' '34218' '347062' '248727' '350048' '12233' '250643' '113806'\n",
            " '315094' '236853' 'STON/O2. 3101271' '28425' '233639' '376566'\n",
            " 'STON/O 2. 3101288' '250648' '113773' '335097' '29103' '392096' '345780'\n",
            " '349204' '350042' '29108' '363294' 'SOTON/O2 3101272' '2663' '347074'\n",
            " '364850' '8471' '345781' '350047' 'S.O./P.P. 3' '29105' '347078' '2687'\n",
            " '113501' 'SOTON/O.Q. 3101312' '374887' '3101265' '349203' '28213' '17465'\n",
            " '349244' '2685' '2625' '347089' '347063' '112050' '347087' '248723'\n",
            " '3474' '28206' '364499' 'STON/O2. 3101290' 'S.C./PARIS 2079' 'C 7075'\n",
            " '315098' '19972' '347468' '2223' 'PC 17756' '315097' 'SOTON/O2 3101287'\n",
            " '113798' '2683' '315090' 'C.A. 5547' '349213' '347060' '2678' 'PC 17592'\n",
            " '392091' '113055' '350026' '28134' '17466' '233866' '236852'\n",
            " 'SC/PARIS 2149' 'PC 17590' '349248' '695' '345765' '2667' '349212'\n",
            " '349257' '7552' 'C.A./SOTON 34068' 'SOTON/OQ 392076' '211536' '112053'\n",
            " '111369' '370376']\n",
            " [--] Substituído:  {'A/5 21171': 0, 'PC 17599': 1, 'STON/O2. 3101282': 2, '113803': 3, '373450': 4, '17463': 5, '349909': 6, '347742': 7, '237736': 8, 'PP 9549': 9, '113783': 10, 'A/5. 2151': 11, '347082': 12, '350406': 13, '248706': 14, '382652': 15, '345763': 16, '239865': 17, '248698': 18, '330923': 19, '113788': 20, '347077': 21, '19950': 22, 'PC 17601': 23, 'C.A. 24579': 24, 'PC 17604': 25, '113789': 26, 'A./5. 2152': 27, '345764': 28, '2651': 29, '7546': 30, '11668': 31, 'SC/Paris 2123': 32, '330958': 33, '349237': 34, '3101295': 35, 'A/4. 39886': 36, 'PC 17572': 37, '2926': 38, '113509': 39, 'C.A. 31026': 40, '2697': 41, 'C.A. 34651': 42, 'CA 2144': 43, '2669': 44, '36973': 45, '347088': 46, 'C.A. 29395': 47, 'S.P. 3464': 48, '3101281': 49, '315151': 50, 'C.A. 33111': 51, 'S.O.C. 14879': 52, '2680': 53, '1601': 54, '348123': 55, '248738': 56, '364516': 57, '345767': 58, '345779': 59, '113059': 60, 'SO/C 14885': 61, '3101278': 62, 'W./C. 6608': 63, '343275': 64, '343276': 65, '347466': 66, 'W.E.P. 5734': 67, 'C.A. 2315': 68, '364500': 69, 'PC 17754': 70, 'PC 17759': 71, '231919': 72, '244367': 73, '349245': 74, '35281': 75, '7540': 76, '3101276': 77, '349207': 78, '343120': 79, '349249': 80, '110465': 81, '2665': 82, '324669': 83, '4136': 84, '2627': 85, 'STON/O 2. 3101294': 86, '370369': 87, 'PC 17558': 88, '27267': 89, 'C 17369': 90, '347061': 91, '349241': 92, 'SOTON/O.Q. 3101307': 93, 'A/5. 3337': 94, '228414': 95, 'C.A. 29178': 96, 'SC/PARIS 2133': 97, '11752': 98, '7534': 99, 'PC 17593': 100, '347081': 101, 'STON/O2. 3101279': 102, '365222': 103, '231945': 104, 'C.A. 33112': 105, '350043': 106, '230080': 107, '244310': 108, 'S.O.P. 1166': 109, '113776': 110, 'A.5. 11206': 111, 'A/5. 851': 112, 'PC 17597': 113, '35851': 114, 'SOTON/OQ 392090': 115, '371362': 116, 'C.A. 33595': 117, '347068': 118, '315093': 119, '363291': 120, '111240': 121, 'STON/O 2. 3101280': 122, '17764': 123, '350404': 124, 'PC 17595': 125, '250653': 126, 'LINE': 127, '230136': 128, '315153': 129, '111428': 130, '364849': 131, '349247': 132, '234604': 133, '28424': 134, '350046': 135, 'PC 17610': 136, 'PC 17569': 137, '4579': 138, '248747': 139, '345770': 140, '3101264': 141, '2628': 142, 'A/5 3540': 143, '347054': 144, '2699': 145, '367231': 146, '112277': 147, 'SOTON/O.Q. 3101311': 148, 'F.C.C. 13528': 149, 'A/5 21174': 150, '250646': 151, '35273': 152, 'STON/O2. 3101283': 153, '243847': 154, '11813': 155, 'W/C 14208': 156, 'SOTON/OQ 392089': 157, '220367': 158, '21440': 159, '19943': 160, 'PP 4348': 161, 'SW/PP 751': 162, 'A/5 21173': 163, '236171': 164, '347067': 165, '237442': 166, 'C.A. 29566': 167, '26707': 168, 'C.A. 31921': 169, '28665': 170, 'SCO/W 1585': 171, 'W./C. 14263': 172, 'STON/O 2. 3101275': 173, '2694': 174, '19928': 175, '347071': 176, '250649': 177, '11751': 178, '244252': 179, '113514': 180, 'A/5. 3336': 181, '370129': 182, '2650': 183, '110152': 184, 'PC 17755': 185, '230433': 186, '110413': 187, '112059': 188, 'C.A. 17248': 189, '347083': 190, 'PC 17582': 191, 'PC 17760': 192, '250644': 193, 'PC 17596': 194, '13502': 195, '347073': 196, 'C.A. 2673': 197, '336439': 198, '347464': 199, '345778': 200, 'A/5. 10482': 201, '349239': 202, '345774': 203, '349206': 204, '237798': 205, '370373': 206, '19877': 207, '11967': 208, 'SC/Paris 2163': 209, '349236': 210, '349233': 211, '2693': 212, '113781': 213, 'PC 17758': 214, 'P/PP 3381': 215, 'PC 17485': 216, '11767': 217, 'PC 17608': 218, '250651': 219, '349243': 220, 'F.C.C. 13529': 221, '347470': 222, '29011': 223, '36928': 224, '16966': 225, 'A/5 21172': 226, '349219': 227, '234818': 228, '345364': 229, '28551': 230, '111361': 231, '113043': 232, '7598': 233, '113784': 234, '248740': 235, '244361': 236, '229236': 237, '248733': 238, '31418': 239, 'C.A. 37671': 240, '315088': 241, '7267': 242, '2695': 243, '345783': 244, '113505': 245, '237671': 246, 'SC/PARIS 2167': 247, '2691': 248, 'SOTON/O.Q. 3101310': 249, 'C 7076': 250, '110813': 251, 'PC 17477': 252, '11765': 253, '3101267': 254, '323951': 255, 'C 7077': 256, '113503': 257, '2648': 258, '347069': 259, 'PC 17757': 260, '2653': 261, 'STON/O 2. 3101293': 262, '27849': 263, 'SC 1748': 264, '113760': 265, '350034': 266, '3101277': 267, '350052': 268, '350407': 269, '28403': 270, '244278': 271, '240929': 272, 'STON/O 2. 3101289': 273, '341826': 274, '4137': 275, '315096': 276, '28664': 277, '347064': 278, '29106': 279, '312992': 280, 'STON/O 2. 3101269': 281, '28220': 282, '250652': 283, '28228': 284, '345773': 285, 'A/5. 13032': 286, '315082': 287, '347080': 288, '2003': 289, '250655': 290, 'SOTON/O.Q. 392078': 291, '110564': 292, 'SC/AH 3085': 293, 'STON/O 2. 3101274': 294, '13507': 295, 'C.A. 18723': 296, '345769': 297, '347076': 298, '230434': 299, '33638': 300, '113794': 301, '2666': 302, '113786': 303, '113051': 304, '17453': 305, '349240': 306, '13509': 307, 'F.C.C. 13531': 308, '19952': 309, '364506': 310, '111320': 311, '234360': 312, 'SOTON/O.Q. 3101306': 313, '113792': 314, '315089': 315, 'SC/AH Basle 541': 316, '7553': 317, '31027': 318, '3460': 319, '350060': 320, '3101298': 321, 'A/5 3594': 322, '4134': 323, '11771': 324, 'A.5. 18509': 325, 'SOTON/OQ 3101317': 326, '113787': 327, 'PC 17609': 328, 'A/4 45380': 329, '36947': 330, '350035': 331, '315086': 332, '364846': 333, '4135': 334, '26360': 335, 'C 4001': 336, '382651': 337, 'PC 17473': 338, 'PC 17603': 339, '349209': 340, '36967': 341, 'C.A. 34260': 342, '226875': 343, '349242': 344, '12749': 345, '349252': 346, '367232': 347, 'W./C. 14258': 348, '3101296': 349, '29104': 350, '2690': 351, '315084': 352, '113050': 353, 'PC 17761': 354, '13568': 355, 'WE/P 5735': 356, '2908': 357, '693': 358, '17421': 359, '244358': 360, '2620': 361, '347085': 362, '113807': 363, '11755': 364, '345572': 365, '349251': 366, '218629': 367, 'A/4 48871': 368, '349205': 369, '350417': 370, 'S.W./PP 752': 371, '11769': 372, 'PC 17474': 373, 'A/4. 20589': 374, '358585': 375, '243880': 376, 'STON/O 2. 3101286': 377, '237789': 378, '13049': 379, '237565': 380, '13567': 381, '14973': 382, 'STON/O 2. 3101273': 383, 'A/5 3902': 384, 'SC/AH 29037': 385, '364511': 386, '111426': 387, '349910': 388, '349246': 389, '113804': 390, '364512': 391, '220845': 392, '31028': 393, '2659': 394, '11753': 395, '350029': 396, '54636': 397, '36963': 398, '219533': 399, '349224': 400, '27042': 401, '347743': 402, '13214': 403, '237668': 404, 'STON/O 2. 3101292': 405, '350050': 406, '349231': 407, '13213': 408, 'CA. 2314': 409, '8475': 410, '365226': 411, '29751': 412, 'PC 17611': 413, '2623': 414, '5727': 415, '349210': 416, 'STON/O 2. 3101285': 417, '234686': 418, 'A/5 3536': 419, '29750': 420, 'F.C. 12750': 421, 'C.A. 24580': 422, '244270': 423, '349912': 424, '342826': 425, '4138': 426, '6563': 427, '349228': 428, '350036': 429, '24160': 430, '17474': 431, '349256': 432, '2672': 433, '113800': 434, '248731': 435, '363592': 436, '348121': 437, 'PC 17475': 438, '36864': 439, '350025': 440, '223596': 441, 'PC 17476': 442, 'PC 17482': 443, '19996': 444, '7545': 445, '250647': 446, '348124': 447, '34218': 448, '347062': 449, '248727': 450, '350048': 451, '12233': 452, '250643': 453, '113806': 454, '315094': 455, '236853': 456, 'STON/O2. 3101271': 457, '28425': 458, '233639': 459, '376566': 460, 'STON/O 2. 3101288': 461, '250648': 462, '113773': 463, '335097': 464, '29103': 465, '392096': 466, '345780': 467, '349204': 468, '350042': 469, '29108': 470, '363294': 471, 'SOTON/O2 3101272': 472, '2663': 473, '347074': 474, '364850': 475, '8471': 476, '345781': 477, '350047': 478, 'S.O./P.P. 3': 479, '29105': 480, '347078': 481, '2687': 482, '113501': 483, 'SOTON/O.Q. 3101312': 484, '374887': 485, '3101265': 486, '349203': 487, '28213': 488, '17465': 489, '349244': 490, '2685': 491, '2625': 492, '347089': 493, '347063': 494, '112050': 495, '347087': 496, '248723': 497, '3474': 498, '28206': 499, '364499': 500, 'STON/O2. 3101290': 501, 'S.C./PARIS 2079': 502, 'C 7075': 503, '315098': 504, '19972': 505, '347468': 506, '2223': 507, 'PC 17756': 508, '315097': 509, 'SOTON/O2 3101287': 510, '113798': 511, '2683': 512, '315090': 513, 'C.A. 5547': 514, '349213': 515, '347060': 516, '2678': 517, 'PC 17592': 518, '392091': 519, '113055': 520, '350026': 521, '28134': 522, '17466': 523, '233866': 524, '236852': 525, 'SC/PARIS 2149': 526, 'PC 17590': 527, '349248': 528, '695': 529, '345765': 530, '2667': 531, '349212': 532, '349257': 533, '7552': 534, 'C.A./SOTON 34068': 535, 'SOTON/OQ 392076': 536, '211536': 537, '112053': 538, '111369': 539, '370376': 540}\n",
            "\n",
            "\n",
            "[+] Coluna:  Embarked \n",
            " [--] Valores unicos:  ['S' 'C' 'Q']\n",
            " [--] Substituído:  {'S': 0, 'C': 1, 'Q': 2}\n",
            "Index(['Survived', 'Pclass', 'Sex', 'SibSp', 'Parch', 'Ticket', 'Fare',\n",
            "       'Embarked'],\n",
            "      dtype='object')\n",
            "\n",
            "\n",
            "[+] Coluna:  Pclass \n",
            " [--] Valores unicos:  [3 1 2]\n",
            " [--] Substituído:  {3: 0, 1: 1, 2: 2}\n",
            "\n",
            "\n",
            "[+] Coluna:  Sex \n",
            " [--] Valores unicos:  ['male' 'female']\n",
            " [--] Substituído:  {'male': 0, 'female': 1}\n",
            "\n",
            "\n",
            "[+] Coluna:  Ticket \n",
            " [--] Valores unicos:  ['A/5 21171' 'PC 17599' 'STON/O2. 3101282' '113803' '373450' '330877'\n",
            " '17463' '349909' '347742' '237736' 'PP 9549' '113783' 'A/5. 2151'\n",
            " '347082' '350406' '248706' '382652' '244373' '345763' '2649' '239865'\n",
            " '248698' '330923' '113788' '347077' '2631' '19950' '330959' '349216'\n",
            " 'PC 17601' 'PC 17569' '335677' 'C.A. 24579' 'PC 17604' '113789' '2677'\n",
            " 'A./5. 2152' '345764' '2651' '7546' '11668' '349253' 'SC/Paris 2123'\n",
            " '330958' 'S.C./A.4. 23567' '370371' '14311' '2662' '349237' '3101295'\n",
            " 'A/4. 39886' 'PC 17572' '2926' '113509' '19947' 'C.A. 31026' '2697'\n",
            " 'C.A. 34651' 'CA 2144' '2669' '36973' '347088' 'PC 17605' '2661'\n",
            " 'C.A. 29395' 'S.P. 3464' '3101281' '315151' 'C.A. 33111' 'S.O.C. 14879'\n",
            " '2680' '1601' '348123' '349208' '374746' '248738' '364516' '345767'\n",
            " '345779' '330932' '113059' 'SO/C 14885' '3101278' 'W./C. 6608'\n",
            " 'SOTON/OQ 392086' '343275' '343276' '347466' 'W.E.P. 5734' 'C.A. 2315'\n",
            " '364500' '374910' 'PC 17754' 'PC 17759' '231919' '244367' '349245'\n",
            " '349215' '35281' '7540' '3101276' '349207' '343120' '312991' '349249'\n",
            " '371110' '110465' '2665' '324669' '4136' '2627' 'STON/O 2. 3101294'\n",
            " '370369' 'PC 17558' 'A4. 54510' '27267' '370372' 'C 17369' '2668'\n",
            " '347061' '349241' 'SOTON/O.Q. 3101307' 'A/5. 3337' '228414' 'C.A. 29178'\n",
            " 'SC/PARIS 2133' '11752' '7534' 'PC 17593' '2678' '347081'\n",
            " 'STON/O2. 3101279' '365222' '231945' 'C.A. 33112' '350043' '230080'\n",
            " '244310' 'S.O.P. 1166' '113776' 'A.5. 11206' 'A/5. 851' 'Fa 265302'\n",
            " 'PC 17597' '35851' 'SOTON/OQ 392090' '315037' 'CA. 2343' '371362'\n",
            " 'C.A. 33595' '347068' '315093' '363291' '113505' 'PC 17318' '111240'\n",
            " 'STON/O 2. 3101280' '17764' '350404' '4133' 'PC 17595' '250653' 'LINE'\n",
            " 'SC/PARIS 2131' '230136' '315153' '113767' '370365' '111428' '364849'\n",
            " '349247' '234604' '28424' '350046' 'PC 17610' '368703' '4579' '370370'\n",
            " '248747' '345770' '3101264' '2628' 'A/5 3540' '347054' '2699' '367231'\n",
            " '112277' 'SOTON/O.Q. 3101311' 'F.C.C. 13528' 'A/5 21174' '250646'\n",
            " '367229' '35273' 'STON/O2. 3101283' '243847' '11813' 'W/C 14208'\n",
            " 'SOTON/OQ 392089' '220367' '21440' '349234' '19943' 'PP 4348' 'SW/PP 751'\n",
            " 'A/5 21173' '236171' '347067' '237442' 'C.A. 29566' 'W./C. 6609' '26707'\n",
            " 'C.A. 31921' '28665' 'SCO/W 1585' '367230' 'W./C. 14263'\n",
            " 'STON/O 2. 3101275' '2694' '19928' '347071' '250649' '11751' '244252'\n",
            " '362316' '113514' 'A/5. 3336' '370129' '2650' 'PC 17585' '110152'\n",
            " 'PC 17755' '230433' '384461' '110413' '112059' '382649' 'C.A. 17248'\n",
            " '347083' 'PC 17582' 'PC 17760' '113798' '250644' 'PC 17596' '370375'\n",
            " '13502' '347073' '239853' 'C.A. 2673' '336439' '347464' '345778'\n",
            " 'A/5. 10482' '113056' '349239' '345774' '349206' '237798' '370373'\n",
            " '19877' '11967' 'SC/Paris 2163' '349236' '349233' 'PC 17612' '2693'\n",
            " '113781' '19988' '9234' '367226' '226593' 'A/5 2466' '17421' 'PC 17758'\n",
            " 'P/PP 3381' 'PC 17485' '11767' 'PC 17608' '250651' '349243'\n",
            " 'F.C.C. 13529' '347470' '29011' '36928' '16966' 'A/5 21172' '349219'\n",
            " '234818' '345364' '28551' '111361' '113043' 'PC 17611' '349225' '7598'\n",
            " '113784' '248740' '244361' '229236' '248733' '31418' '386525'\n",
            " 'C.A. 37671' '315088' '7267' '113510' '2695' '2647' '345783' '237671'\n",
            " '330931' '330980' 'SC/PARIS 2167' '2691' 'SOTON/O.Q. 3101310' 'C 7076'\n",
            " '110813' '2626' '14313' 'PC 17477' '11765' '3101267' '323951' 'C 7077'\n",
            " '113503' '2648' '347069' 'PC 17757' '2653' 'STON/O 2. 3101293' '349227'\n",
            " '27849' '367655' 'SC 1748' '113760' '350034' '3101277' '350052' '350407'\n",
            " '28403' '244278' '240929' 'STON/O 2. 3101289' '341826' '4137' '315096'\n",
            " '28664' '347064' '29106' '312992' '349222' '394140' 'STON/O 2. 3101269'\n",
            " '343095' '28220' '250652' '28228' '345773' '349254' 'A/5. 13032' '315082'\n",
            " '347080' 'A/4. 34244' '2003' '250655' '364851' 'SOTON/O.Q. 392078'\n",
            " '110564' '376564' 'SC/AH 3085' 'STON/O 2. 3101274' '13507' 'C.A. 18723'\n",
            " '345769' '347076' '230434' '65306' '33638' '113794' '2666' '113786'\n",
            " '65303' '113051' '17453' 'A/5 2817' '349240' '13509' '17464'\n",
            " 'F.C.C. 13531' '371060' '19952' '364506' '111320' '234360' 'A/S 2816'\n",
            " 'SOTON/O.Q. 3101306' '113792' '36209' '323592' '315089' 'SC/AH Basle 541'\n",
            " '7553' '31027' '3460' '350060' '3101298' '239854' 'A/5 3594' '4134'\n",
            " '11771' 'A.5. 18509' '65304' 'SOTON/OQ 3101317' '113787' 'PC 17609'\n",
            " 'A/4 45380' '36947' 'C.A. 6212' '350035' '315086' '364846' '330909'\n",
            " '4135' '26360' '111427' 'C 4001' '382651' 'SOTON/OQ 3101316' 'PC 17473'\n",
            " 'PC 17603' '349209' '36967' 'C.A. 34260' '226875' '349242' '12749'\n",
            " '349252' '2624' '2700' '367232' 'W./C. 14258' 'PC 17483' '3101296'\n",
            " '29104' '2641' '2690' '315084' '113050' 'PC 17761' '364498' '13568'\n",
            " 'WE/P 5735' '2908' '693' 'SC/PARIS 2146' '244358' '330979' '2620'\n",
            " '347085' '113807' '11755' '345572' '372622' '349251' '218629'\n",
            " 'SOTON/OQ 392082' 'SOTON/O.Q. 392087' 'A/4 48871' '349205' '2686'\n",
            " '350417' 'S.W./PP 752' '11769' 'PC 17474' '14312' 'A/4. 20589' '358585'\n",
            " '243880' '2689' 'STON/O 2. 3101286' '237789' '13049' '3411' '237565'\n",
            " '13567' '14973' 'A./5. 3235' 'STON/O 2. 3101273' 'A/5 3902' '364848'\n",
            " 'SC/AH 29037' '248727' '2664' '349214' '113796' '364511' '111426'\n",
            " '349910' '349246' '113804' 'SOTON/O.Q. 3101305' '370377' '364512'\n",
            " '220845' '31028' '2659' '11753' '350029' '54636' '36963' '219533'\n",
            " '349224' '334912' '27042' '347743' '13214' '112052' '237668'\n",
            " 'STON/O 2. 3101292' '350050' '349231' '13213' 'S.O./P.P. 751' 'CA. 2314'\n",
            " '349221' '8475' '330919' '365226' '349223' '29751' '2623' '5727' '349210'\n",
            " 'STON/O 2. 3101285' '234686' '312993' 'A/5 3536' '19996' '29750'\n",
            " 'F.C. 12750' 'C.A. 24580' '244270' '239856' '349912' '342826' '4138'\n",
            " '330935' '6563' '349228' '350036' '24160' '17474' '349256' '2672'\n",
            " '113800' '248731' '363592' '35852' '348121' 'PC 17475' '36864' '350025'\n",
            " '223596' 'PC 17476' 'PC 17482' '113028' '7545' '250647' '348124' '34218'\n",
            " '36568' '347062' '350048' '12233' '250643' '113806' '315094' '36866'\n",
            " '236853' 'STON/O2. 3101271' '239855' '28425' '233639' '349201' '349218'\n",
            " '16988' '376566' 'STON/O 2. 3101288' '250648' '113773' '335097' '29103'\n",
            " '392096' '345780' '349204' '350042' '29108' '363294' 'SOTON/O2 3101272'\n",
            " '2663' '347074' '112379' '364850' '8471' '345781' '350047' 'S.O./P.P. 3'\n",
            " '2674' '29105' '347078' '383121' '36865' '2687' '113501' 'W./C. 6607'\n",
            " 'SOTON/O.Q. 3101312' '374887' '3101265' '12460' 'PC 17600' '349203'\n",
            " '28213' '17465' '349244' '2685' '2625' '347089' '347063' '112050'\n",
            " '347087' '248723' '3474' '28206' '364499' '112058' 'STON/O2. 3101290'\n",
            " 'S.C./PARIS 2079' 'C 7075' '315098' '19972' '368323' '367228' '2671'\n",
            " '347468' '2223' 'PC 17756' '315097' '392092' '11774' 'SOTON/O2 3101287'\n",
            " '2683' '315090' 'C.A. 5547' '349213' '347060' 'PC 17592' '392091'\n",
            " '113055' '2629' '350026' '28134' '17466' '233866' '236852'\n",
            " 'SC/PARIS 2149' 'PC 17590' '345777' '349248' '695' '345765' '2667'\n",
            " '349212' '349217' '349257' '7552' 'C.A./SOTON 34068' 'SOTON/OQ 392076'\n",
            " '211536' '112053' '111369' '370376']\n",
            " [--] Substituído:  {'A/5 21171': 0, 'PC 17599': 1, 'STON/O2. 3101282': 2, '113803': 3, '373450': 4, '330877': 5, '17463': 6, '349909': 7, '347742': 8, '237736': 9, 'PP 9549': 10, '113783': 11, 'A/5. 2151': 12, '347082': 13, '350406': 14, '248706': 15, '382652': 16, '244373': 17, '345763': 18, '2649': 19, '239865': 20, '248698': 21, '330923': 22, '113788': 23, '347077': 24, '2631': 25, '19950': 26, '330959': 27, '349216': 28, 'PC 17601': 29, 'PC 17569': 30, '335677': 31, 'C.A. 24579': 32, 'PC 17604': 33, '113789': 34, '2677': 35, 'A./5. 2152': 36, '345764': 37, '2651': 38, '7546': 39, '11668': 40, '349253': 41, 'SC/Paris 2123': 42, '330958': 43, 'S.C./A.4. 23567': 44, '370371': 45, '14311': 46, '2662': 47, '349237': 48, '3101295': 49, 'A/4. 39886': 50, 'PC 17572': 51, '2926': 52, '113509': 53, '19947': 54, 'C.A. 31026': 55, '2697': 56, 'C.A. 34651': 57, 'CA 2144': 58, '2669': 59, '36973': 60, '347088': 61, 'PC 17605': 62, '2661': 63, 'C.A. 29395': 64, 'S.P. 3464': 65, '3101281': 66, '315151': 67, 'C.A. 33111': 68, 'S.O.C. 14879': 69, '2680': 70, '1601': 71, '348123': 72, '349208': 73, '374746': 74, '248738': 75, '364516': 76, '345767': 77, '345779': 78, '330932': 79, '113059': 80, 'SO/C 14885': 81, '3101278': 82, 'W./C. 6608': 83, 'SOTON/OQ 392086': 84, '343275': 85, '343276': 86, '347466': 87, 'W.E.P. 5734': 88, 'C.A. 2315': 89, '364500': 90, '374910': 91, 'PC 17754': 92, 'PC 17759': 93, '231919': 94, '244367': 95, '349245': 96, '349215': 97, '35281': 98, '7540': 99, '3101276': 100, '349207': 101, '343120': 102, '312991': 103, '349249': 104, '371110': 105, '110465': 106, '2665': 107, '324669': 108, '4136': 109, '2627': 110, 'STON/O 2. 3101294': 111, '370369': 112, 'PC 17558': 113, 'A4. 54510': 114, '27267': 115, '370372': 116, 'C 17369': 117, '2668': 118, '347061': 119, '349241': 120, 'SOTON/O.Q. 3101307': 121, 'A/5. 3337': 122, '228414': 123, 'C.A. 29178': 124, 'SC/PARIS 2133': 125, '11752': 126, '7534': 127, 'PC 17593': 128, '2678': 129, '347081': 130, 'STON/O2. 3101279': 131, '365222': 132, '231945': 133, 'C.A. 33112': 134, '350043': 135, '230080': 136, '244310': 137, 'S.O.P. 1166': 138, '113776': 139, 'A.5. 11206': 140, 'A/5. 851': 141, 'Fa 265302': 142, 'PC 17597': 143, '35851': 144, 'SOTON/OQ 392090': 145, '315037': 146, 'CA. 2343': 147, '371362': 148, 'C.A. 33595': 149, '347068': 150, '315093': 151, '363291': 152, '113505': 153, 'PC 17318': 154, '111240': 155, 'STON/O 2. 3101280': 156, '17764': 157, '350404': 158, '4133': 159, 'PC 17595': 160, '250653': 161, 'LINE': 162, 'SC/PARIS 2131': 163, '230136': 164, '315153': 165, '113767': 166, '370365': 167, '111428': 168, '364849': 169, '349247': 170, '234604': 171, '28424': 172, '350046': 173, 'PC 17610': 174, '368703': 175, '4579': 176, '370370': 177, '248747': 178, '345770': 179, '3101264': 180, '2628': 181, 'A/5 3540': 182, '347054': 183, '2699': 184, '367231': 185, '112277': 186, 'SOTON/O.Q. 3101311': 187, 'F.C.C. 13528': 188, 'A/5 21174': 189, '250646': 190, '367229': 191, '35273': 192, 'STON/O2. 3101283': 193, '243847': 194, '11813': 195, 'W/C 14208': 196, 'SOTON/OQ 392089': 197, '220367': 198, '21440': 199, '349234': 200, '19943': 201, 'PP 4348': 202, 'SW/PP 751': 203, 'A/5 21173': 204, '236171': 205, '347067': 206, '237442': 207, 'C.A. 29566': 208, 'W./C. 6609': 209, '26707': 210, 'C.A. 31921': 211, '28665': 212, 'SCO/W 1585': 213, '367230': 214, 'W./C. 14263': 215, 'STON/O 2. 3101275': 216, '2694': 217, '19928': 218, '347071': 219, '250649': 220, '11751': 221, '244252': 222, '362316': 223, '113514': 224, 'A/5. 3336': 225, '370129': 226, '2650': 227, 'PC 17585': 228, '110152': 229, 'PC 17755': 230, '230433': 231, '384461': 232, '110413': 233, '112059': 234, '382649': 235, 'C.A. 17248': 236, '347083': 237, 'PC 17582': 238, 'PC 17760': 239, '113798': 240, '250644': 241, 'PC 17596': 242, '370375': 243, '13502': 244, '347073': 245, '239853': 246, 'C.A. 2673': 247, '336439': 248, '347464': 249, '345778': 250, 'A/5. 10482': 251, '113056': 252, '349239': 253, '345774': 254, '349206': 255, '237798': 256, '370373': 257, '19877': 258, '11967': 259, 'SC/Paris 2163': 260, '349236': 261, '349233': 262, 'PC 17612': 263, '2693': 264, '113781': 265, '19988': 266, '9234': 267, '367226': 268, '226593': 269, 'A/5 2466': 270, '17421': 271, 'PC 17758': 272, 'P/PP 3381': 273, 'PC 17485': 274, '11767': 275, 'PC 17608': 276, '250651': 277, '349243': 278, 'F.C.C. 13529': 279, '347470': 280, '29011': 281, '36928': 282, '16966': 283, 'A/5 21172': 284, '349219': 285, '234818': 286, '345364': 287, '28551': 288, '111361': 289, '113043': 290, 'PC 17611': 291, '349225': 292, '7598': 293, '113784': 294, '248740': 295, '244361': 296, '229236': 297, '248733': 298, '31418': 299, '386525': 300, 'C.A. 37671': 301, '315088': 302, '7267': 303, '113510': 304, '2695': 305, '2647': 306, '345783': 307, '237671': 308, '330931': 309, '330980': 310, 'SC/PARIS 2167': 311, '2691': 312, 'SOTON/O.Q. 3101310': 313, 'C 7076': 314, '110813': 315, '2626': 316, '14313': 317, 'PC 17477': 318, '11765': 319, '3101267': 320, '323951': 321, 'C 7077': 322, '113503': 323, '2648': 324, '347069': 325, 'PC 17757': 326, '2653': 327, 'STON/O 2. 3101293': 328, '349227': 329, '27849': 330, '367655': 331, 'SC 1748': 332, '113760': 333, '350034': 334, '3101277': 335, '350052': 336, '350407': 337, '28403': 338, '244278': 339, '240929': 340, 'STON/O 2. 3101289': 341, '341826': 342, '4137': 343, '315096': 344, '28664': 345, '347064': 346, '29106': 347, '312992': 348, '349222': 349, '394140': 350, 'STON/O 2. 3101269': 351, '343095': 352, '28220': 353, '250652': 354, '28228': 355, '345773': 356, '349254': 357, 'A/5. 13032': 358, '315082': 359, '347080': 360, 'A/4. 34244': 361, '2003': 362, '250655': 363, '364851': 364, 'SOTON/O.Q. 392078': 365, '110564': 366, '376564': 367, 'SC/AH 3085': 368, 'STON/O 2. 3101274': 369, '13507': 370, 'C.A. 18723': 371, '345769': 372, '347076': 373, '230434': 374, '65306': 375, '33638': 376, '113794': 377, '2666': 378, '113786': 379, '65303': 380, '113051': 381, '17453': 382, 'A/5 2817': 383, '349240': 384, '13509': 385, '17464': 386, 'F.C.C. 13531': 387, '371060': 388, '19952': 389, '364506': 390, '111320': 391, '234360': 392, 'A/S 2816': 393, 'SOTON/O.Q. 3101306': 394, '113792': 395, '36209': 396, '323592': 397, '315089': 398, 'SC/AH Basle 541': 399, '7553': 400, '31027': 401, '3460': 402, '350060': 403, '3101298': 404, '239854': 405, 'A/5 3594': 406, '4134': 407, '11771': 408, 'A.5. 18509': 409, '65304': 410, 'SOTON/OQ 3101317': 411, '113787': 412, 'PC 17609': 413, 'A/4 45380': 414, '36947': 415, 'C.A. 6212': 416, '350035': 417, '315086': 418, '364846': 419, '330909': 420, '4135': 421, '26360': 422, '111427': 423, 'C 4001': 424, '382651': 425, 'SOTON/OQ 3101316': 426, 'PC 17473': 427, 'PC 17603': 428, '349209': 429, '36967': 430, 'C.A. 34260': 431, '226875': 432, '349242': 433, '12749': 434, '349252': 435, '2624': 436, '2700': 437, '367232': 438, 'W./C. 14258': 439, 'PC 17483': 440, '3101296': 441, '29104': 442, '2641': 443, '2690': 444, '315084': 445, '113050': 446, 'PC 17761': 447, '364498': 448, '13568': 449, 'WE/P 5735': 450, '2908': 451, '693': 452, 'SC/PARIS 2146': 453, '244358': 454, '330979': 455, '2620': 456, '347085': 457, '113807': 458, '11755': 459, '345572': 460, '372622': 461, '349251': 462, '218629': 463, 'SOTON/OQ 392082': 464, 'SOTON/O.Q. 392087': 465, 'A/4 48871': 466, '349205': 467, '2686': 468, '350417': 469, 'S.W./PP 752': 470, '11769': 471, 'PC 17474': 472, '14312': 473, 'A/4. 20589': 474, '358585': 475, '243880': 476, '2689': 477, 'STON/O 2. 3101286': 478, '237789': 479, '13049': 480, '3411': 481, '237565': 482, '13567': 483, '14973': 484, 'A./5. 3235': 485, 'STON/O 2. 3101273': 486, 'A/5 3902': 487, '364848': 488, 'SC/AH 29037': 489, '248727': 490, '2664': 491, '349214': 492, '113796': 493, '364511': 494, '111426': 495, '349910': 496, '349246': 497, '113804': 498, 'SOTON/O.Q. 3101305': 499, '370377': 500, '364512': 501, '220845': 502, '31028': 503, '2659': 504, '11753': 505, '350029': 506, '54636': 507, '36963': 508, '219533': 509, '349224': 510, '334912': 511, '27042': 512, '347743': 513, '13214': 514, '112052': 515, '237668': 516, 'STON/O 2. 3101292': 517, '350050': 518, '349231': 519, '13213': 520, 'S.O./P.P. 751': 521, 'CA. 2314': 522, '349221': 523, '8475': 524, '330919': 525, '365226': 526, '349223': 527, '29751': 528, '2623': 529, '5727': 530, '349210': 531, 'STON/O 2. 3101285': 532, '234686': 533, '312993': 534, 'A/5 3536': 535, '19996': 536, '29750': 537, 'F.C. 12750': 538, 'C.A. 24580': 539, '244270': 540, '239856': 541, '349912': 542, '342826': 543, '4138': 544, '330935': 545, '6563': 546, '349228': 547, '350036': 548, '24160': 549, '17474': 550, '349256': 551, '2672': 552, '113800': 553, '248731': 554, '363592': 555, '35852': 556, '348121': 557, 'PC 17475': 558, '36864': 559, '350025': 560, '223596': 561, 'PC 17476': 562, 'PC 17482': 563, '113028': 564, '7545': 565, '250647': 566, '348124': 567, '34218': 568, '36568': 569, '347062': 570, '350048': 571, '12233': 572, '250643': 573, '113806': 574, '315094': 575, '36866': 576, '236853': 577, 'STON/O2. 3101271': 578, '239855': 579, '28425': 580, '233639': 581, '349201': 582, '349218': 583, '16988': 584, '376566': 585, 'STON/O 2. 3101288': 586, '250648': 587, '113773': 588, '335097': 589, '29103': 590, '392096': 591, '345780': 592, '349204': 593, '350042': 594, '29108': 595, '363294': 596, 'SOTON/O2 3101272': 597, '2663': 598, '347074': 599, '112379': 600, '364850': 601, '8471': 602, '345781': 603, '350047': 604, 'S.O./P.P. 3': 605, '2674': 606, '29105': 607, '347078': 608, '383121': 609, '36865': 610, '2687': 611, '113501': 612, 'W./C. 6607': 613, 'SOTON/O.Q. 3101312': 614, '374887': 615, '3101265': 616, '12460': 617, 'PC 17600': 618, '349203': 619, '28213': 620, '17465': 621, '349244': 622, '2685': 623, '2625': 624, '347089': 625, '347063': 626, '112050': 627, '347087': 628, '248723': 629, '3474': 630, '28206': 631, '364499': 632, '112058': 633, 'STON/O2. 3101290': 634, 'S.C./PARIS 2079': 635, 'C 7075': 636, '315098': 637, '19972': 638, '368323': 639, '367228': 640, '2671': 641, '347468': 642, '2223': 643, 'PC 17756': 644, '315097': 645, '392092': 646, '11774': 647, 'SOTON/O2 3101287': 648, '2683': 649, '315090': 650, 'C.A. 5547': 651, '349213': 652, '347060': 653, 'PC 17592': 654, '392091': 655, '113055': 656, '2629': 657, '350026': 658, '28134': 659, '17466': 660, '233866': 661, '236852': 662, 'SC/PARIS 2149': 663, 'PC 17590': 664, '345777': 665, '349248': 666, '695': 667, '345765': 668, '2667': 669, '349212': 670, '349217': 671, '349257': 672, '7552': 673, 'C.A./SOTON 34068': 674, 'SOTON/OQ 392076': 675, '211536': 676, '112053': 677, '111369': 678, '370376': 679}\n",
            "\n",
            "\n",
            "[+] Coluna:  Embarked \n",
            " [--] Valores unicos:  ['S' 'C' 'Q']\n",
            " [--] Substituído:  {'S': 0, 'C': 1, 'Q': 2}\n"
          ]
        }
      ]
    },
    {
      "cell_type": "markdown",
      "source": [
        "# 1. age_drop\n",
        "Neste trecho exploramos o Dataset age_drop"
      ],
      "metadata": {
        "id": "EG2TghBCPbBM"
      }
    },
    {
      "cell_type": "code",
      "source": [
        "age_drop.shape"
      ],
      "metadata": {
        "colab": {
          "base_uri": "https://localhost:8080/"
        },
        "id": "6zORltkqQCT1",
        "outputId": "c1a95628-6bc3-4e68-b67a-45aad0d3551c"
      },
      "execution_count": null,
      "outputs": [
        {
          "output_type": "execute_result",
          "data": {
            "text/plain": [
              "(712, 9)"
            ]
          },
          "metadata": {},
          "execution_count": 169
        }
      ]
    },
    {
      "cell_type": "code",
      "source": [
        "age_drop.head()"
      ],
      "metadata": {
        "colab": {
          "base_uri": "https://localhost:8080/",
          "height": 206
        },
        "id": "eAP0t-CWQGNd",
        "outputId": "b0ad1166-c9b6-4389-ed14-dc4ec6781539"
      },
      "execution_count": null,
      "outputs": [
        {
          "output_type": "execute_result",
          "data": {
            "text/html": [
              "\n",
              "  <div id=\"df-90c8ddd9-eda6-497f-9606-555b4a9e8906\">\n",
              "    <div class=\"colab-df-container\">\n",
              "      <div>\n",
              "<style scoped>\n",
              "    .dataframe tbody tr th:only-of-type {\n",
              "        vertical-align: middle;\n",
              "    }\n",
              "\n",
              "    .dataframe tbody tr th {\n",
              "        vertical-align: top;\n",
              "    }\n",
              "\n",
              "    .dataframe thead th {\n",
              "        text-align: right;\n",
              "    }\n",
              "</style>\n",
              "<table border=\"1\" class=\"dataframe\">\n",
              "  <thead>\n",
              "    <tr style=\"text-align: right;\">\n",
              "      <th></th>\n",
              "      <th>Survived</th>\n",
              "      <th>Pclass</th>\n",
              "      <th>Sex</th>\n",
              "      <th>Age</th>\n",
              "      <th>SibSp</th>\n",
              "      <th>Parch</th>\n",
              "      <th>Ticket</th>\n",
              "      <th>Fare</th>\n",
              "      <th>Embarked</th>\n",
              "    </tr>\n",
              "  </thead>\n",
              "  <tbody>\n",
              "    <tr>\n",
              "      <th>0</th>\n",
              "      <td>0</td>\n",
              "      <td>0</td>\n",
              "      <td>0</td>\n",
              "      <td>22.0</td>\n",
              "      <td>1</td>\n",
              "      <td>0</td>\n",
              "      <td>0</td>\n",
              "      <td>7.2500</td>\n",
              "      <td>0</td>\n",
              "    </tr>\n",
              "    <tr>\n",
              "      <th>1</th>\n",
              "      <td>1</td>\n",
              "      <td>1</td>\n",
              "      <td>1</td>\n",
              "      <td>38.0</td>\n",
              "      <td>1</td>\n",
              "      <td>0</td>\n",
              "      <td>1</td>\n",
              "      <td>71.2833</td>\n",
              "      <td>1</td>\n",
              "    </tr>\n",
              "    <tr>\n",
              "      <th>2</th>\n",
              "      <td>1</td>\n",
              "      <td>0</td>\n",
              "      <td>1</td>\n",
              "      <td>26.0</td>\n",
              "      <td>0</td>\n",
              "      <td>0</td>\n",
              "      <td>2</td>\n",
              "      <td>7.9250</td>\n",
              "      <td>0</td>\n",
              "    </tr>\n",
              "    <tr>\n",
              "      <th>3</th>\n",
              "      <td>1</td>\n",
              "      <td>1</td>\n",
              "      <td>1</td>\n",
              "      <td>35.0</td>\n",
              "      <td>1</td>\n",
              "      <td>0</td>\n",
              "      <td>3</td>\n",
              "      <td>53.1000</td>\n",
              "      <td>0</td>\n",
              "    </tr>\n",
              "    <tr>\n",
              "      <th>4</th>\n",
              "      <td>0</td>\n",
              "      <td>0</td>\n",
              "      <td>0</td>\n",
              "      <td>35.0</td>\n",
              "      <td>0</td>\n",
              "      <td>0</td>\n",
              "      <td>4</td>\n",
              "      <td>8.0500</td>\n",
              "      <td>0</td>\n",
              "    </tr>\n",
              "  </tbody>\n",
              "</table>\n",
              "</div>\n",
              "      <button class=\"colab-df-convert\" onclick=\"convertToInteractive('df-90c8ddd9-eda6-497f-9606-555b4a9e8906')\"\n",
              "              title=\"Convert this dataframe to an interactive table.\"\n",
              "              style=\"display:none;\">\n",
              "        \n",
              "  <svg xmlns=\"http://www.w3.org/2000/svg\" height=\"24px\"viewBox=\"0 0 24 24\"\n",
              "       width=\"24px\">\n",
              "    <path d=\"M0 0h24v24H0V0z\" fill=\"none\"/>\n",
              "    <path d=\"M18.56 5.44l.94 2.06.94-2.06 2.06-.94-2.06-.94-.94-2.06-.94 2.06-2.06.94zm-11 1L8.5 8.5l.94-2.06 2.06-.94-2.06-.94L8.5 2.5l-.94 2.06-2.06.94zm10 10l.94 2.06.94-2.06 2.06-.94-2.06-.94-.94-2.06-.94 2.06-2.06.94z\"/><path d=\"M17.41 7.96l-1.37-1.37c-.4-.4-.92-.59-1.43-.59-.52 0-1.04.2-1.43.59L10.3 9.45l-7.72 7.72c-.78.78-.78 2.05 0 2.83L4 21.41c.39.39.9.59 1.41.59.51 0 1.02-.2 1.41-.59l7.78-7.78 2.81-2.81c.8-.78.8-2.07 0-2.86zM5.41 20L4 18.59l7.72-7.72 1.47 1.35L5.41 20z\"/>\n",
              "  </svg>\n",
              "      </button>\n",
              "      \n",
              "  <style>\n",
              "    .colab-df-container {\n",
              "      display:flex;\n",
              "      flex-wrap:wrap;\n",
              "      gap: 12px;\n",
              "    }\n",
              "\n",
              "    .colab-df-convert {\n",
              "      background-color: #E8F0FE;\n",
              "      border: none;\n",
              "      border-radius: 50%;\n",
              "      cursor: pointer;\n",
              "      display: none;\n",
              "      fill: #1967D2;\n",
              "      height: 32px;\n",
              "      padding: 0 0 0 0;\n",
              "      width: 32px;\n",
              "    }\n",
              "\n",
              "    .colab-df-convert:hover {\n",
              "      background-color: #E2EBFA;\n",
              "      box-shadow: 0px 1px 2px rgba(60, 64, 67, 0.3), 0px 1px 3px 1px rgba(60, 64, 67, 0.15);\n",
              "      fill: #174EA6;\n",
              "    }\n",
              "\n",
              "    [theme=dark] .colab-df-convert {\n",
              "      background-color: #3B4455;\n",
              "      fill: #D2E3FC;\n",
              "    }\n",
              "\n",
              "    [theme=dark] .colab-df-convert:hover {\n",
              "      background-color: #434B5C;\n",
              "      box-shadow: 0px 1px 3px 1px rgba(0, 0, 0, 0.15);\n",
              "      filter: drop-shadow(0px 1px 2px rgba(0, 0, 0, 0.3));\n",
              "      fill: #FFFFFF;\n",
              "    }\n",
              "  </style>\n",
              "\n",
              "      <script>\n",
              "        const buttonEl =\n",
              "          document.querySelector('#df-90c8ddd9-eda6-497f-9606-555b4a9e8906 button.colab-df-convert');\n",
              "        buttonEl.style.display =\n",
              "          google.colab.kernel.accessAllowed ? 'block' : 'none';\n",
              "\n",
              "        async function convertToInteractive(key) {\n",
              "          const element = document.querySelector('#df-90c8ddd9-eda6-497f-9606-555b4a9e8906');\n",
              "          const dataTable =\n",
              "            await google.colab.kernel.invokeFunction('convertToInteractive',\n",
              "                                                     [key], {});\n",
              "          if (!dataTable) return;\n",
              "\n",
              "          const docLinkHtml = 'Like what you see? Visit the ' +\n",
              "            '<a target=\"_blank\" href=https://colab.research.google.com/notebooks/data_table.ipynb>data table notebook</a>'\n",
              "            + ' to learn more about interactive tables.';\n",
              "          element.innerHTML = '';\n",
              "          dataTable['output_type'] = 'display_data';\n",
              "          await google.colab.output.renderOutput(dataTable, element);\n",
              "          const docLink = document.createElement('div');\n",
              "          docLink.innerHTML = docLinkHtml;\n",
              "          element.appendChild(docLink);\n",
              "        }\n",
              "      </script>\n",
              "    </div>\n",
              "  </div>\n",
              "  "
            ],
            "text/plain": [
              "   Survived  Pclass  Sex   Age  SibSp  Parch  Ticket     Fare  Embarked\n",
              "0         0       0    0  22.0      1      0       0   7.2500         0\n",
              "1         1       1    1  38.0      1      0       1  71.2833         1\n",
              "2         1       0    1  26.0      0      0       2   7.9250         0\n",
              "3         1       1    1  35.0      1      0       3  53.1000         0\n",
              "4         0       0    0  35.0      0      0       4   8.0500         0"
            ]
          },
          "metadata": {},
          "execution_count": 170
        }
      ]
    },
    {
      "cell_type": "markdown",
      "source": [
        "Separando X e y"
      ],
      "metadata": {
        "id": "KlJcus56QMRK"
      }
    },
    {
      "cell_type": "code",
      "source": [
        "X = age_drop[['Pclass', 'Sex', 'Age', 'SibSp', 'Parch', 'Ticket', 'Fare','Embarked']]\n",
        "y = age_drop[['Survived']]"
      ],
      "metadata": {
        "id": "O3tEPKm0QPBt"
      },
      "execution_count": null,
      "outputs": []
    },
    {
      "cell_type": "markdown",
      "source": [
        "# PCA"
      ],
      "metadata": {
        "id": "eWpwivtpPMaT"
      }
    },
    {
      "cell_type": "code",
      "source": [
        "from sklearn.decomposition import PCA"
      ],
      "metadata": {
        "id": "lEXY2WWmtTfE"
      },
      "execution_count": null,
      "outputs": []
    },
    {
      "cell_type": "markdown",
      "source": [
        "instanciando o PCA, indicando o interesse em manter apenas os 2 primeiros componentes principais."
      ],
      "metadata": {
        "id": "MkBaSgZwPsL-"
      }
    },
    {
      "cell_type": "code",
      "source": [
        "pca = PCA(n_components=2)  \n",
        "pca.fit(X)"
      ],
      "metadata": {
        "colab": {
          "base_uri": "https://localhost:8080/"
        },
        "id": "NkqeGmzsPOC3",
        "outputId": "4edfa206-3ab8-4dde-f43b-6f041e696753"
      },
      "execution_count": null,
      "outputs": [
        {
          "output_type": "execute_result",
          "data": {
            "text/plain": [
              "PCA(n_components=2)"
            ]
          },
          "metadata": {},
          "execution_count": 173
        }
      ]
    },
    {
      "cell_type": "markdown",
      "source": [
        "Projetando os 8 atributos nos 2 componentes principais"
      ],
      "metadata": {
        "id": "QWYdLXfeQmMx"
      }
    },
    {
      "cell_type": "code",
      "source": [
        "X_pca = pca.transform(X)  \n",
        "X_pca_df = pd.DataFrame(X_pca, columns=['PC 0', 'PC 1'])\n",
        "print(\"Instâncias priginais: %s\\nInstâncias projetadas nos componentes principais: %s\" % (str(X.shape), str(X_pca_df.shape)))"
      ],
      "metadata": {
        "colab": {
          "base_uri": "https://localhost:8080/"
        },
        "id": "0yXaIjjEPVd0",
        "outputId": "506aae49-d527-4f0b-ae7c-c279c07a7169"
      },
      "execution_count": null,
      "outputs": [
        {
          "output_type": "stream",
          "name": "stdout",
          "text": [
            "Instâncias priginais: (712, 8)\n",
            "Instâncias projetadas nos componentes principais: (712, 2)\n"
          ]
        }
      ]
    },
    {
      "cell_type": "markdown",
      "source": [
        "Plotando os dados projetados nos componentes principais"
      ],
      "metadata": {
        "id": "n5TiJ3RmQ5wE"
      }
    },
    {
      "cell_type": "code",
      "source": [
        "y = np.array(y)\n",
        "y = y.reshape(712*1)\n",
        "y.shape"
      ],
      "metadata": {
        "colab": {
          "base_uri": "https://localhost:8080/"
        },
        "id": "_kkUSwJkRC-7",
        "outputId": "7b120c76-1caf-494b-f4a4-5b0379916f97"
      },
      "execution_count": null,
      "outputs": [
        {
          "output_type": "execute_result",
          "data": {
            "text/plain": [
              "(712,)"
            ]
          },
          "metadata": {},
          "execution_count": 175
        }
      ]
    },
    {
      "cell_type": "code",
      "source": [
        "sns.set_palette('seismic')\n",
        "sns.scatterplot(data=X_pca_df, x='PC 0', y='PC 1', hue=y, palette='Set1')"
      ],
      "metadata": {
        "colab": {
          "base_uri": "https://localhost:8080/",
          "height": 300
        },
        "id": "8RfCKbsKQjjX",
        "outputId": "09ad5e38-baf3-49c0-f508-ff6a7ce69b99"
      },
      "execution_count": null,
      "outputs": [
        {
          "output_type": "execute_result",
          "data": {
            "text/plain": [
              "<matplotlib.axes._subplots.AxesSubplot at 0x7fd1e99d74d0>"
            ]
          },
          "metadata": {},
          "execution_count": 176
        },
        {
          "output_type": "display_data",
          "data": {
            "image/png": "[encoded data removed]",
            "text/plain": [
              "<Figure size 432x288 with 1 Axes>"
            ]
          },
          "metadata": {
            "needs_background": "light"
          }
        }
      ]
    },
    {
      "cell_type": "markdown",
      "source": [
        "Observando a escala dos atributos"
      ],
      "metadata": {
        "id": "OgGU56p9TNxc"
      }
    },
    {
      "cell_type": "code",
      "source": [
        "age_drop.groupby('Survived').mean().transpose()"
      ],
      "metadata": {
        "colab": {
          "base_uri": "https://localhost:8080/",
          "height": 300
        },
        "id": "MCS2O0huTR_b",
        "outputId": "8ec81766-607d-406f-e03b-561f955b32c5"
      },
      "execution_count": null,
      "outputs": [
        {
          "output_type": "execute_result",
          "data": {
            "text/html": [
              "\n",
              "  <div id=\"df-66083d45-bc44-4f70-9737-65dc053357a1\">\n",
              "    <div class=\"colab-df-container\">\n",
              "      <div>\n",
              "<style scoped>\n",
              "    .dataframe tbody tr th:only-of-type {\n",
              "        vertical-align: middle;\n",
              "    }\n",
              "\n",
              "    .dataframe tbody tr th {\n",
              "        vertical-align: top;\n",
              "    }\n",
              "\n",
              "    .dataframe thead th {\n",
              "        text-align: right;\n",
              "    }\n",
              "</style>\n",
              "<table border=\"1\" class=\"dataframe\">\n",
              "  <thead>\n",
              "    <tr style=\"text-align: right;\">\n",
              "      <th>Survived</th>\n",
              "      <th>0</th>\n",
              "      <th>1</th>\n",
              "    </tr>\n",
              "  </thead>\n",
              "  <tbody>\n",
              "    <tr>\n",
              "      <th>Pclass</th>\n",
              "      <td>0.575472</td>\n",
              "      <td>0.993056</td>\n",
              "    </tr>\n",
              "    <tr>\n",
              "      <th>Sex</th>\n",
              "      <td>0.150943</td>\n",
              "      <td>0.677083</td>\n",
              "    </tr>\n",
              "    <tr>\n",
              "      <th>Age</th>\n",
              "      <td>30.626179</td>\n",
              "      <td>28.193299</td>\n",
              "    </tr>\n",
              "    <tr>\n",
              "      <th>SibSp</th>\n",
              "      <td>0.525943</td>\n",
              "      <td>0.496528</td>\n",
              "    </tr>\n",
              "    <tr>\n",
              "      <th>Parch</th>\n",
              "      <td>0.365566</td>\n",
              "      <td>0.531250</td>\n",
              "    </tr>\n",
              "    <tr>\n",
              "      <th>Ticket</th>\n",
              "      <td>243.266509</td>\n",
              "      <td>243.375000</td>\n",
              "    </tr>\n",
              "    <tr>\n",
              "      <th>Fare</th>\n",
              "      <td>22.965456</td>\n",
              "      <td>51.647672</td>\n",
              "    </tr>\n",
              "    <tr>\n",
              "      <th>Embarked</th>\n",
              "      <td>0.214623</td>\n",
              "      <td>0.329861</td>\n",
              "    </tr>\n",
              "  </tbody>\n",
              "</table>\n",
              "</div>\n",
              "      <button class=\"colab-df-convert\" onclick=\"convertToInteractive('df-66083d45-bc44-4f70-9737-65dc053357a1')\"\n",
              "              title=\"Convert this dataframe to an interactive table.\"\n",
              "              style=\"display:none;\">\n",
              "        \n",
              "  <svg xmlns=\"http://www.w3.org/2000/svg\" height=\"24px\"viewBox=\"0 0 24 24\"\n",
              "       width=\"24px\">\n",
              "    <path d=\"M0 0h24v24H0V0z\" fill=\"none\"/>\n",
              "    <path d=\"M18.56 5.44l.94 2.06.94-2.06 2.06-.94-2.06-.94-.94-2.06-.94 2.06-2.06.94zm-11 1L8.5 8.5l.94-2.06 2.06-.94-2.06-.94L8.5 2.5l-.94 2.06-2.06.94zm10 10l.94 2.06.94-2.06 2.06-.94-2.06-.94-.94-2.06-.94 2.06-2.06.94z\"/><path d=\"M17.41 7.96l-1.37-1.37c-.4-.4-.92-.59-1.43-.59-.52 0-1.04.2-1.43.59L10.3 9.45l-7.72 7.72c-.78.78-.78 2.05 0 2.83L4 21.41c.39.39.9.59 1.41.59.51 0 1.02-.2 1.41-.59l7.78-7.78 2.81-2.81c.8-.78.8-2.07 0-2.86zM5.41 20L4 18.59l7.72-7.72 1.47 1.35L5.41 20z\"/>\n",
              "  </svg>\n",
              "      </button>\n",
              "      \n",
              "  <style>\n",
              "    .colab-df-container {\n",
              "      display:flex;\n",
              "      flex-wrap:wrap;\n",
              "      gap: 12px;\n",
              "    }\n",
              "\n",
              "    .colab-df-convert {\n",
              "      background-color: #E8F0FE;\n",
              "      border: none;\n",
              "      border-radius: 50%;\n",
              "      cursor: pointer;\n",
              "      display: none;\n",
              "      fill: #1967D2;\n",
              "      height: 32px;\n",
              "      padding: 0 0 0 0;\n",
              "      width: 32px;\n",
              "    }\n",
              "\n",
              "    .colab-df-convert:hover {\n",
              "      background-color: #E2EBFA;\n",
              "      box-shadow: 0px 1px 2px rgba(60, 64, 67, 0.3), 0px 1px 3px 1px rgba(60, 64, 67, 0.15);\n",
              "      fill: #174EA6;\n",
              "    }\n",
              "\n",
              "    [theme=dark] .colab-df-convert {\n",
              "      background-color: #3B4455;\n",
              "      fill: #D2E3FC;\n",
              "    }\n",
              "\n",
              "    [theme=dark] .colab-df-convert:hover {\n",
              "      background-color: #434B5C;\n",
              "      box-shadow: 0px 1px 3px 1px rgba(0, 0, 0, 0.15);\n",
              "      filter: drop-shadow(0px 1px 2px rgba(0, 0, 0, 0.3));\n",
              "      fill: #FFFFFF;\n",
              "    }\n",
              "  </style>\n",
              "\n",
              "      <script>\n",
              "        const buttonEl =\n",
              "          document.querySelector('#df-66083d45-bc44-4f70-9737-65dc053357a1 button.colab-df-convert');\n",
              "        buttonEl.style.display =\n",
              "          google.colab.kernel.accessAllowed ? 'block' : 'none';\n",
              "\n",
              "        async function convertToInteractive(key) {\n",
              "          const element = document.querySelector('#df-66083d45-bc44-4f70-9737-65dc053357a1');\n",
              "          const dataTable =\n",
              "            await google.colab.kernel.invokeFunction('convertToInteractive',\n",
              "                                                     [key], {});\n",
              "          if (!dataTable) return;\n",
              "\n",
              "          const docLinkHtml = 'Like what you see? Visit the ' +\n",
              "            '<a target=\"_blank\" href=https://colab.research.google.com/notebooks/data_table.ipynb>data table notebook</a>'\n",
              "            + ' to learn more about interactive tables.';\n",
              "          element.innerHTML = '';\n",
              "          dataTable['output_type'] = 'display_data';\n",
              "          await google.colab.output.renderOutput(dataTable, element);\n",
              "          const docLink = document.createElement('div');\n",
              "          docLink.innerHTML = docLinkHtml;\n",
              "          element.appendChild(docLink);\n",
              "        }\n",
              "      </script>\n",
              "    </div>\n",
              "  </div>\n",
              "  "
            ],
            "text/plain": [
              "Survived           0           1\n",
              "Pclass      0.575472    0.993056\n",
              "Sex         0.150943    0.677083\n",
              "Age        30.626179   28.193299\n",
              "SibSp       0.525943    0.496528\n",
              "Parch       0.365566    0.531250\n",
              "Ticket    243.266509  243.375000\n",
              "Fare       22.965456   51.647672\n",
              "Embarked    0.214623    0.329861"
            ]
          },
          "metadata": {},
          "execution_count": 181
        }
      ]
    },
    {
      "cell_type": "markdown",
      "source": [
        "Verificando o peso dos componentes, fica claro que o ticket tem um peso bem diferente dos demais"
      ],
      "metadata": {
        "id": "C5qRxjKlTfbp"
      }
    },
    {
      "cell_type": "code",
      "source": [
        "fig, ax = plt.subplots(figsize=(8,4))\n",
        "ax.scatter(np.arange(len(X.columns)),pca.components_[0])\n",
        "ax.set_xticks(np.arange(len(X.columns)))\n",
        "ax.set_xticklabels(X.columns, rotation=90)\n",
        "plt.show()"
      ],
      "metadata": {
        "colab": {
          "base_uri": "https://localhost:8080/",
          "height": 306
        },
        "id": "NOQfKixxThfK",
        "outputId": "ec2f536e-6354-4218-a3cd-474c81a94958"
      },
      "execution_count": null,
      "outputs": [
        {
          "output_type": "display_data",
          "data": {
            "image/png": "[encoded data removed]",
            "text/plain": [
              "<Figure size 576x288 with 1 Axes>"
            ]
          },
          "metadata": {
            "needs_background": "light"
          }
        }
      ]
    },
    {
      "cell_type": "code",
      "source": [
        "X"
      ],
      "metadata": {
        "colab": {
          "base_uri": "https://localhost:8080/",
          "height": 424
        },
        "id": "rmd0-0i4Ttnn",
        "outputId": "87d461e2-96b6-44dc-dae4-e35bdcc50202"
      },
      "execution_count": null,
      "outputs": [
        {
          "output_type": "execute_result",
          "data": {
            "text/html": [
              "\n",
              "  <div id=\"df-6e5b8a05-b84a-44b0-81e8-9d3a30544ccb\">\n",
              "    <div class=\"colab-df-container\">\n",
              "      <div>\n",
              "<style scoped>\n",
              "    .dataframe tbody tr th:only-of-type {\n",
              "        vertical-align: middle;\n",
              "    }\n",
              "\n",
              "    .dataframe tbody tr th {\n",
              "        vertical-align: top;\n",
              "    }\n",
              "\n",
              "    .dataframe thead th {\n",
              "        text-align: right;\n",
              "    }\n",
              "</style>\n",
              "<table border=\"1\" class=\"dataframe\">\n",
              "  <thead>\n",
              "    <tr style=\"text-align: right;\">\n",
              "      <th></th>\n",
              "      <th>Pclass</th>\n",
              "      <th>Sex</th>\n",
              "      <th>Age</th>\n",
              "      <th>SibSp</th>\n",
              "      <th>Parch</th>\n",
              "      <th>Ticket</th>\n",
              "      <th>Fare</th>\n",
              "      <th>Embarked</th>\n",
              "    </tr>\n",
              "  </thead>\n",
              "  <tbody>\n",
              "    <tr>\n",
              "      <th>0</th>\n",
              "      <td>0</td>\n",
              "      <td>0</td>\n",
              "      <td>22.0</td>\n",
              "      <td>1</td>\n",
              "      <td>0</td>\n",
              "      <td>0</td>\n",
              "      <td>7.2500</td>\n",
              "      <td>0</td>\n",
              "    </tr>\n",
              "    <tr>\n",
              "      <th>1</th>\n",
              "      <td>1</td>\n",
              "      <td>1</td>\n",
              "      <td>38.0</td>\n",
              "      <td>1</td>\n",
              "      <td>0</td>\n",
              "      <td>1</td>\n",
              "      <td>71.2833</td>\n",
              "      <td>1</td>\n",
              "    </tr>\n",
              "    <tr>\n",
              "      <th>2</th>\n",
              "      <td>0</td>\n",
              "      <td>1</td>\n",
              "      <td>26.0</td>\n",
              "      <td>0</td>\n",
              "      <td>0</td>\n",
              "      <td>2</td>\n",
              "      <td>7.9250</td>\n",
              "      <td>0</td>\n",
              "    </tr>\n",
              "    <tr>\n",
              "      <th>3</th>\n",
              "      <td>1</td>\n",
              "      <td>1</td>\n",
              "      <td>35.0</td>\n",
              "      <td>1</td>\n",
              "      <td>0</td>\n",
              "      <td>3</td>\n",
              "      <td>53.1000</td>\n",
              "      <td>0</td>\n",
              "    </tr>\n",
              "    <tr>\n",
              "      <th>4</th>\n",
              "      <td>0</td>\n",
              "      <td>0</td>\n",
              "      <td>35.0</td>\n",
              "      <td>0</td>\n",
              "      <td>0</td>\n",
              "      <td>4</td>\n",
              "      <td>8.0500</td>\n",
              "      <td>0</td>\n",
              "    </tr>\n",
              "    <tr>\n",
              "      <th>...</th>\n",
              "      <td>...</td>\n",
              "      <td>...</td>\n",
              "      <td>...</td>\n",
              "      <td>...</td>\n",
              "      <td>...</td>\n",
              "      <td>...</td>\n",
              "      <td>...</td>\n",
              "      <td>...</td>\n",
              "    </tr>\n",
              "    <tr>\n",
              "      <th>885</th>\n",
              "      <td>0</td>\n",
              "      <td>1</td>\n",
              "      <td>39.0</td>\n",
              "      <td>0</td>\n",
              "      <td>5</td>\n",
              "      <td>15</td>\n",
              "      <td>29.1250</td>\n",
              "      <td>2</td>\n",
              "    </tr>\n",
              "    <tr>\n",
              "      <th>886</th>\n",
              "      <td>2</td>\n",
              "      <td>0</td>\n",
              "      <td>27.0</td>\n",
              "      <td>0</td>\n",
              "      <td>0</td>\n",
              "      <td>537</td>\n",
              "      <td>13.0000</td>\n",
              "      <td>0</td>\n",
              "    </tr>\n",
              "    <tr>\n",
              "      <th>887</th>\n",
              "      <td>1</td>\n",
              "      <td>1</td>\n",
              "      <td>19.0</td>\n",
              "      <td>0</td>\n",
              "      <td>0</td>\n",
              "      <td>538</td>\n",
              "      <td>30.0000</td>\n",
              "      <td>0</td>\n",
              "    </tr>\n",
              "    <tr>\n",
              "      <th>889</th>\n",
              "      <td>1</td>\n",
              "      <td>0</td>\n",
              "      <td>26.0</td>\n",
              "      <td>0</td>\n",
              "      <td>0</td>\n",
              "      <td>539</td>\n",
              "      <td>30.0000</td>\n",
              "      <td>1</td>\n",
              "    </tr>\n",
              "    <tr>\n",
              "      <th>890</th>\n",
              "      <td>0</td>\n",
              "      <td>0</td>\n",
              "      <td>32.0</td>\n",
              "      <td>0</td>\n",
              "      <td>0</td>\n",
              "      <td>540</td>\n",
              "      <td>7.7500</td>\n",
              "      <td>2</td>\n",
              "    </tr>\n",
              "  </tbody>\n",
              "</table>\n",
              "<p>712 rows × 8 columns</p>\n",
              "</div>\n",
              "      <button class=\"colab-df-convert\" onclick=\"convertToInteractive('df-6e5b8a05-b84a-44b0-81e8-9d3a30544ccb')\"\n",
              "              title=\"Convert this dataframe to an interactive table.\"\n",
              "              style=\"display:none;\">\n",
              "        \n",
              "  <svg xmlns=\"http://www.w3.org/2000/svg\" height=\"24px\"viewBox=\"0 0 24 24\"\n",
              "       width=\"24px\">\n",
              "    <path d=\"M0 0h24v24H0V0z\" fill=\"none\"/>\n",
              "    <path d=\"M18.56 5.44l.94 2.06.94-2.06 2.06-.94-2.06-.94-.94-2.06-.94 2.06-2.06.94zm-11 1L8.5 8.5l.94-2.06 2.06-.94-2.06-.94L8.5 2.5l-.94 2.06-2.06.94zm10 10l.94 2.06.94-2.06 2.06-.94-2.06-.94-.94-2.06-.94 2.06-2.06.94z\"/><path d=\"M17.41 7.96l-1.37-1.37c-.4-.4-.92-.59-1.43-.59-.52 0-1.04.2-1.43.59L10.3 9.45l-7.72 7.72c-.78.78-.78 2.05 0 2.83L4 21.41c.39.39.9.59 1.41.59.51 0 1.02-.2 1.41-.59l7.78-7.78 2.81-2.81c.8-.78.8-2.07 0-2.86zM5.41 20L4 18.59l7.72-7.72 1.47 1.35L5.41 20z\"/>\n",
              "  </svg>\n",
              "      </button>\n",
              "      \n",
              "  <style>\n",
              "    .colab-df-container {\n",
              "      display:flex;\n",
              "      flex-wrap:wrap;\n",
              "      gap: 12px;\n",
              "    }\n",
              "\n",
              "    .colab-df-convert {\n",
              "      background-color: #E8F0FE;\n",
              "      border: none;\n",
              "      border-radius: 50%;\n",
              "      cursor: pointer;\n",
              "      display: none;\n",
              "      fill: #1967D2;\n",
              "      height: 32px;\n",
              "      padding: 0 0 0 0;\n",
              "      width: 32px;\n",
              "    }\n",
              "\n",
              "    .colab-df-convert:hover {\n",
              "      background-color: #E2EBFA;\n",
              "      box-shadow: 0px 1px 2px rgba(60, 64, 67, 0.3), 0px 1px 3px 1px rgba(60, 64, 67, 0.15);\n",
              "      fill: #174EA6;\n",
              "    }\n",
              "\n",
              "    [theme=dark] .colab-df-convert {\n",
              "      background-color: #3B4455;\n",
              "      fill: #D2E3FC;\n",
              "    }\n",
              "\n",
              "    [theme=dark] .colab-df-convert:hover {\n",
              "      background-color: #434B5C;\n",
              "      box-shadow: 0px 1px 3px 1px rgba(0, 0, 0, 0.15);\n",
              "      filter: drop-shadow(0px 1px 2px rgba(0, 0, 0, 0.3));\n",
              "      fill: #FFFFFF;\n",
              "    }\n",
              "  </style>\n",
              "\n",
              "      <script>\n",
              "        const buttonEl =\n",
              "          document.querySelector('#df-6e5b8a05-b84a-44b0-81e8-9d3a30544ccb button.colab-df-convert');\n",
              "        buttonEl.style.display =\n",
              "          google.colab.kernel.accessAllowed ? 'block' : 'none';\n",
              "\n",
              "        async function convertToInteractive(key) {\n",
              "          const element = document.querySelector('#df-6e5b8a05-b84a-44b0-81e8-9d3a30544ccb');\n",
              "          const dataTable =\n",
              "            await google.colab.kernel.invokeFunction('convertToInteractive',\n",
              "                                                     [key], {});\n",
              "          if (!dataTable) return;\n",
              "\n",
              "          const docLinkHtml = 'Like what you see? Visit the ' +\n",
              "            '<a target=\"_blank\" href=https://colab.research.google.com/notebooks/data_table.ipynb>data table notebook</a>'\n",
              "            + ' to learn more about interactive tables.';\n",
              "          element.innerHTML = '';\n",
              "          dataTable['output_type'] = 'display_data';\n",
              "          await google.colab.output.renderOutput(dataTable, element);\n",
              "          const docLink = document.createElement('div');\n",
              "          docLink.innerHTML = docLinkHtml;\n",
              "          element.appendChild(docLink);\n",
              "        }\n",
              "      </script>\n",
              "    </div>\n",
              "  </div>\n",
              "  "
            ],
            "text/plain": [
              "     Pclass  Sex   Age  SibSp  Parch  Ticket     Fare  Embarked\n",
              "0         0    0  22.0      1      0       0   7.2500         0\n",
              "1         1    1  38.0      1      0       1  71.2833         1\n",
              "2         0    1  26.0      0      0       2   7.9250         0\n",
              "3         1    1  35.0      1      0       3  53.1000         0\n",
              "4         0    0  35.0      0      0       4   8.0500         0\n",
              "..      ...  ...   ...    ...    ...     ...      ...       ...\n",
              "885       0    1  39.0      0      5      15  29.1250         2\n",
              "886       2    0  27.0      0      0     537  13.0000         0\n",
              "887       1    1  19.0      0      0     538  30.0000         0\n",
              "889       1    0  26.0      0      0     539  30.0000         1\n",
              "890       0    0  32.0      0      0     540   7.7500         2\n",
              "\n",
              "[712 rows x 8 columns]"
            ]
          },
          "metadata": {},
          "execution_count": 183
        }
      ]
    },
    {
      "cell_type": "markdown",
      "source": [
        "Normalizando o dataset"
      ],
      "metadata": {
        "id": "CbzhbOkiSDQd"
      }
    },
    {
      "cell_type": "code",
      "source": [
        "from sklearn.preprocessing import StandardScaler\n",
        "ss = StandardScaler()  # instancia o StandardScaler\n",
        "ss.fit(X)              # estima a média e o desvio-padrão de todos atributos\n",
        "X_ss = ss.transform(X) # realiza a normalização z-score nos atributos"
      ],
      "metadata": {
        "id": "UPsBmBL-SBzZ"
      },
      "execution_count": null,
      "outputs": []
    },
    {
      "cell_type": "code",
      "source": [
        "#calcula o PCA com os atributos normalizados\n",
        "pca_ss = PCA(n_components=2)\n",
        "pca_ss.fit(X_ss)\n",
        "X_ss_pca = pca_ss.transform(X_ss)\n",
        "X_ss_pca_df = pd.DataFrame(X_ss_pca, columns=['PC 0', 'PC 1'])"
      ],
      "metadata": {
        "id": "c7EZBLWGSY0l"
      },
      "execution_count": null,
      "outputs": []
    },
    {
      "cell_type": "markdown",
      "source": [
        "Os pesos dos atributos em ambos componentes principais estão distribuídos. Isto nos dá a confiança que o PCA não está enviesado em nenhum atributo específico. Como estes componentes foram estimados com dados em mesma escala, sabemos que não há risco de enviesamento por conta de diferenças em escala."
      ],
      "metadata": {
        "id": "Kaq8nShsUbeX"
      }
    },
    {
      "cell_type": "code",
      "source": [
        "fig, ax = plt.subplots(figsize=(8,4), nrows=1, ncols=2)\n",
        "for idx, pc in enumerate(pca_ss.components_):\n",
        "    ax[idx].scatter(np.arange(len(X.columns)), pc)\n",
        "    ax[idx].set_xticks(np.arange(len(X.columns)))\n",
        "    ax[idx].set_xticklabels(X.columns, rotation=90)\n",
        "    ax[idx].set_title('PC %d' % (idx))\n",
        "plt.show()"
      ],
      "metadata": {
        "colab": {
          "base_uri": "https://localhost:8080/",
          "height": 322
        },
        "id": "QgbhJcIuSnK0",
        "outputId": "43164cb2-550f-4ed1-ba8a-badf71344c2f"
      },
      "execution_count": null,
      "outputs": [
        {
          "output_type": "display_data",
          "data": {
            "image/png": "[encoded data removed]",
            "text/plain": [
              "<Figure size 576x288 with 2 Axes>"
            ]
          },
          "metadata": {
            "needs_background": "light"
          }
        }
      ]
    },
    {
      "cell_type": "code",
      "source": [
        "sns.scatterplot(data=X_ss_pca_df, x='PC 0', y='PC 1', hue=y, palette='Set1')"
      ],
      "metadata": {
        "colab": {
          "base_uri": "https://localhost:8080/",
          "height": 296
        },
        "id": "X4uHDf86Q7Or",
        "outputId": "752c152b-1453-47e8-c17d-5dab8d8ac2c5"
      },
      "execution_count": null,
      "outputs": [
        {
          "output_type": "execute_result",
          "data": {
            "text/plain": [
              "<matplotlib.axes._subplots.AxesSubplot at 0x7fd1e955eed0>"
            ]
          },
          "metadata": {},
          "execution_count": 191
        },
        {
          "output_type": "display_data",
          "data": {
            "image/png": "[encoded data removed]",
            "text/plain": [
              "<Figure size 432x288 with 1 Axes>"
            ]
          },
          "metadata": {
            "needs_background": "light"
          }
        }
      ]
    },
    {
      "cell_type": "markdown",
      "source": [
        "Para verificar o quanto que a projeção do PCA representa os dados, decidi avaliar taxa de variância explicada pelos componentes principais usados na projeção."
      ],
      "metadata": {
        "id": "gS5s71eNUqKf"
      }
    },
    {
      "cell_type": "code",
      "source": [
        "pca_ss.explained_variance_ratio_, sum(pca_ss.explained_variance_ratio_)"
      ],
      "metadata": {
        "colab": {
          "base_uri": "https://localhost:8080/"
        },
        "id": "3R70_jHWUhFk",
        "outputId": "119747e2-753f-4953-e01d-eec040d4bea1"
      },
      "execution_count": null,
      "outputs": [
        {
          "output_type": "execute_result",
          "data": {
            "text/plain": [
              "(array([0.25106198, 0.17500655]), 0.4260685375731744)"
            ]
          },
          "metadata": {},
          "execution_count": 192
        }
      ]
    },
    {
      "cell_type": "markdown",
      "source": [
        "Os 2 primeiros componentes principais conseguem capturar 42% da variação dos dados. "
      ],
      "metadata": {
        "id": "nmlC_PisU8Vz"
      }
    },
    {
      "cell_type": "markdown",
      "source": [
        "# Validação Cruzada"
      ],
      "metadata": {
        "id": "3xYbxadyVYlE"
      }
    },
    {
      "cell_type": "code",
      "source": [
        "from sklearn.model_selection import train_test_split, StratifiedKFold"
      ],
      "metadata": {
        "id": "EWt10iKIVx1R"
      },
      "execution_count": null,
      "outputs": []
    },
    {
      "cell_type": "code",
      "source": [
        "def selecionar_melhor_k(ks, X_treino, X_val, y_treino, y_val):\n",
        "    acuracias_val = []\n",
        "\n",
        "    for k in ks:\n",
        "        knn = KNeighborsClassifier(n_neighbors=k)\n",
        "        knn.fit(X_treino, y_treino)\n",
        "        pred = knn.predict(X_val)\n",
        "        acuracias_val.append(accuracy_score(y_val, pred))\n",
        "        \n",
        "    melhor_val = max(acuracias_val)\n",
        "    melhor_k = ks[np.argmax(acuracias_val)]        \n",
        "    knn = KNeighborsClassifier(n_neighbors=melhor_k)\n",
        "    knn.fit(np.vstack((X_treino, X_val)), [*y_treino, *y_val])\n",
        "    \n",
        "    return knn, melhor_k, melhor_val"
      ],
      "metadata": {
        "id": "AbB3RjqJUxvS"
      },
      "execution_count": null,
      "outputs": []
    },
    {
      "cell_type": "code",
      "source": [
        "#a validação cruzada será realizada em 10 vias.\n",
        "k_vias = 10\n",
        "X = np.array(X)\n",
        "#usar o protocolo de validação cruzada estratificada\n",
        "skf = StratifiedKFold(n_splits=k_vias, shuffle=True, random_state=1)\n",
        "\n",
        "acuracias = []\n",
        "\n",
        "#a função split retorna os índices das instâncias que devem ser usadas para o treinamento e o teste.\n",
        "for idx_treino, idx_teste in skf.split(X, y):\n",
        "    \n",
        "    #extrair as instâncias de treinamento de acordo com os índices fornecidos pelo skf.split\n",
        "    X_treino = X[idx_treino]\n",
        "    y_treino = y[idx_treino]\n",
        "    \n",
        "    #extrair as instâncias de teste de acordo com os índices fornecidos pelo skf.split\n",
        "    X_teste = X[idx_teste]\n",
        "    y_teste = y[idx_teste]\n",
        "    \n",
        "    #separar as instâncias de treinamento entre treinamento e validação para a otimização do hiperparâmetro k\n",
        "    X_treino, X_val, y_treino, y_val = train_test_split(X_treino, y_treino, test_size=0.2, stratify=y_treino, shuffle=True, random_state=1)\n",
        "    \n",
        "    #colocar todas as variáveis na mesma escala, usando o conjunto de treinamento para calcular os parâmetros da escala\n",
        "    ss = StandardScaler()\n",
        "    ss.fit(X_treino)\n",
        "    X_treino = ss.transform(X_treino)\n",
        "    X_teste = ss.transform(X_teste)\n",
        "    X_val = ss.transform(X_val)\n",
        "\n",
        "    #escolher o k com o melhor resultado no conjunto de validação e treinar o KNN com o melhor k.\n",
        "    knn, _, _ = selecionar_melhor_k(range(1,30,2), X_treino, X_val, y_treino, y_val)\n",
        "    \n",
        "    #calcular a acurácia no conjunto de testes desta iteração e salvar na lista.\n",
        "    acuracias.append(accuracy_score(y_teste, knn.predict(X_teste)))\n",
        "    \n",
        "#calcular as estatísticas da validação cruzada. Estas estatísticas nos dão uma confiança que, na média, este é o desempenho esperado\n",
        "#do classificador no mundo real.\n",
        "print(\"min: %.2f, max: %.2f, avg +- std: %.2f+-%.2f\" % (min(acuracias), max(acuracias), np.mean(acuracias), np.std(acuracias)))"
      ],
      "metadata": {
        "colab": {
          "base_uri": "https://localhost:8080/"
        },
        "id": "wHAxVZ-mVhUB",
        "outputId": "996b9223-190c-413d-9048-6f7b66806d81"
      },
      "execution_count": null,
      "outputs": [
        {
          "output_type": "stream",
          "name": "stdout",
          "text": [
            "min: 0.72, max: 0.89, avg +- std: 0.80+-0.05\n"
          ]
        }
      ]
    },
    {
      "cell_type": "markdown",
      "source": [
        "Esse resultado nos diz que podemos esperar que nosso classificador acerte entre 77% e 85% dos casos no mundo real"
      ],
      "metadata": {
        "id": "uIz01LDHWPjF"
      }
    },
    {
      "cell_type": "code",
      "source": [
        "from sklearn.model_selection import GridSearchCV #busca exaustiva para otimização de hiperparâmetro por validação cruzada\n",
        "\n",
        "k1 = 10 #controla o número de vias da validação cruzada para estimar o desempenho do modelo\n",
        "k2 = 10 #controla o número de vida da validação cruzada para otimização de hiperparametros\n",
        "\n",
        "#usar o protocolo de validação cruzada estratificada\n",
        "skf = StratifiedKFold(n_splits=k1, shuffle=True, random_state=1)\n",
        "\n",
        "acuracias = []\n",
        "\n",
        "#a função split retorna os índices das instâncias que devem ser usadas para o treinamento e o teste.\n",
        "for idx_treino, idx_teste in skf.split(X, y):\n",
        "    \n",
        "    #extrair as instâncias de treinamento de acordo com os índices fornecidos pelo skf.split\n",
        "    X_treino = X[idx_treino]\n",
        "    y_treino = y[idx_treino]\n",
        "    \n",
        "    #extrair as instâncias de teste de acordo com os índices fornecidos pelo skf.split\n",
        "    X_teste = X[idx_teste]\n",
        "    y_teste = y[idx_teste]\n",
        "    \n",
        "    #colocar todas as variáveis na mesma escala, usando o conjunto de treinamento para calcular os parâmetros da escala\n",
        "    ss = StandardScaler()\n",
        "    ss.fit(X_treino)\n",
        "    X_treino = ss.transform(X_treino)\n",
        "    X_teste = ss.transform(X_teste)\n",
        "    \n",
        "    #combinações de parametros otimizar. Aqui estamos apenas otimizando o número de vizinhos mais próximos para o knn (k).\n",
        "    #Entretanto, podemos colocar todos os valores de todos os parametros. O sklearn se encarrega de gerar todas as combinações.\n",
        "    params = {'n_neighbors' : range(1,30,2)}\n",
        "    #instanciar um KNN com parametros padrão\n",
        "    knn = KNeighborsClassifier()\n",
        "    #instanciar um GridSearchCV com k2 vias.\n",
        "    knn = GridSearchCV(knn, params, cv=StratifiedKFold(n_splits=k2))\n",
        "    #realizar a otimização dos hiperparâmetros e treinar o modelo final com a melhor combinação de hiperparametros com todos os dados de treinamento\n",
        "    knn.fit(X_treino, y_treino)\n",
        "    \n",
        "    #calcular a acurácia no conjunto de testes desta iteração e salvar na lista.\n",
        "    acuracias.append(accuracy_score(y_teste, knn.predict(X_teste)))\n",
        "    \n",
        "#calcular as estatísticas da validação cruzada. Estas estatísticas nos dão uma confiança que, na média, este é o desempenho esperado\n",
        "#do classificador no mundo real.\n",
        "print(\"min: %.2f, max: %.2f, avg +- std: %.2f+-%.2f\" % (min(acuracias), max(acuracias), np.mean(acuracias), np.std(acuracias)))"
      ],
      "metadata": {
        "colab": {
          "base_uri": "https://localhost:8080/"
        },
        "id": "Ujq4Hs3eVtpe",
        "outputId": "7fcafd35-e57a-4daa-f386-4f62eb06ac93"
      },
      "execution_count": null,
      "outputs": [
        {
          "output_type": "stream",
          "name": "stdout",
          "text": [
            "min: 0.72, max: 0.86, avg +- std: 0.79+-0.04\n"
          ]
        }
      ]
    },
    {
      "cell_type": "markdown",
      "source": [
        "# KNN x SVM\n",
        "## 1. KNN"
      ],
      "metadata": {
        "id": "IPZnxRnkXg1y"
      }
    },
    {
      "cell_type": "code",
      "source": [
        "from tqdm.notebook import tqdm\n",
        "from sklearn.neighbors import KNeighborsClassifier\n",
        "from sklearn.metrics import accuracy_score\n",
        "from sklearn.preprocessing import StandardScaler\n",
        "from sklearn.model_selection import train_test_split, StratifiedKFold\n",
        "from joblib import Parallel, delayed\n",
        "def selecionar_melhor_k_knn(ks, X_treino, X_val, y_treino, y_val):\n",
        "    \n",
        "    def treinar_knn(k, X_treino, X_val, y_treino, y_val):\n",
        "        knn = KNeighborsClassifier(n_neighbors=k)\n",
        "        knn.fit(X_treino, y_treino)\n",
        "        pred = knn.predict(X_val)\n",
        "        return accuracy_score(y_val, pred)\n",
        "        \n",
        "    acuracias_val = Parallel(n_jobs=4)(delayed(treinar_knn)(k, X_treino, X_val, y_treino, y_val) for k in ks)       \n",
        "        \n",
        "    melhor_val = max(acuracias_val)\n",
        "    melhor_k = ks[np.argmax(acuracias_val)]        \n",
        "    knn = KNeighborsClassifier(n_neighbors=melhor_k)\n",
        "    knn.fit(np.vstack((X_treino, X_val)), [*y_treino, *y_val])\n",
        "    \n",
        "    return knn, melhor_k, melhor_val\n",
        "\n",
        "def do_cv_knn(X, y, cv_splits, ks):\n",
        "\n",
        "    skf = StratifiedKFold(n_splits=cv_splits, shuffle=True, random_state=1)\n",
        "\n",
        "    acuracias = []\n",
        "    classification_reports = []\n",
        "    \n",
        "    pgb = tqdm(total=cv_splits, desc='Folds avaliados')\n",
        "    \n",
        "    for treino_idx, teste_idx in skf.split(X, y):\n",
        "\n",
        "        X_treino = X[treino_idx]\n",
        "        y_treino = y[treino_idx]\n",
        "\n",
        "        X_teste = X[teste_idx]\n",
        "        y_teste = y[teste_idx]\n",
        "\n",
        "        X_treino, X_val, y_treino, y_val = train_test_split(X_treino, y_treino, stratify=y_treino, test_size=0.2, random_state=1)\n",
        "\n",
        "        ss = StandardScaler()\n",
        "        ss.fit(X_treino)\n",
        "        X_treino = ss.transform(X_treino)\n",
        "        X_teste = ss.transform(X_teste)\n",
        "        X_val = ss.transform(X_val)\n",
        "\n",
        "        knn, _, _ = selecionar_melhor_k_knn(ks, X_treino, X_val, y_treino, y_val)\n",
        "        pred = knn.predict(X_teste)\n",
        "\n",
        "        acuracias.append(accuracy_score(y_teste, pred))\n",
        "        \n",
        "        pgb.update(1)\n",
        "        \n",
        "    pgb.close()\n",
        "    \n",
        "    return acuracias\n",
        "    \n",
        "def calcular_estatisticas(resultados):\n",
        "    return np.mean(resultados), np.std(resultados), np.min(resultados), np.max(resultados)\n",
        "\n",
        "def imprimir_estatisticas(resultados):\n",
        "    media, desvio, mini, maxi = calcular_estatisticas(resultados)\n",
        "    print(\"Resultados: %.2f +- %.2f, min: %.2f, max: %.2f\" % (media, desvio, mini, maxi))"
      ],
      "metadata": {
        "id": "QIYtzhIYX1F6"
      },
      "execution_count": null,
      "outputs": []
    },
    {
      "cell_type": "markdown",
      "source": [
        "Avaliando o desempenho do KNN nesta base de dados usando validação cruzada. "
      ],
      "metadata": {
        "id": "XV_DxGRpXcC2"
      }
    },
    {
      "cell_type": "code",
      "source": [
        "accs_knn = do_cv_knn(X, y, 10, range(1, 20, 2))"
      ],
      "metadata": {
        "colab": {
          "base_uri": "https://localhost:8080/",
          "height": 49,
          "referenced_widgets": [
            "2054b8f0841447c2a5b8ff99eea60626",
            "a3a6bb7503774689a43f0295814318af",
            "2bd26f37e6b345e9bc21deaecd19df96",
            "440840ab426449fcba1bf83569dac48c",
            "fa0aefda8e1a422bb4f08c4e48ee7000",
            "e8147b468d0e4370a58bc5acef21f314",
            "63b6848115c14647bde3f43f9975049a",
            "509d21e20f3d4051825859e4ed582f87",
            "5159d95d0d874a9f97d261971e674a82",
            "8d89e6ddb22f45bc868c03d72c2533ab",
            "8aa9c13c384a4f85a72914fbc9150d54"
          ]
        },
        "id": "bTnkbyBBW2vA",
        "outputId": "85d377c2-cb56-4e8c-bfd9-70c0b1b92a43"
      },
      "execution_count": null,
      "outputs": [
        {
          "output_type": "display_data",
          "data": {
            "application/vnd.jupyter.widget-view+json": {
              "model_id": "2054b8f0841447c2a5b8ff99eea60626",
              "version_minor": 0,
              "version_major": 2
            },
            "text/plain": [
              "Folds avaliados:   0%|          | 0/10 [00:00<?, ?it/s]"
            ]
          },
          "metadata": {}
        }
      ]
    },
    {
      "cell_type": "code",
      "source": [
        "imprimir_estatisticas(accs_knn)"
      ],
      "metadata": {
        "colab": {
          "base_uri": "https://localhost:8080/"
        },
        "id": "KA-P12pKXsVQ",
        "outputId": "e3f3a878-fa5b-4ded-ded3-df7a380babe0"
      },
      "execution_count": null,
      "outputs": [
        {
          "output_type": "stream",
          "name": "stdout",
          "text": [
            "Resultados: 0.80 +- 0.04, min: 0.72, max: 0.89\n"
          ]
        }
      ]
    },
    {
      "cell_type": "markdown",
      "source": [
        "## SVM"
      ],
      "metadata": {
        "id": "Y1VdzguOYc5_"
      }
    },
    {
      "cell_type": "code",
      "source": [
        "from sklearn.svm import SVC\n",
        "import itertools\n",
        "#Cs e gammas são listas com os valores a serem avaliados para os respectivos parâmetros.\n",
        "def selecionar_melhor_svm(Cs, gammas, X_treino : np.ndarray, X_val : np.ndarray, \n",
        "                          y_treino : np.ndarray, y_val : np.ndarray, n_jobs=4):\n",
        "    \n",
        "    def treinar_svm(C, gamma, X_treino, X_val, y_treino, y_val):\n",
        "        svm = SVC(C=C, gamma=gamma)\n",
        "        svm.fit(X_treino, y_treino)\n",
        "        pred = svm.predict(X_val)\n",
        "        return accuracy_score(y_val, pred)\n",
        "    \n",
        "    #gera todas as combinações de parametros C e gamma, de acordo com as listas de valores recebidas por parametro.\n",
        "    #Na prática faz o produto cartesiano entre Cs e gammas.\n",
        "    combinacoes_parametros = list(itertools.product(Cs, gammas))\n",
        "    \n",
        "    #Treinar modelos com todas as combinações de C e gamma\n",
        "    acuracias_val = Parallel(n_jobs=n_jobs)(delayed(treinar_svm)\n",
        "                                       (c, g, X_treino, X_val, y_treino, y_val) for c, g in combinacoes_parametros)       \n",
        "    \n",
        "    melhor_val = max(acuracias_val)\n",
        "    #Encontrar a combinação que levou ao melhor resultado no conjunto de validação\n",
        "    melhor_comb = combinacoes_parametros[np.argmax(acuracias_val)]   \n",
        "    melhor_c = melhor_comb[0]\n",
        "    melhor_gamma = melhor_comb[1]\n",
        "    \n",
        "    #Treinar uma SVM com todos os dados de treino e validação usando a melhor combinação de C e gamma.\n",
        "    svm = SVC(C=melhor_c, gamma=melhor_gamma)\n",
        "    svm.fit(np.vstack((X_treino, X_val)), [*y_treino, *y_val])\n",
        "\n",
        "    return svm, melhor_comb, melhor_val\n",
        "\n",
        "#Implementa a validação cruzada para avaliar o desempenho da SVM na base de dados com as instâncias X e as saídas y.\n",
        "#cv_splits indica o número de partições que devem ser criadas.\n",
        "#Cs é a lista com os valores C que devem ser avaliados na busca exaustiva de parametros para a SVM.\n",
        "#gammas s é a lista com os valores gamma que devem ser avaliados na busca exaustiva de parametros para a SVM.\n",
        "def do_cv_svm(X, y, cv_splits, Cs=[1], gammas=['scale']):\n",
        "\n",
        "    skf = StratifiedKFold(n_splits=cv_splits, shuffle=True, random_state=1)\n",
        "\n",
        "    acuracias = []\n",
        "    \n",
        "    pgb = tqdm(total=cv_splits, desc='Folds avaliados')\n",
        "    \n",
        "    for treino_idx, teste_idx in skf.split(X, y):\n",
        "\n",
        "        X_treino = X[treino_idx]\n",
        "        y_treino = y[treino_idx]\n",
        "\n",
        "        X_teste = X[teste_idx]\n",
        "        y_teste = y[teste_idx]\n",
        "\n",
        "        X_treino, X_val, y_treino, y_val = train_test_split(X_treino, y_treino, stratify=y_treino, test_size=0.2, random_state=1)\n",
        "\n",
        "        ss = StandardScaler()\n",
        "        ss.fit(X_treino)\n",
        "        X_treino = ss.transform(X_treino)\n",
        "        X_teste = ss.transform(X_teste)\n",
        "        X_val = ss.transform(X_val)\n",
        "\n",
        "        svm, _, _ = selecionar_melhor_svm(Cs, gammas, X_treino, X_val, y_treino, y_val)\n",
        "        pred = svm.predict(X_teste)\n",
        "\n",
        "        acuracias.append(accuracy_score(y_teste, pred))\n",
        "        \n",
        "        pgb.update(1)\n",
        "        \n",
        "    pgb.close()\n",
        "    \n",
        "    return acuracias"
      ],
      "metadata": {
        "id": "gckmJjiBYNnO"
      },
      "execution_count": null,
      "outputs": []
    },
    {
      "cell_type": "code",
      "source": [
        "accs_svm = do_cv_svm(X, y, 10, Cs=[1, 10, 100, 1000], gammas=['scale', 'auto', 2e-2, 2e-3, 2e-4])"
      ],
      "metadata": {
        "colab": {
          "base_uri": "https://localhost:8080/",
          "height": 49,
          "referenced_widgets": [
            "95f8896fbace451097d480214217c8d7",
            "806ce1e290834ae18bc09a17e00398a1",
            "b1fbe533f6c54b1e8e1526bb6ca34577",
            "57fbeb79f3a946bab7975ebc890811a0",
            "c4fd5f8d9b4644128948a8c087debe67",
            "78a0273d1a0c4a15af9325ad3c639df2",
            "24cf448992dd4f29a63580675a4c8766",
            "d0e657ad31684235ab4a581f90c7a396",
            "4738b06e1df94ef1a1353d477c599601",
            "73df27312a0f4004a5084263bf8697b6",
            "6407d00e4cdd4baab3597268bce976f6"
          ]
        },
        "id": "GCovy4GAYhw3",
        "outputId": "922c209c-eb19-495e-b2f4-f682ea3f9c03"
      },
      "execution_count": null,
      "outputs": [
        {
          "output_type": "display_data",
          "data": {
            "application/vnd.jupyter.widget-view+json": {
              "model_id": "95f8896fbace451097d480214217c8d7",
              "version_minor": 0,
              "version_major": 2
            },
            "text/plain": [
              "Folds avaliados:   0%|          | 0/10 [00:00<?, ?it/s]"
            ]
          },
          "metadata": {}
        }
      ]
    },
    {
      "cell_type": "code",
      "source": [
        "imprimir_estatisticas(accs_knn)"
      ],
      "metadata": {
        "colab": {
          "base_uri": "https://localhost:8080/"
        },
        "id": "9eSd2S50YjsU",
        "outputId": "60093a7a-7018-4a2d-ebe4-bdad7507c323"
      },
      "execution_count": null,
      "outputs": [
        {
          "output_type": "stream",
          "name": "stdout",
          "text": [
            "Resultados: 0.80 +- 0.04, min: 0.72, max: 0.89\n"
          ]
        }
      ]
    },
    {
      "cell_type": "code",
      "source": [
        "imprimir_estatisticas(accs_svm)"
      ],
      "metadata": {
        "colab": {
          "base_uri": "https://localhost:8080/"
        },
        "id": "U9EGQiWpYu7K",
        "outputId": "4416acb2-8cd9-47c6-d1ad-dca479e61729"
      },
      "execution_count": null,
      "outputs": [
        {
          "output_type": "stream",
          "name": "stdout",
          "text": [
            "Resultados: 0.82 +- 0.06, min: 0.70, max: 0.92\n"
          ]
        }
      ]
    },
    {
      "cell_type": "markdown",
      "source": [
        "A acurácia do SVM parece ter sido ligeiramente superior, porém o desvio padrão está razoavelmente alto."
      ],
      "metadata": {
        "id": "If22mKLDY9OX"
      }
    },
    {
      "cell_type": "markdown",
      "source": [
        "# Teste de Hipótese Nula pelo Teste t de Student"
      ],
      "metadata": {
        "id": "mOE6n7PIZfUl"
      }
    },
    {
      "cell_type": "code",
      "source": [
        "from scipy.stats import ttest_ind_from_stats"
      ],
      "metadata": {
        "id": "ZeNatdlMYwgF"
      },
      "execution_count": null,
      "outputs": []
    },
    {
      "cell_type": "code",
      "source": [
        "#Primeiramente calculamos a média e o desvio padrão dos resultados\n",
        "media_knn, std_knn, _, _ = calcular_estatisticas(accs_knn)\n",
        "media_svm, std_svm, _, _ = calcular_estatisticas(accs_svm)\n",
        "\n",
        "#calcular o pvalor usando o teste t de Student para duas amostras independentes\n",
        "_, pvalor = ttest_ind_from_stats(media_knn, std_knn, len(accs_knn), media_svm, std_svm, len(accs_svm))"
      ],
      "metadata": {
        "id": "0pJ-JNZAZmq8"
      },
      "execution_count": null,
      "outputs": []
    },
    {
      "cell_type": "code",
      "source": [
        "pvalor"
      ],
      "metadata": {
        "colab": {
          "base_uri": "https://localhost:8080/"
        },
        "id": "vs5Xf-DwZom0",
        "outputId": "142379a2-257b-4b27-a8a0-da54fe3403c4"
      },
      "execution_count": null,
      "outputs": [
        {
          "output_type": "execute_result",
          "data": {
            "text/plain": [
              "0.5822453534864342"
            ]
          },
          "metadata": {},
          "execution_count": 220
        }
      ]
    },
    {
      "cell_type": "code",
      "source": [
        "pvalor<=0.05"
      ],
      "metadata": {
        "colab": {
          "base_uri": "https://localhost:8080/"
        },
        "id": "evC4sdk0Zqh7",
        "outputId": "cc3ec981-424e-48de-df95-a4725e9f1e90"
      },
      "execution_count": null,
      "outputs": [
        {
          "output_type": "execute_result",
          "data": {
            "text/plain": [
              "False"
            ]
          },
          "metadata": {},
          "execution_count": 221
        }
      ]
    },
    {
      "cell_type": "markdown",
      "source": [
        "Como o valor é maior que 0.05, não é possível rejeitar a hipótese nula.\n",
        " Em outras palavras, não é possível afirmar que a SVM teve desempenho diferente do KNN nos testes que fizemos com esta base de dados."
      ],
      "metadata": {
        "id": "Wb4YJXiwZubm"
      }
    },
    {
      "cell_type": "code",
      "source": [
        "def rejeitar_hip_nula(media_amostral1, desvio_padrao_amostral1, n1, media_amostral2, desvio_padrao_amostral2, n2, alpha=0.05):\n",
        "    _, pvalor = ttest_ind_from_stats(media_amostral1, desvio_padrao_amostral1, n1, media_amostral2, desvio_padrao_amostral2, n2)\n",
        "    return pvalor <= alpha"
      ],
      "metadata": {
        "id": "8aLfYlW-Ztra"
      },
      "execution_count": null,
      "outputs": []
    },
    {
      "cell_type": "code",
      "source": [
        "rejeitar_hip_nula(media_knn, std_knn, len(accs_knn), media_svm, std_svm, len(accs_svm))"
      ],
      "metadata": {
        "colab": {
          "base_uri": "https://localhost:8080/"
        },
        "id": "6wocoCn3aKWy",
        "outputId": "f6a66f9f-2d65-4c09-be32-710367685138"
      },
      "execution_count": null,
      "outputs": [
        {
          "output_type": "execute_result",
          "data": {
            "text/plain": [
              "False"
            ]
          },
          "metadata": {},
          "execution_count": 223
        }
      ]
    },
    {
      "cell_type": "code",
      "source": [
        "X_train, X_test, y_train, y_test = train_test_split(X, y, test_size=0.2, shuffle=True, stratify=y, random_state=3)"
      ],
      "metadata": {
        "id": "_4edU3fMaMmS"
      },
      "execution_count": null,
      "outputs": []
    },
    {
      "cell_type": "code",
      "source": [
        "knn = KNeighborsClassifier(n_neighbors=3)\n",
        "knn.fit(X_train, y_train)"
      ],
      "metadata": {
        "colab": {
          "base_uri": "https://localhost:8080/"
        },
        "id": "98smpsygbr1T",
        "outputId": "957fa8a4-4f0c-4512-f690-a5aec9cd2c54"
      },
      "execution_count": null,
      "outputs": [
        {
          "output_type": "execute_result",
          "data": {
            "text/plain": [
              "KNeighborsClassifier(n_neighbors=3)"
            ]
          },
          "metadata": {},
          "execution_count": 225
        }
      ]
    },
    {
      "cell_type": "code",
      "source": [
        "pred = knn.predict(X_test)\n",
        "accuracy_score(y_test, pred)"
      ],
      "metadata": {
        "colab": {
          "base_uri": "https://localhost:8080/"
        },
        "id": "DSRAAT8IbudG",
        "outputId": "ba377dba-020d-4c9f-fac7-c6d00fee1b12"
      },
      "execution_count": null,
      "outputs": [
        {
          "output_type": "execute_result",
          "data": {
            "text/plain": [
              "0.6083916083916084"
            ]
          },
          "metadata": {},
          "execution_count": 226
        }
      ]
    },
    {
      "cell_type": "code",
      "source": [
        "from sklearn.metrics import accuracy_score, classification_report, f1_score, recall_score, precision_score, confusion_matrix, plot_confusion_matrix\n",
        "plot_confusion_matrix(knn, X_test, y_test, cmap='Blues')"
      ],
      "metadata": {
        "colab": {
          "base_uri": "https://localhost:8080/",
          "height": 351
        },
        "id": "f0xdN_LLbwJo",
        "outputId": "4c1e09e4-3273-4fbd-d05c-883b5f1babc6"
      },
      "execution_count": null,
      "outputs": [
        {
          "output_type": "stream",
          "name": "stderr",
          "text": [
            "/usr/local/lib/python3.7/dist-packages/sklearn/utils/deprecation.py:87: FutureWarning: Function plot_confusion_matrix is deprecated; Function `plot_confusion_matrix` is deprecated in 1.0 and will be removed in 1.2. Use one of the class methods: ConfusionMatrixDisplay.from_predictions or ConfusionMatrixDisplay.from_estimator.\n",
            "  warnings.warn(msg, category=FutureWarning)\n"
          ]
        },
        {
          "output_type": "execute_result",
          "data": {
            "text/plain": [
              "<sklearn.metrics._plot.confusion_matrix.ConfusionMatrixDisplay at 0x7fd1e97c5810>"
            ]
          },
          "metadata": {},
          "execution_count": 228
        },
        {
          "output_type": "display_data",
          "data": {
            "image/png": "[encoded data removed]",
            "text/plain": [
              "<Figure size 432x288 with 2 Axes>"
            ]
          },
          "metadata": {
            "needs_background": "light"
          }
        }
      ]
    },
    {
      "cell_type": "code",
      "source": [
        "precision_score(y_test,pred)"
      ],
      "metadata": {
        "colab": {
          "base_uri": "https://localhost:8080/"
        },
        "id": "SsSF0uLJbytQ",
        "outputId": "03427a85-d467-4e77-c744-9326c5f37e9e"
      },
      "execution_count": null,
      "outputs": [
        {
          "output_type": "execute_result",
          "data": {
            "text/plain": [
              "0.525"
            ]
          },
          "metadata": {},
          "execution_count": 229
        }
      ]
    },
    {
      "cell_type": "code",
      "source": [
        "np.unique(y_train, return_counts=True)"
      ],
      "metadata": {
        "colab": {
          "base_uri": "https://localhost:8080/"
        },
        "id": "Q2omst43b7lE",
        "outputId": "824a7787-4c1f-44a8-f0ee-48c404ee4405"
      },
      "execution_count": null,
      "outputs": [
        {
          "output_type": "execute_result",
          "data": {
            "text/plain": [
              "(array([0, 1]), array([339, 230]))"
            ]
          },
          "metadata": {},
          "execution_count": 230
        }
      ]
    },
    {
      "cell_type": "code",
      "source": [
        "recall_score(y_test, pred)"
      ],
      "metadata": {
        "colab": {
          "base_uri": "https://localhost:8080/"
        },
        "id": "S1WWrNhNcDc5",
        "outputId": "a182d4e2-f8f4-4a45-c311-d67c193760b1"
      },
      "execution_count": null,
      "outputs": [
        {
          "output_type": "execute_result",
          "data": {
            "text/plain": [
              "0.3620689655172414"
            ]
          },
          "metadata": {},
          "execution_count": 231
        }
      ]
    },
    {
      "cell_type": "code",
      "source": [
        "f1_score(y_test, pred)"
      ],
      "metadata": {
        "colab": {
          "base_uri": "https://localhost:8080/"
        },
        "id": "r4-ua3eVcGsi",
        "outputId": "0f631803-98ac-4272-86d2-cd0634ce938d"
      },
      "execution_count": null,
      "outputs": [
        {
          "output_type": "execute_result",
          "data": {
            "text/plain": [
              "0.42857142857142855"
            ]
          },
          "metadata": {},
          "execution_count": 232
        }
      ]
    },
    {
      "cell_type": "code",
      "source": [
        "print(classification_report(y_test, pred))"
      ],
      "metadata": {
        "colab": {
          "base_uri": "https://localhost:8080/"
        },
        "id": "RaYMzfxNcIy6",
        "outputId": "d96d5e7b-1b3b-4499-9efa-3e35ac7c0224"
      },
      "execution_count": null,
      "outputs": [
        {
          "output_type": "stream",
          "name": "stdout",
          "text": [
            "              precision    recall  f1-score   support\n",
            "\n",
            "           0       0.64      0.78      0.70        85\n",
            "           1       0.53      0.36      0.43        58\n",
            "\n",
            "    accuracy                           0.61       143\n",
            "   macro avg       0.58      0.57      0.57       143\n",
            "weighted avg       0.59      0.61      0.59       143\n",
            "\n"
          ]
        }
      ]
    },
    {
      "cell_type": "code",
      "source": [
        ""
      ],
      "metadata": {
        "id": "vMcLP4UCcK2q"
      },
      "execution_count": null,
      "outputs": []
    },
    {
      "cell_type": "markdown",
      "source": [
        "# 2. train\n",
        "Neste trecho exploramos o Dataset train"
      ],
      "metadata": {
        "id": "ZqWGe0BScYOu"
      }
    },
    {
      "cell_type": "code",
      "source": [
        "train.shape"
      ],
      "metadata": {
        "colab": {
          "base_uri": "https://localhost:8080/"
        },
        "outputId": "ba6934fa-024c-4c26-ff09-ad093563eef0",
        "id": "huHaqgejcYO6"
      },
      "execution_count": null,
      "outputs": [
        {
          "output_type": "execute_result",
          "data": {
            "text/plain": [
              "(889, 8)"
            ]
          },
          "metadata": {},
          "execution_count": 234
        }
      ]
    },
    {
      "cell_type": "code",
      "source": [
        "train.columns"
      ],
      "metadata": {
        "colab": {
          "base_uri": "https://localhost:8080/"
        },
        "outputId": "f2e1351f-5759-4782-ffd4-3062c6d90437",
        "id": "WvQHZYVmcYO6"
      },
      "execution_count": null,
      "outputs": [
        {
          "output_type": "execute_result",
          "data": {
            "text/plain": [
              "Index(['Survived', 'Pclass', 'Sex', 'SibSp', 'Parch', 'Ticket', 'Fare',\n",
              "       'Embarked'],\n",
              "      dtype='object')"
            ]
          },
          "metadata": {},
          "execution_count": 236
        }
      ]
    },
    {
      "cell_type": "markdown",
      "source": [
        "Separando X e y"
      ],
      "metadata": {
        "id": "GGODHbaScYO7"
      }
    },
    {
      "cell_type": "code",
      "source": [
        "X = train[['Pclass', 'Sex', 'SibSp', 'Parch', 'Ticket', 'Fare','Embarked']]\n",
        "y = train[['Survived']]"
      ],
      "metadata": {
        "id": "LWhSbjEMcYO7"
      },
      "execution_count": null,
      "outputs": []
    },
    {
      "cell_type": "markdown",
      "source": [
        "# PCA"
      ],
      "metadata": {
        "id": "en0PUSrUcYO7"
      }
    },
    {
      "cell_type": "code",
      "source": [
        "from sklearn.decomposition import PCA"
      ],
      "metadata": {
        "id": "nVEMOhATcYO7"
      },
      "execution_count": null,
      "outputs": []
    },
    {
      "cell_type": "markdown",
      "source": [
        "instanciando o PCA, indicando o interesse em manter apenas os 2 primeiros componentes principais."
      ],
      "metadata": {
        "id": "w7skSiR4cYO7"
      }
    },
    {
      "cell_type": "code",
      "source": [
        "pca = PCA(n_components=2)  \n",
        "pca.fit(X)"
      ],
      "metadata": {
        "colab": {
          "base_uri": "https://localhost:8080/"
        },
        "outputId": "68f24d83-b8d2-4fa5-b295-39e7f9c42834",
        "id": "2hg-saPWcYO7"
      },
      "execution_count": null,
      "outputs": [
        {
          "output_type": "execute_result",
          "data": {
            "text/plain": [
              "PCA(n_components=2)"
            ]
          },
          "metadata": {},
          "execution_count": 239
        }
      ]
    },
    {
      "cell_type": "markdown",
      "source": [
        "Projetando os 8 atributos nos 2 componentes principais"
      ],
      "metadata": {
        "id": "z_4_2sN3cYO8"
      }
    },
    {
      "cell_type": "code",
      "source": [
        "X_pca = pca.transform(X)  \n",
        "X_pca_df = pd.DataFrame(X_pca, columns=['PC 0', 'PC 1'])\n",
        "print(\"Instâncias priginais: %s\\nInstâncias projetadas nos componentes principais: %s\" % (str(X.shape), str(X_pca_df.shape)))"
      ],
      "metadata": {
        "colab": {
          "base_uri": "https://localhost:8080/"
        },
        "outputId": "3df1fe98-cfef-456a-d863-dbed8c439dcb",
        "id": "tn3hu2uhcYO8"
      },
      "execution_count": null,
      "outputs": [
        {
          "output_type": "stream",
          "name": "stdout",
          "text": [
            "Instâncias priginais: (889, 7)\n",
            "Instâncias projetadas nos componentes principais: (889, 2)\n"
          ]
        }
      ]
    },
    {
      "cell_type": "markdown",
      "source": [
        "Plotando os dados projetados nos componentes principais"
      ],
      "metadata": {
        "id": "q-1KotX6cYO8"
      }
    },
    {
      "cell_type": "code",
      "source": [
        "y = np.array(y)\n",
        "y = y.reshape(889*1)\n",
        "y.shape"
      ],
      "metadata": {
        "colab": {
          "base_uri": "https://localhost:8080/"
        },
        "outputId": "c029fc08-eccd-4393-9339-78b70c44df1a",
        "id": "WJ2a5oYncYO8"
      },
      "execution_count": null,
      "outputs": [
        {
          "output_type": "execute_result",
          "data": {
            "text/plain": [
              "(889,)"
            ]
          },
          "metadata": {},
          "execution_count": 244
        }
      ]
    },
    {
      "cell_type": "code",
      "source": [
        "sns.set_palette('seismic')\n",
        "sns.scatterplot(data=X_pca_df, x='PC 0', y='PC 1', hue=y, palette='Set1')"
      ],
      "metadata": {
        "colab": {
          "base_uri": "https://localhost:8080/",
          "height": 299
        },
        "outputId": "360aaad1-e49f-4f19-e81c-a7550066ff1e",
        "id": "f6hAnhFFcYO8"
      },
      "execution_count": null,
      "outputs": [
        {
          "output_type": "execute_result",
          "data": {
            "text/plain": [
              "<matplotlib.axes._subplots.AxesSubplot at 0x7fd1e98057d0>"
            ]
          },
          "metadata": {},
          "execution_count": 245
        },
        {
          "output_type": "display_data",
          "data": {
            "image/png": "[encoded data removed]",
            "text/plain": [
              "<Figure size 432x288 with 1 Axes>"
            ]
          },
          "metadata": {
            "needs_background": "light"
          }
        }
      ]
    },
    {
      "cell_type": "markdown",
      "source": [
        "Observando a escala dos atributos"
      ],
      "metadata": {
        "id": "vJCtqoj3cYO9"
      }
    },
    {
      "cell_type": "code",
      "source": [
        "age_drop.groupby('Survived').mean().transpose()"
      ],
      "metadata": {
        "colab": {
          "base_uri": "https://localhost:8080/",
          "height": 300
        },
        "outputId": "10699627-bf34-4dc5-d3d6-f2b611c53b55",
        "id": "Q3H4ok3NcYO9"
      },
      "execution_count": null,
      "outputs": [
        {
          "output_type": "execute_result",
          "data": {
            "text/html": [
              "\n",
              "  <div id=\"df-4bda1a0a-d9b4-42a0-a8c3-3b304b57bce5\">\n",
              "    <div class=\"colab-df-container\">\n",
              "      <div>\n",
              "<style scoped>\n",
              "    .dataframe tbody tr th:only-of-type {\n",
              "        vertical-align: middle;\n",
              "    }\n",
              "\n",
              "    .dataframe tbody tr th {\n",
              "        vertical-align: top;\n",
              "    }\n",
              "\n",
              "    .dataframe thead th {\n",
              "        text-align: right;\n",
              "    }\n",
              "</style>\n",
              "<table border=\"1\" class=\"dataframe\">\n",
              "  <thead>\n",
              "    <tr style=\"text-align: right;\">\n",
              "      <th>Survived</th>\n",
              "      <th>0</th>\n",
              "      <th>1</th>\n",
              "    </tr>\n",
              "  </thead>\n",
              "  <tbody>\n",
              "    <tr>\n",
              "      <th>Pclass</th>\n",
              "      <td>0.575472</td>\n",
              "      <td>0.993056</td>\n",
              "    </tr>\n",
              "    <tr>\n",
              "      <th>Sex</th>\n",
              "      <td>0.150943</td>\n",
              "      <td>0.677083</td>\n",
              "    </tr>\n",
              "    <tr>\n",
              "      <th>Age</th>\n",
              "      <td>30.626179</td>\n",
              "      <td>28.193299</td>\n",
              "    </tr>\n",
              "    <tr>\n",
              "      <th>SibSp</th>\n",
              "      <td>0.525943</td>\n",
              "      <td>0.496528</td>\n",
              "    </tr>\n",
              "    <tr>\n",
              "      <th>Parch</th>\n",
              "      <td>0.365566</td>\n",
              "      <td>0.531250</td>\n",
              "    </tr>\n",
              "    <tr>\n",
              "      <th>Ticket</th>\n",
              "      <td>243.266509</td>\n",
              "      <td>243.375000</td>\n",
              "    </tr>\n",
              "    <tr>\n",
              "      <th>Fare</th>\n",
              "      <td>22.965456</td>\n",
              "      <td>51.647672</td>\n",
              "    </tr>\n",
              "    <tr>\n",
              "      <th>Embarked</th>\n",
              "      <td>0.214623</td>\n",
              "      <td>0.329861</td>\n",
              "    </tr>\n",
              "  </tbody>\n",
              "</table>\n",
              "</div>\n",
              "      <button class=\"colab-df-convert\" onclick=\"convertToInteractive('df-4bda1a0a-d9b4-42a0-a8c3-3b304b57bce5')\"\n",
              "              title=\"Convert this dataframe to an interactive table.\"\n",
              "              style=\"display:none;\">\n",
              "        \n",
              "  <svg xmlns=\"http://www.w3.org/2000/svg\" height=\"24px\"viewBox=\"0 0 24 24\"\n",
              "       width=\"24px\">\n",
              "    <path d=\"M0 0h24v24H0V0z\" fill=\"none\"/>\n",
              "    <path d=\"M18.56 5.44l.94 2.06.94-2.06 2.06-.94-2.06-.94-.94-2.06-.94 2.06-2.06.94zm-11 1L8.5 8.5l.94-2.06 2.06-.94-2.06-.94L8.5 2.5l-.94 2.06-2.06.94zm10 10l.94 2.06.94-2.06 2.06-.94-2.06-.94-.94-2.06-.94 2.06-2.06.94z\"/><path d=\"M17.41 7.96l-1.37-1.37c-.4-.4-.92-.59-1.43-.59-.52 0-1.04.2-1.43.59L10.3 9.45l-7.72 7.72c-.78.78-.78 2.05 0 2.83L4 21.41c.39.39.9.59 1.41.59.51 0 1.02-.2 1.41-.59l7.78-7.78 2.81-2.81c.8-.78.8-2.07 0-2.86zM5.41 20L4 18.59l7.72-7.72 1.47 1.35L5.41 20z\"/>\n",
              "  </svg>\n",
              "      </button>\n",
              "      \n",
              "  <style>\n",
              "    .colab-df-container {\n",
              "      display:flex;\n",
              "      flex-wrap:wrap;\n",
              "      gap: 12px;\n",
              "    }\n",
              "\n",
              "    .colab-df-convert {\n",
              "      background-color: #E8F0FE;\n",
              "      border: none;\n",
              "      border-radius: 50%;\n",
              "      cursor: pointer;\n",
              "      display: none;\n",
              "      fill: #1967D2;\n",
              "      height: 32px;\n",
              "      padding: 0 0 0 0;\n",
              "      width: 32px;\n",
              "    }\n",
              "\n",
              "    .colab-df-convert:hover {\n",
              "      background-color: #E2EBFA;\n",
              "      box-shadow: 0px 1px 2px rgba(60, 64, 67, 0.3), 0px 1px 3px 1px rgba(60, 64, 67, 0.15);\n",
              "      fill: #174EA6;\n",
              "    }\n",
              "\n",
              "    [theme=dark] .colab-df-convert {\n",
              "      background-color: #3B4455;\n",
              "      fill: #D2E3FC;\n",
              "    }\n",
              "\n",
              "    [theme=dark] .colab-df-convert:hover {\n",
              "      background-color: #434B5C;\n",
              "      box-shadow: 0px 1px 3px 1px rgba(0, 0, 0, 0.15);\n",
              "      filter: drop-shadow(0px 1px 2px rgba(0, 0, 0, 0.3));\n",
              "      fill: #FFFFFF;\n",
              "    }\n",
              "  </style>\n",
              "\n",
              "      <script>\n",
              "        const buttonEl =\n",
              "          document.querySelector('#df-4bda1a0a-d9b4-42a0-a8c3-3b304b57bce5 button.colab-df-convert');\n",
              "        buttonEl.style.display =\n",
              "          google.colab.kernel.accessAllowed ? 'block' : 'none';\n",
              "\n",
              "        async function convertToInteractive(key) {\n",
              "          const element = document.querySelector('#df-4bda1a0a-d9b4-42a0-a8c3-3b304b57bce5');\n",
              "          const dataTable =\n",
              "            await google.colab.kernel.invokeFunction('convertToInteractive',\n",
              "                                                     [key], {});\n",
              "          if (!dataTable) return;\n",
              "\n",
              "          const docLinkHtml = 'Like what you see? Visit the ' +\n",
              "            '<a target=\"_blank\" href=https://colab.research.google.com/notebooks/data_table.ipynb>data table notebook</a>'\n",
              "            + ' to learn more about interactive tables.';\n",
              "          element.innerHTML = '';\n",
              "          dataTable['output_type'] = 'display_data';\n",
              "          await google.colab.output.renderOutput(dataTable, element);\n",
              "          const docLink = document.createElement('div');\n",
              "          docLink.innerHTML = docLinkHtml;\n",
              "          element.appendChild(docLink);\n",
              "        }\n",
              "      </script>\n",
              "    </div>\n",
              "  </div>\n",
              "  "
            ],
            "text/plain": [
              "Survived           0           1\n",
              "Pclass      0.575472    0.993056\n",
              "Sex         0.150943    0.677083\n",
              "Age        30.626179   28.193299\n",
              "SibSp       0.525943    0.496528\n",
              "Parch       0.365566    0.531250\n",
              "Ticket    243.266509  243.375000\n",
              "Fare       22.965456   51.647672\n",
              "Embarked    0.214623    0.329861"
            ]
          },
          "metadata": {},
          "execution_count": 246
        }
      ]
    },
    {
      "cell_type": "markdown",
      "source": [
        "Verificando o peso dos componentes, fica claro que o ticket tem um peso bem diferente dos demais"
      ],
      "metadata": {
        "id": "N8qLTSHqcYO9"
      }
    },
    {
      "cell_type": "code",
      "source": [
        "fig, ax = plt.subplots(figsize=(8,4))\n",
        "ax.scatter(np.arange(len(X.columns)),pca.components_[0])\n",
        "ax.set_xticks(np.arange(len(X.columns)))\n",
        "ax.set_xticklabels(X.columns, rotation=90)\n",
        "plt.show()"
      ],
      "metadata": {
        "colab": {
          "base_uri": "https://localhost:8080/",
          "height": 306
        },
        "outputId": "2bd7f20a-7ca2-457a-ce83-2efc5c0273ac",
        "id": "HV46WaYIcYO9"
      },
      "execution_count": null,
      "outputs": [
        {
          "output_type": "display_data",
          "data": {
            "image/png": "[encoded data removed]",
            "text/plain": [
              "<Figure size 576x288 with 1 Axes>"
            ]
          },
          "metadata": {
            "needs_background": "light"
          }
        }
      ]
    },
    {
      "cell_type": "code",
      "source": [
        "X"
      ],
      "metadata": {
        "colab": {
          "base_uri": "https://localhost:8080/",
          "height": 424
        },
        "outputId": "4615c520-eb65-49be-b809-1c2bdabf9793",
        "id": "cxpBSgCUcYO-"
      },
      "execution_count": null,
      "outputs": [
        {
          "output_type": "execute_result",
          "data": {
            "text/html": [
              "\n",
              "  <div id=\"df-9ea6e604-e567-40b8-8890-3988b5c84c9e\">\n",
              "    <div class=\"colab-df-container\">\n",
              "      <div>\n",
              "<style scoped>\n",
              "    .dataframe tbody tr th:only-of-type {\n",
              "        vertical-align: middle;\n",
              "    }\n",
              "\n",
              "    .dataframe tbody tr th {\n",
              "        vertical-align: top;\n",
              "    }\n",
              "\n",
              "    .dataframe thead th {\n",
              "        text-align: right;\n",
              "    }\n",
              "</style>\n",
              "<table border=\"1\" class=\"dataframe\">\n",
              "  <thead>\n",
              "    <tr style=\"text-align: right;\">\n",
              "      <th></th>\n",
              "      <th>Pclass</th>\n",
              "      <th>Sex</th>\n",
              "      <th>SibSp</th>\n",
              "      <th>Parch</th>\n",
              "      <th>Ticket</th>\n",
              "      <th>Fare</th>\n",
              "      <th>Embarked</th>\n",
              "    </tr>\n",
              "  </thead>\n",
              "  <tbody>\n",
              "    <tr>\n",
              "      <th>0</th>\n",
              "      <td>0</td>\n",
              "      <td>0</td>\n",
              "      <td>1</td>\n",
              "      <td>0</td>\n",
              "      <td>0</td>\n",
              "      <td>7.2500</td>\n",
              "      <td>0</td>\n",
              "    </tr>\n",
              "    <tr>\n",
              "      <th>1</th>\n",
              "      <td>1</td>\n",
              "      <td>1</td>\n",
              "      <td>1</td>\n",
              "      <td>0</td>\n",
              "      <td>1</td>\n",
              "      <td>71.2833</td>\n",
              "      <td>1</td>\n",
              "    </tr>\n",
              "    <tr>\n",
              "      <th>2</th>\n",
              "      <td>0</td>\n",
              "      <td>1</td>\n",
              "      <td>0</td>\n",
              "      <td>0</td>\n",
              "      <td>2</td>\n",
              "      <td>7.9250</td>\n",
              "      <td>0</td>\n",
              "    </tr>\n",
              "    <tr>\n",
              "      <th>3</th>\n",
              "      <td>1</td>\n",
              "      <td>1</td>\n",
              "      <td>1</td>\n",
              "      <td>0</td>\n",
              "      <td>3</td>\n",
              "      <td>53.1000</td>\n",
              "      <td>0</td>\n",
              "    </tr>\n",
              "    <tr>\n",
              "      <th>4</th>\n",
              "      <td>0</td>\n",
              "      <td>0</td>\n",
              "      <td>0</td>\n",
              "      <td>0</td>\n",
              "      <td>4</td>\n",
              "      <td>8.0500</td>\n",
              "      <td>0</td>\n",
              "    </tr>\n",
              "    <tr>\n",
              "      <th>...</th>\n",
              "      <td>...</td>\n",
              "      <td>...</td>\n",
              "      <td>...</td>\n",
              "      <td>...</td>\n",
              "      <td>...</td>\n",
              "      <td>...</td>\n",
              "      <td>...</td>\n",
              "    </tr>\n",
              "    <tr>\n",
              "      <th>886</th>\n",
              "      <td>2</td>\n",
              "      <td>0</td>\n",
              "      <td>0</td>\n",
              "      <td>0</td>\n",
              "      <td>676</td>\n",
              "      <td>13.0000</td>\n",
              "      <td>0</td>\n",
              "    </tr>\n",
              "    <tr>\n",
              "      <th>887</th>\n",
              "      <td>1</td>\n",
              "      <td>1</td>\n",
              "      <td>0</td>\n",
              "      <td>0</td>\n",
              "      <td>677</td>\n",
              "      <td>30.0000</td>\n",
              "      <td>0</td>\n",
              "    </tr>\n",
              "    <tr>\n",
              "      <th>888</th>\n",
              "      <td>0</td>\n",
              "      <td>1</td>\n",
              "      <td>1</td>\n",
              "      <td>2</td>\n",
              "      <td>613</td>\n",
              "      <td>23.4500</td>\n",
              "      <td>0</td>\n",
              "    </tr>\n",
              "    <tr>\n",
              "      <th>889</th>\n",
              "      <td>1</td>\n",
              "      <td>0</td>\n",
              "      <td>0</td>\n",
              "      <td>0</td>\n",
              "      <td>678</td>\n",
              "      <td>30.0000</td>\n",
              "      <td>1</td>\n",
              "    </tr>\n",
              "    <tr>\n",
              "      <th>890</th>\n",
              "      <td>0</td>\n",
              "      <td>0</td>\n",
              "      <td>0</td>\n",
              "      <td>0</td>\n",
              "      <td>679</td>\n",
              "      <td>7.7500</td>\n",
              "      <td>2</td>\n",
              "    </tr>\n",
              "  </tbody>\n",
              "</table>\n",
              "<p>889 rows × 7 columns</p>\n",
              "</div>\n",
              "      <button class=\"colab-df-convert\" onclick=\"convertToInteractive('df-9ea6e604-e567-40b8-8890-3988b5c84c9e')\"\n",
              "              title=\"Convert this dataframe to an interactive table.\"\n",
              "              style=\"display:none;\">\n",
              "        \n",
              "  <svg xmlns=\"http://www.w3.org/2000/svg\" height=\"24px\"viewBox=\"0 0 24 24\"\n",
              "       width=\"24px\">\n",
              "    <path d=\"M0 0h24v24H0V0z\" fill=\"none\"/>\n",
              "    <path d=\"M18.56 5.44l.94 2.06.94-2.06 2.06-.94-2.06-.94-.94-2.06-.94 2.06-2.06.94zm-11 1L8.5 8.5l.94-2.06 2.06-.94-2.06-.94L8.5 2.5l-.94 2.06-2.06.94zm10 10l.94 2.06.94-2.06 2.06-.94-2.06-.94-.94-2.06-.94 2.06-2.06.94z\"/><path d=\"M17.41 7.96l-1.37-1.37c-.4-.4-.92-.59-1.43-.59-.52 0-1.04.2-1.43.59L10.3 9.45l-7.72 7.72c-.78.78-.78 2.05 0 2.83L4 21.41c.39.39.9.59 1.41.59.51 0 1.02-.2 1.41-.59l7.78-7.78 2.81-2.81c.8-.78.8-2.07 0-2.86zM5.41 20L4 18.59l7.72-7.72 1.47 1.35L5.41 20z\"/>\n",
              "  </svg>\n",
              "      </button>\n",
              "      \n",
              "  <style>\n",
              "    .colab-df-container {\n",
              "      display:flex;\n",
              "      flex-wrap:wrap;\n",
              "      gap: 12px;\n",
              "    }\n",
              "\n",
              "    .colab-df-convert {\n",
              "      background-color: #E8F0FE;\n",
              "      border: none;\n",
              "      border-radius: 50%;\n",
              "      cursor: pointer;\n",
              "      display: none;\n",
              "      fill: #1967D2;\n",
              "      height: 32px;\n",
              "      padding: 0 0 0 0;\n",
              "      width: 32px;\n",
              "    }\n",
              "\n",
              "    .colab-df-convert:hover {\n",
              "      background-color: #E2EBFA;\n",
              "      box-shadow: 0px 1px 2px rgba(60, 64, 67, 0.3), 0px 1px 3px 1px rgba(60, 64, 67, 0.15);\n",
              "      fill: #174EA6;\n",
              "    }\n",
              "\n",
              "    [theme=dark] .colab-df-convert {\n",
              "      background-color: #3B4455;\n",
              "      fill: #D2E3FC;\n",
              "    }\n",
              "\n",
              "    [theme=dark] .colab-df-convert:hover {\n",
              "      background-color: #434B5C;\n",
              "      box-shadow: 0px 1px 3px 1px rgba(0, 0, 0, 0.15);\n",
              "      filter: drop-shadow(0px 1px 2px rgba(0, 0, 0, 0.3));\n",
              "      fill: #FFFFFF;\n",
              "    }\n",
              "  </style>\n",
              "\n",
              "      <script>\n",
              "        const buttonEl =\n",
              "          document.querySelector('#df-9ea6e604-e567-40b8-8890-3988b5c84c9e button.colab-df-convert');\n",
              "        buttonEl.style.display =\n",
              "          google.colab.kernel.accessAllowed ? 'block' : 'none';\n",
              "\n",
              "        async function convertToInteractive(key) {\n",
              "          const element = document.querySelector('#df-9ea6e604-e567-40b8-8890-3988b5c84c9e');\n",
              "          const dataTable =\n",
              "            await google.colab.kernel.invokeFunction('convertToInteractive',\n",
              "                                                     [key], {});\n",
              "          if (!dataTable) return;\n",
              "\n",
              "          const docLinkHtml = 'Like what you see? Visit the ' +\n",
              "            '<a target=\"_blank\" href=https://colab.research.google.com/notebooks/data_table.ipynb>data table notebook</a>'\n",
              "            + ' to learn more about interactive tables.';\n",
              "          element.innerHTML = '';\n",
              "          dataTable['output_type'] = 'display_data';\n",
              "          await google.colab.output.renderOutput(dataTable, element);\n",
              "          const docLink = document.createElement('div');\n",
              "          docLink.innerHTML = docLinkHtml;\n",
              "          element.appendChild(docLink);\n",
              "        }\n",
              "      </script>\n",
              "    </div>\n",
              "  </div>\n",
              "  "
            ],
            "text/plain": [
              "     Pclass  Sex  SibSp  Parch  Ticket     Fare  Embarked\n",
              "0         0    0      1      0       0   7.2500         0\n",
              "1         1    1      1      0       1  71.2833         1\n",
              "2         0    1      0      0       2   7.9250         0\n",
              "3         1    1      1      0       3  53.1000         0\n",
              "4         0    0      0      0       4   8.0500         0\n",
              "..      ...  ...    ...    ...     ...      ...       ...\n",
              "886       2    0      0      0     676  13.0000         0\n",
              "887       1    1      0      0     677  30.0000         0\n",
              "888       0    1      1      2     613  23.4500         0\n",
              "889       1    0      0      0     678  30.0000         1\n",
              "890       0    0      0      0     679   7.7500         2\n",
              "\n",
              "[889 rows x 7 columns]"
            ]
          },
          "metadata": {},
          "execution_count": 248
        }
      ]
    },
    {
      "cell_type": "markdown",
      "source": [
        "Normalizando o dataset"
      ],
      "metadata": {
        "id": "_MDUBjXfcYO-"
      }
    },
    {
      "cell_type": "code",
      "source": [
        "from sklearn.preprocessing import StandardScaler\n",
        "ss = StandardScaler()  # instancia o StandardScaler\n",
        "ss.fit(X)              # estima a média e o desvio-padrão de todos atributos\n",
        "X_ss = ss.transform(X) # realiza a normalização z-score nos atributos"
      ],
      "metadata": {
        "id": "WecyIo14cYO-"
      },
      "execution_count": null,
      "outputs": []
    },
    {
      "cell_type": "code",
      "source": [
        "#calcula o PCA com os atributos normalizados\n",
        "pca_ss = PCA(n_components=2)\n",
        "pca_ss.fit(X_ss)\n",
        "X_ss_pca = pca_ss.transform(X_ss)\n",
        "X_ss_pca_df = pd.DataFrame(X_ss_pca, columns=['PC 0', 'PC 1'])"
      ],
      "metadata": {
        "id": "X3RrFtB8cYO-"
      },
      "execution_count": null,
      "outputs": []
    },
    {
      "cell_type": "markdown",
      "source": [
        "Os pesos dos atributos em ambos componentes principais estão distribuídos. Isto nos dá a confiança que o PCA não está enviesado em nenhum atributo específico. Como estes componentes foram estimados com dados em mesma escala, sabemos que não há risco de enviesamento por conta de diferenças em escala."
      ],
      "metadata": {
        "id": "nrvwdowmcYO-"
      }
    },
    {
      "cell_type": "code",
      "source": [
        "fig, ax = plt.subplots(figsize=(8,4), nrows=1, ncols=2)\n",
        "for idx, pc in enumerate(pca_ss.components_):\n",
        "    ax[idx].scatter(np.arange(len(X.columns)), pc)\n",
        "    ax[idx].set_xticks(np.arange(len(X.columns)))\n",
        "    ax[idx].set_xticklabels(X.columns, rotation=90)\n",
        "    ax[idx].set_title('PC %d' % (idx))\n",
        "plt.show()"
      ],
      "metadata": {
        "colab": {
          "base_uri": "https://localhost:8080/",
          "height": 322
        },
        "outputId": "3c308107-fc81-43f1-d6f1-a83954c8836d",
        "id": "RqzwAN_jcYO-"
      },
      "execution_count": null,
      "outputs": [
        {
          "output_type": "display_data",
          "data": {
            "image/png": "[encoded data removed]",
            "text/plain": [
              "<Figure size 576x288 with 2 Axes>"
            ]
          },
          "metadata": {
            "needs_background": "light"
          }
        }
      ]
    },
    {
      "cell_type": "code",
      "source": [
        "sns.scatterplot(data=X_ss_pca_df, x='PC 0', y='PC 1', hue=y, palette='Set1')"
      ],
      "metadata": {
        "colab": {
          "base_uri": "https://localhost:8080/",
          "height": 296
        },
        "outputId": "fb9edc4f-e1ce-46f7-cdbd-b5cb3003f346",
        "id": "3vxeSwzYcYO_"
      },
      "execution_count": null,
      "outputs": [
        {
          "output_type": "execute_result",
          "data": {
            "text/plain": [
              "<matplotlib.axes._subplots.AxesSubplot at 0x7fd1e9775dd0>"
            ]
          },
          "metadata": {},
          "execution_count": 252
        },
        {
          "output_type": "display_data",
          "data": {
            "image/png": "[encoded data removed]",
            "text/plain": [
              "<Figure size 432x288 with 1 Axes>"
            ]
          },
          "metadata": {
            "needs_background": "light"
          }
        }
      ]
    },
    {
      "cell_type": "markdown",
      "source": [
        "Para verificar o quanto que a projeção do PCA representa os dados, decidi avaliar taxa de variância explicada pelos componentes principais usados na projeção."
      ],
      "metadata": {
        "id": "oiBZchFfcYO_"
      }
    },
    {
      "cell_type": "code",
      "source": [
        "pca_ss.explained_variance_ratio_, sum(pca_ss.explained_variance_ratio_)"
      ],
      "metadata": {
        "colab": {
          "base_uri": "https://localhost:8080/"
        },
        "outputId": "8a44e0fc-00a6-4666-eeae-1e06a076bde8",
        "id": "a9jLlTdNcYO_"
      },
      "execution_count": null,
      "outputs": [
        {
          "output_type": "execute_result",
          "data": {
            "text/plain": [
              "(array([0.27284336, 0.17492573]), 0.44776909034388057)"
            ]
          },
          "metadata": {},
          "execution_count": 253
        }
      ]
    },
    {
      "cell_type": "markdown",
      "source": [
        "Os 2 primeiros componentes principais conseguem capturar 44% da variação dos dados. "
      ],
      "metadata": {
        "id": "R95g0VlUcYO_"
      }
    },
    {
      "cell_type": "markdown",
      "source": [
        "# Validação Cruzada"
      ],
      "metadata": {
        "id": "hEujJKaxcYO_"
      }
    },
    {
      "cell_type": "code",
      "source": [
        "from sklearn.model_selection import train_test_split, StratifiedKFold"
      ],
      "metadata": {
        "id": "85AXwoYfcYO_"
      },
      "execution_count": null,
      "outputs": []
    },
    {
      "cell_type": "code",
      "source": [
        "#a validação cruzada será realizada em 10 vias.\n",
        "k_vias = 10\n",
        "X = np.array(X)\n",
        "#usar o protocolo de validação cruzada estratificada\n",
        "skf = StratifiedKFold(n_splits=k_vias, shuffle=True, random_state=1)\n",
        "\n",
        "acuracias = []\n",
        "\n",
        "#a função split retorna os índices das instâncias que devem ser usadas para o treinamento e o teste.\n",
        "for idx_treino, idx_teste in skf.split(X, y):\n",
        "    \n",
        "    #extrair as instâncias de treinamento de acordo com os índices fornecidos pelo skf.split\n",
        "    X_treino = X[idx_treino]\n",
        "    y_treino = y[idx_treino]\n",
        "    \n",
        "    #extrair as instâncias de teste de acordo com os índices fornecidos pelo skf.split\n",
        "    X_teste = X[idx_teste]\n",
        "    y_teste = y[idx_teste]\n",
        "    \n",
        "    #separar as instâncias de treinamento entre treinamento e validação para a otimização do hiperparâmetro k\n",
        "    X_treino, X_val, y_treino, y_val = train_test_split(X_treino, y_treino, test_size=0.2, stratify=y_treino, shuffle=True, random_state=1)\n",
        "    \n",
        "    #colocar todas as variáveis na mesma escala, usando o conjunto de treinamento para calcular os parâmetros da escala\n",
        "    ss = StandardScaler()\n",
        "    ss.fit(X_treino)\n",
        "    X_treino = ss.transform(X_treino)\n",
        "    X_teste = ss.transform(X_teste)\n",
        "    X_val = ss.transform(X_val)\n",
        "\n",
        "    #escolher o k com o melhor resultado no conjunto de validação e treinar o KNN com o melhor k.\n",
        "    knn, _, _ = selecionar_melhor_k(range(1,30,2), X_treino, X_val, y_treino, y_val)\n",
        "    \n",
        "    #calcular a acurácia no conjunto de testes desta iteração e salvar na lista.\n",
        "    acuracias.append(accuracy_score(y_teste, knn.predict(X_teste)))\n",
        "    \n",
        "#calcular as estatísticas da validação cruzada. Estas estatísticas nos dão uma confiança que, na média, este é o desempenho esperado\n",
        "#do classificador no mundo real.\n",
        "print(\"min: %.2f, max: %.2f, avg +- std: %.2f+-%.2f\" % (min(acuracias), max(acuracias), np.mean(acuracias), np.std(acuracias)))"
      ],
      "metadata": {
        "colab": {
          "base_uri": "https://localhost:8080/"
        },
        "outputId": "3c978f32-9a86-490a-e0fc-a884f684d9b8",
        "id": "pMNaKeL4cYPA"
      },
      "execution_count": null,
      "outputs": [
        {
          "output_type": "stream",
          "name": "stdout",
          "text": [
            "min: 0.74, max: 0.84, avg +- std: 0.79+-0.03\n"
          ]
        }
      ]
    },
    {
      "cell_type": "markdown",
      "source": [
        "Esse resultado nos diz que podemos esperar que nosso classificador acerte entre 77% e 82% dos casos no mundo real"
      ],
      "metadata": {
        "id": "sy_afEQHcYPA"
      }
    },
    {
      "cell_type": "markdown",
      "source": [
        "# KNN x SVM\n",
        "## 1. KNN"
      ],
      "metadata": {
        "id": "t40MdtN3cYPB"
      }
    },
    {
      "cell_type": "markdown",
      "source": [
        "Avaliando o desempenho do KNN nesta base de dados usando validação cruzada. "
      ],
      "metadata": {
        "id": "vGS14y7ncYPB"
      }
    },
    {
      "cell_type": "code",
      "source": [
        "accs_knn = do_cv_knn(X, y, 10, range(1, 20, 2))"
      ],
      "metadata": {
        "colab": {
          "base_uri": "https://localhost:8080/",
          "height": 49,
          "referenced_widgets": [
            "0ed04c1d77a741feb3d5a97a2386adfd",
            "6e254f494b664cbfa8d72bb8051061f8",
            "5ec8d9eed8f349c783b19f415770800d",
            "56e401f552ce4194bbf2da400e2f73db",
            "2d4203102bd746fe8e58493c26a2df13",
            "6aece3e018a84baea690035f591fd7d0",
            "f97443c50c274462bb14c19a81deb4f3",
            "a7eae1645cab415f86e06b0218cd6f0a",
            "50bb030ae5fb4494bc7529aac655af3d",
            "472d98cc6e164633af34ce0c560e7466",
            "ed64874da42b495d91597553940f19be"
          ]
        },
        "outputId": "ffa940c6-c961-4e32-ded7-d14f1c0bbf06",
        "id": "liYgMX9gcYPB"
      },
      "execution_count": null,
      "outputs": [
        {
          "output_type": "display_data",
          "data": {
            "application/vnd.jupyter.widget-view+json": {
              "model_id": "0ed04c1d77a741feb3d5a97a2386adfd",
              "version_minor": 0,
              "version_major": 2
            },
            "text/plain": [
              "Folds avaliados:   0%|          | 0/10 [00:00<?, ?it/s]"
            ]
          },
          "metadata": {}
        }
      ]
    },
    {
      "cell_type": "code",
      "source": [
        "imprimir_estatisticas(accs_knn)"
      ],
      "metadata": {
        "colab": {
          "base_uri": "https://localhost:8080/"
        },
        "outputId": "3777b5f6-faca-4e29-912d-f49fa47db5e4",
        "id": "PDbiklb_cYPC"
      },
      "execution_count": null,
      "outputs": [
        {
          "output_type": "stream",
          "name": "stdout",
          "text": [
            "Resultados: 0.79 +- 0.03, min: 0.74, max: 0.84\n"
          ]
        }
      ]
    },
    {
      "cell_type": "markdown",
      "source": [
        "## SVM"
      ],
      "metadata": {
        "id": "Xgi2uMdscYPC"
      }
    },
    {
      "cell_type": "code",
      "source": [
        "accs_svm = do_cv_svm(X, y, 10, Cs=[1, 10, 100, 1000], gammas=['scale', 'auto', 2e-2, 2e-3, 2e-4])"
      ],
      "metadata": {
        "colab": {
          "base_uri": "https://localhost:8080/",
          "height": 49,
          "referenced_widgets": [
            "ac98d7ea530242a7bf1e21a60a7e4766",
            "73fcdffb2a4c46099dcfa1e66bcac497",
            "786fbadafa8042149e9f7eec6f5adac5",
            "48c1b618438e4847bc15fff4223dc4e4",
            "c000bbd140234445abbc3519235f4276",
            "e0f73ead32e94e8bbacf0946622e6132",
            "ef94b557bc7e40139f3daa0247319f88",
            "77d9008f03364c0a936cde1b09b23e8f",
            "02232346923b4c7e9ee836d5f797428a",
            "0eb1598b978c4ac88e99baaa4656cf5b",
            "d8af36c7711249d8b72b6e36efb6d142"
          ]
        },
        "outputId": "f57657f5-1e65-46e7-a646-684f720a2af7",
        "id": "u30-e8rdcYPC"
      },
      "execution_count": null,
      "outputs": [
        {
          "output_type": "display_data",
          "data": {
            "application/vnd.jupyter.widget-view+json": {
              "model_id": "ac98d7ea530242a7bf1e21a60a7e4766",
              "version_minor": 0,
              "version_major": 2
            },
            "text/plain": [
              "Folds avaliados:   0%|          | 0/10 [00:00<?, ?it/s]"
            ]
          },
          "metadata": {}
        }
      ]
    },
    {
      "cell_type": "code",
      "source": [
        "imprimir_estatisticas(accs_knn)"
      ],
      "metadata": {
        "colab": {
          "base_uri": "https://localhost:8080/"
        },
        "outputId": "5b89575d-54b3-4ad8-d486-18b59337a368",
        "id": "WuCR1vf-cYPC"
      },
      "execution_count": null,
      "outputs": [
        {
          "output_type": "stream",
          "name": "stdout",
          "text": [
            "Resultados: 0.79 +- 0.03, min: 0.74, max: 0.84\n"
          ]
        }
      ]
    },
    {
      "cell_type": "code",
      "source": [
        "imprimir_estatisticas(accs_svm)"
      ],
      "metadata": {
        "colab": {
          "base_uri": "https://localhost:8080/"
        },
        "outputId": "165a2360-72ef-443b-ef72-da909f7447dd",
        "id": "PqIqjUGDcYPC"
      },
      "execution_count": null,
      "outputs": [
        {
          "output_type": "stream",
          "name": "stdout",
          "text": [
            "Resultados: 0.79 +- 0.04, min: 0.73, max: 0.84\n"
          ]
        }
      ]
    },
    {
      "cell_type": "markdown",
      "source": [
        "A acurácia do SVM parece ter sido ligeiramente superior, porém o desvio padrão está razoavelmente alto."
      ],
      "metadata": {
        "id": "zQdd_rSIcYPC"
      }
    },
    {
      "cell_type": "markdown",
      "source": [
        "# Teste de Hipótese Nula pelo Teste t de Student"
      ],
      "metadata": {
        "id": "eO2v5dpJcYPD"
      }
    },
    {
      "cell_type": "code",
      "source": [
        "from scipy.stats import ttest_ind_from_stats"
      ],
      "metadata": {
        "id": "HHUdfnr0cYPD"
      },
      "execution_count": null,
      "outputs": []
    },
    {
      "cell_type": "code",
      "source": [
        "#Primeiramente calculamos a média e o desvio padrão dos resultados\n",
        "media_knn, std_knn, _, _ = calcular_estatisticas(accs_knn)\n",
        "media_svm, std_svm, _, _ = calcular_estatisticas(accs_svm)\n",
        "\n",
        "#calcular o pvalor usando o teste t de Student para duas amostras independentes\n",
        "_, pvalor = ttest_ind_from_stats(media_knn, std_knn, len(accs_knn), media_svm, std_svm, len(accs_svm))"
      ],
      "metadata": {
        "id": "-hgvmCZRcYPD"
      },
      "execution_count": null,
      "outputs": []
    },
    {
      "cell_type": "code",
      "source": [
        "pvalor"
      ],
      "metadata": {
        "colab": {
          "base_uri": "https://localhost:8080/"
        },
        "outputId": "c2c90e62-e6ce-4a95-933b-c64c3cae7909",
        "id": "Ieaghbj_cYPD"
      },
      "execution_count": null,
      "outputs": [
        {
          "output_type": "execute_result",
          "data": {
            "text/plain": [
              "0.8309038350286067"
            ]
          },
          "metadata": {},
          "execution_count": 267
        }
      ]
    },
    {
      "cell_type": "code",
      "source": [
        "pvalor<=0.05"
      ],
      "metadata": {
        "colab": {
          "base_uri": "https://localhost:8080/"
        },
        "outputId": "26c0fdc5-1382-4810-ee1d-4fa970226302",
        "id": "tZ1QEp0FcYPD"
      },
      "execution_count": null,
      "outputs": [
        {
          "output_type": "execute_result",
          "data": {
            "text/plain": [
              "False"
            ]
          },
          "metadata": {},
          "execution_count": 268
        }
      ]
    },
    {
      "cell_type": "markdown",
      "source": [
        "Como o valor é maior que 0.05, não é possível rejeitar a hipótese nula.\n",
        " Em outras palavras, não é possível afirmar que a SVM teve desempenho diferente do KNN nos testes que fizemos com esta base de dados."
      ],
      "metadata": {
        "id": "LGzUN-eCcYPD"
      }
    },
    {
      "cell_type": "code",
      "source": [
        "def rejeitar_hip_nula(media_amostral1, desvio_padrao_amostral1, n1, media_amostral2, desvio_padrao_amostral2, n2, alpha=0.05):\n",
        "    _, pvalor = ttest_ind_from_stats(media_amostral1, desvio_padrao_amostral1, n1, media_amostral2, desvio_padrao_amostral2, n2)\n",
        "    return pvalor <= alpha"
      ],
      "metadata": {
        "id": "RQJ1tG-FcYPD"
      },
      "execution_count": null,
      "outputs": []
    },
    {
      "cell_type": "code",
      "source": [
        "rejeitar_hip_nula(media_knn, std_knn, len(accs_knn), media_svm, std_svm, len(accs_svm))"
      ],
      "metadata": {
        "colab": {
          "base_uri": "https://localhost:8080/"
        },
        "outputId": "8d0c042e-4fba-4858-de56-da3f799907e4",
        "id": "esvbtvKQcYPD"
      },
      "execution_count": null,
      "outputs": [
        {
          "output_type": "execute_result",
          "data": {
            "text/plain": [
              "False"
            ]
          },
          "metadata": {},
          "execution_count": 270
        }
      ]
    },
    {
      "cell_type": "code",
      "source": [
        "X_train, X_test, y_train, y_test = train_test_split(X, y, test_size=0.2, shuffle=True, stratify=y, random_state=3)"
      ],
      "metadata": {
        "id": "ddjwrNbocYPD"
      },
      "execution_count": null,
      "outputs": []
    },
    {
      "cell_type": "code",
      "source": [
        "knn = KNeighborsClassifier(n_neighbors=3)\n",
        "knn.fit(X_train, y_train)"
      ],
      "metadata": {
        "colab": {
          "base_uri": "https://localhost:8080/"
        },
        "outputId": "4572f391-baa5-4fef-d1cf-c6f5b87e94c9",
        "id": "P3NrLJo9cYPD"
      },
      "execution_count": null,
      "outputs": [
        {
          "output_type": "execute_result",
          "data": {
            "text/plain": [
              "KNeighborsClassifier(n_neighbors=3)"
            ]
          },
          "metadata": {},
          "execution_count": 272
        }
      ]
    },
    {
      "cell_type": "code",
      "source": [
        "pred = knn.predict(X_test)\n",
        "accuracy_score(y_test, pred)"
      ],
      "metadata": {
        "colab": {
          "base_uri": "https://localhost:8080/"
        },
        "outputId": "e174fcb3-5f19-405e-86ad-3df158ec74cd",
        "id": "WBGT3-W-cYPD"
      },
      "execution_count": null,
      "outputs": [
        {
          "output_type": "execute_result",
          "data": {
            "text/plain": [
              "0.6404494382022472"
            ]
          },
          "metadata": {},
          "execution_count": 273
        }
      ]
    },
    {
      "cell_type": "code",
      "source": [
        "from sklearn.metrics import accuracy_score, classification_report, f1_score, recall_score, precision_score, confusion_matrix, plot_confusion_matrix\n",
        "plot_confusion_matrix(knn, X_test, y_test, cmap='Blues')"
      ],
      "metadata": {
        "colab": {
          "base_uri": "https://localhost:8080/",
          "height": 351
        },
        "outputId": "75609a39-92a6-4cd7-a4bf-d560c1f852a7",
        "id": "cNO7OyzqcYPE"
      },
      "execution_count": null,
      "outputs": [
        {
          "output_type": "stream",
          "name": "stderr",
          "text": [
            "/usr/local/lib/python3.7/dist-packages/sklearn/utils/deprecation.py:87: FutureWarning: Function plot_confusion_matrix is deprecated; Function `plot_confusion_matrix` is deprecated in 1.0 and will be removed in 1.2. Use one of the class methods: ConfusionMatrixDisplay.from_predictions or ConfusionMatrixDisplay.from_estimator.\n",
            "  warnings.warn(msg, category=FutureWarning)\n"
          ]
        },
        {
          "output_type": "execute_result",
          "data": {
            "text/plain": [
              "<sklearn.metrics._plot.confusion_matrix.ConfusionMatrixDisplay at 0x7fd1e7b22450>"
            ]
          },
          "metadata": {},
          "execution_count": 274
        },
        {
          "output_type": "display_data",
          "data": {
            "image/png": "[encoded data removed]",
            "text/plain": [
              "<Figure size 432x288 with 2 Axes>"
            ]
          },
          "metadata": {
            "needs_background": "light"
          }
        }
      ]
    },
    {
      "cell_type": "code",
      "source": [
        "precision_score(y_test,pred)"
      ],
      "metadata": {
        "colab": {
          "base_uri": "https://localhost:8080/"
        },
        "outputId": "df1b145b-863e-4ab9-9ccd-1fb732a8b584",
        "id": "PxaRmGWrcYPE"
      },
      "execution_count": null,
      "outputs": [
        {
          "output_type": "execute_result",
          "data": {
            "text/plain": [
              "0.54"
            ]
          },
          "metadata": {},
          "execution_count": 275
        }
      ]
    },
    {
      "cell_type": "code",
      "source": [
        "np.unique(y_train, return_counts=True)"
      ],
      "metadata": {
        "colab": {
          "base_uri": "https://localhost:8080/"
        },
        "outputId": "d6d08fab-a635-44dc-c1f0-6debd7a64671",
        "id": "TVe309RscYPE"
      },
      "execution_count": null,
      "outputs": [
        {
          "output_type": "execute_result",
          "data": {
            "text/plain": [
              "(array([0, 1]), array([439, 272]))"
            ]
          },
          "metadata": {},
          "execution_count": 276
        }
      ]
    },
    {
      "cell_type": "code",
      "source": [
        "recall_score(y_test, pred)"
      ],
      "metadata": {
        "colab": {
          "base_uri": "https://localhost:8080/"
        },
        "outputId": "7528cbbf-c676-47ab-8283-0f1b3e18396a",
        "id": "fmQIrTq1cYPE"
      },
      "execution_count": null,
      "outputs": [
        {
          "output_type": "execute_result",
          "data": {
            "text/plain": [
              "0.39705882352941174"
            ]
          },
          "metadata": {},
          "execution_count": 277
        }
      ]
    },
    {
      "cell_type": "code",
      "source": [
        "f1_score(y_test, pred)"
      ],
      "metadata": {
        "colab": {
          "base_uri": "https://localhost:8080/"
        },
        "outputId": "4b866c2b-4f35-491c-bc16-67580f4ace9f",
        "id": "QkvSBI7_cYPE"
      },
      "execution_count": null,
      "outputs": [
        {
          "output_type": "execute_result",
          "data": {
            "text/plain": [
              "0.45762711864406785"
            ]
          },
          "metadata": {},
          "execution_count": 278
        }
      ]
    },
    {
      "cell_type": "markdown",
      "source": [
        "# Train Dataset"
      ],
      "metadata": {
        "id": "bUMpeLaVdNUa"
      }
    },
    {
      "cell_type": "code",
      "source": [
        "print(classification_report(y_test, pred))"
      ],
      "metadata": {
        "colab": {
          "base_uri": "https://localhost:8080/"
        },
        "outputId": "8b02e2b4-daa0-4efe-9084-7a6545a4662c",
        "id": "s08yKwBNcYPE"
      },
      "execution_count": null,
      "outputs": [
        {
          "output_type": "stream",
          "name": "stdout",
          "text": [
            "              precision    recall  f1-score   support\n",
            "\n",
            "           0       0.68      0.79      0.73       110\n",
            "           1       0.54      0.40      0.46        68\n",
            "\n",
            "    accuracy                           0.64       178\n",
            "   macro avg       0.61      0.59      0.59       178\n",
            "weighted avg       0.63      0.64      0.63       178\n",
            "\n"
          ]
        }
      ]
    },
    {
      "cell_type": "markdown",
      "source": [
        "# Age_drop Dataset"
      ],
      "metadata": {
        "id": "hRBhZ4SOdIS9"
      }
    },
    {
      "cell_type": "code",
      "source": [
        "print(classification_report(y_test, pred))"
      ],
      "metadata": {
        "colab": {
          "base_uri": "https://localhost:8080/"
        },
        "outputId": "d96d5e7b-1b3b-4499-9efa-3e35ac7c0224",
        "id": "Qj6DKssEdGxn"
      },
      "execution_count": null,
      "outputs": [
        {
          "output_type": "stream",
          "name": "stdout",
          "text": [
            "              precision    recall  f1-score   support\n",
            "\n",
            "           0       0.64      0.78      0.70        85\n",
            "           1       0.53      0.36      0.43        58\n",
            "\n",
            "    accuracy                           0.61       143\n",
            "   macro avg       0.58      0.57      0.57       143\n",
            "weighted avg       0.59      0.61      0.59       143\n",
            "\n"
          ]
        }
      ]
    },
    {
      "cell_type": "markdown",
      "source": [
        "# Conclusão"
      ],
      "metadata": {
        "id": "1FLq_gXKdRBw"
      }
    },
    {
      "cell_type": "markdown",
      "source": [
        "Ambos os conjuntos de dados apresentaram resultados bem próximos. Com pequenas variações entre os classificadores. Para ambos os casos, o SVM pareceu uma solução mais interessante."
      ],
      "metadata": {
        "id": "4ioqXdpgdgD6"
      }
    },
    {
      "cell_type": "code",
      "source": [
        ""
      ],
      "metadata": {
        "id": "eK_Cw2bffW1_"
      },
      "execution_count": null,
      "outputs": []
    }
  ]
}