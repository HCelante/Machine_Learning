{
  "nbformat": 4,
  "nbformat_minor": 5,
  "metadata": {
    "kernelspec": {
      "display_name": "Python 3",
      "language": "python",
      "name": "python3"
    },
    "language_info": {
      "codemirror_mode": {
        "name": "ipython",
        "version": 3
      },
      "file_extension": ".py",
      "mimetype": "text/x-python",
      "name": "python",
      "nbconvert_exporter": "python",
      "pygments_lexer": "ipython3",
      "version": "3.8.8"
    },
    "colab": {
      "name": "Classificação por Limiar.ipynb",
      "provenance": [],
      "include_colab_link": true
    }
  },
  "cells": [
    {
      "cell_type": "markdown",
      "metadata": {
        "id": "view-in-github",
        "colab_type": "text"
      },
      "source": [
        "<a href=\"https://colab.research.google.com/github/HCelante/Machine_Learning/blob/binary_classifier_by_threshold/Classifica%C3%A7%C3%A3o_por_Limiar.ipynb\" target=\"_parent\"><img src=\"https://colab.research.google.com/assets/colab-badge.svg\" alt=\"Open In Colab\"/></a>"
      ]
    },
    {
      "cell_type": "code",
      "metadata": {
        "id": "58019a31-5b02-4887-bb69-a8485f3de8a5"
      },
      "source": [
        "import numpy as np\n",
        "import pandas as pd\n",
        "import matplotlib.pyplot as plt\n",
        "import seaborn as sns\n",
        "\n",
        "%matplotlib inline"
      ],
      "id": "58019a31-5b02-4887-bb69-a8485f3de8a5",
      "execution_count": 1,
      "outputs": []
    },
    {
      "cell_type": "markdown",
      "metadata": {
        "id": "14b08459-bc7c-413b-8ef6-da20ce745a35"
      },
      "source": [
        "# Classificação por Limiar"
      ],
      "id": "14b08459-bc7c-413b-8ef6-da20ce745a35"
    },
    {
      "cell_type": "markdown",
      "metadata": {
        "id": "a4f21171-774f-43f6-b7f3-3fe944759f7e"
      },
      "source": [
        "## A base de dados\n"
      ],
      "id": "a4f21171-774f-43f6-b7f3-3fe944759f7e"
    },
    {
      "cell_type": "code",
      "metadata": {
        "colab": {
          "base_uri": "https://localhost:8080/"
        },
        "id": "3FgRCC2UFg_9",
        "outputId": "14d348b5-156a-4231-e1bf-508ecd79d266"
      },
      "source": [
        "from google.colab import drive\n",
        "drive.mount('/content/drive')"
      ],
      "id": "3FgRCC2UFg_9",
      "execution_count": 5,
      "outputs": [
        {
          "output_type": "stream",
          "name": "stdout",
          "text": [
            "Mounted at /content/drive\n"
          ]
        }
      ]
    },
    {
      "cell_type": "code",
      "metadata": {
        "colab": {
          "base_uri": "https://localhost:8080/"
        },
        "id": "A1W1sNZhFuoz",
        "outputId": "fd784682-f874-45ea-b8cd-091d5223db96"
      },
      "source": [
        "!sh ls"
      ],
      "id": "A1W1sNZhFuoz",
      "execution_count": 7,
      "outputs": [
        {
          "output_type": "stream",
          "name": "stdout",
          "text": [
            "sh: 0: Can't open ls\n"
          ]
        }
      ]
    },
    {
      "cell_type": "code",
      "metadata": {
        "colab": {
          "base_uri": "https://localhost:8080/",
          "height": 419
        },
        "id": "c6c150d8-9458-4823-a477-d7c962d0f560",
        "outputId": "da6ce8cd-6b99-4555-ad6b-8be776e0f94e"
      },
      "source": [
        "df = pd.read_csv('/content/drive/My Drive/Colab Notebooks/iris_2class.csv')\n",
        "df.head()\n",
        "df"
      ],
      "id": "c6c150d8-9458-4823-a477-d7c962d0f560",
      "execution_count": 17,
      "outputs": [
        {
          "output_type": "execute_result",
          "data": {
            "text/html": [
              "<div>\n",
              "<style scoped>\n",
              "    .dataframe tbody tr th:only-of-type {\n",
              "        vertical-align: middle;\n",
              "    }\n",
              "\n",
              "    .dataframe tbody tr th {\n",
              "        vertical-align: top;\n",
              "    }\n",
              "\n",
              "    .dataframe thead th {\n",
              "        text-align: right;\n",
              "    }\n",
              "</style>\n",
              "<table border=\"1\" class=\"dataframe\">\n",
              "  <thead>\n",
              "    <tr style=\"text-align: right;\">\n",
              "      <th></th>\n",
              "      <th>sepal length (cm)</th>\n",
              "      <th>sepal width (cm)</th>\n",
              "      <th>petal length (cm)</th>\n",
              "      <th>petal width (cm)</th>\n",
              "      <th>especie</th>\n",
              "    </tr>\n",
              "  </thead>\n",
              "  <tbody>\n",
              "    <tr>\n",
              "      <th>0</th>\n",
              "      <td>7.0</td>\n",
              "      <td>3.2</td>\n",
              "      <td>4.7</td>\n",
              "      <td>1.4</td>\n",
              "      <td>versicolor</td>\n",
              "    </tr>\n",
              "    <tr>\n",
              "      <th>1</th>\n",
              "      <td>6.4</td>\n",
              "      <td>3.2</td>\n",
              "      <td>4.5</td>\n",
              "      <td>1.5</td>\n",
              "      <td>versicolor</td>\n",
              "    </tr>\n",
              "    <tr>\n",
              "      <th>2</th>\n",
              "      <td>6.9</td>\n",
              "      <td>3.1</td>\n",
              "      <td>4.9</td>\n",
              "      <td>1.5</td>\n",
              "      <td>versicolor</td>\n",
              "    </tr>\n",
              "    <tr>\n",
              "      <th>3</th>\n",
              "      <td>5.5</td>\n",
              "      <td>2.3</td>\n",
              "      <td>4.0</td>\n",
              "      <td>1.3</td>\n",
              "      <td>versicolor</td>\n",
              "    </tr>\n",
              "    <tr>\n",
              "      <th>4</th>\n",
              "      <td>6.5</td>\n",
              "      <td>2.8</td>\n",
              "      <td>4.6</td>\n",
              "      <td>1.5</td>\n",
              "      <td>versicolor</td>\n",
              "    </tr>\n",
              "    <tr>\n",
              "      <th>...</th>\n",
              "      <td>...</td>\n",
              "      <td>...</td>\n",
              "      <td>...</td>\n",
              "      <td>...</td>\n",
              "      <td>...</td>\n",
              "    </tr>\n",
              "    <tr>\n",
              "      <th>95</th>\n",
              "      <td>6.7</td>\n",
              "      <td>3.0</td>\n",
              "      <td>5.2</td>\n",
              "      <td>2.3</td>\n",
              "      <td>virginica</td>\n",
              "    </tr>\n",
              "    <tr>\n",
              "      <th>96</th>\n",
              "      <td>6.3</td>\n",
              "      <td>2.5</td>\n",
              "      <td>5.0</td>\n",
              "      <td>1.9</td>\n",
              "      <td>virginica</td>\n",
              "    </tr>\n",
              "    <tr>\n",
              "      <th>97</th>\n",
              "      <td>6.5</td>\n",
              "      <td>3.0</td>\n",
              "      <td>5.2</td>\n",
              "      <td>2.0</td>\n",
              "      <td>virginica</td>\n",
              "    </tr>\n",
              "    <tr>\n",
              "      <th>98</th>\n",
              "      <td>6.2</td>\n",
              "      <td>3.4</td>\n",
              "      <td>5.4</td>\n",
              "      <td>2.3</td>\n",
              "      <td>virginica</td>\n",
              "    </tr>\n",
              "    <tr>\n",
              "      <th>99</th>\n",
              "      <td>5.9</td>\n",
              "      <td>3.0</td>\n",
              "      <td>5.1</td>\n",
              "      <td>1.8</td>\n",
              "      <td>virginica</td>\n",
              "    </tr>\n",
              "  </tbody>\n",
              "</table>\n",
              "<p>100 rows × 5 columns</p>\n",
              "</div>"
            ],
            "text/plain": [
              "    sepal length (cm)  sepal width (cm)  ...  petal width (cm)     especie\n",
              "0                 7.0               3.2  ...               1.4  versicolor\n",
              "1                 6.4               3.2  ...               1.5  versicolor\n",
              "2                 6.9               3.1  ...               1.5  versicolor\n",
              "3                 5.5               2.3  ...               1.3  versicolor\n",
              "4                 6.5               2.8  ...               1.5  versicolor\n",
              "..                ...               ...  ...               ...         ...\n",
              "95                6.7               3.0  ...               2.3   virginica\n",
              "96                6.3               2.5  ...               1.9   virginica\n",
              "97                6.5               3.0  ...               2.0   virginica\n",
              "98                6.2               3.4  ...               2.3   virginica\n",
              "99                5.9               3.0  ...               1.8   virginica\n",
              "\n",
              "[100 rows x 5 columns]"
            ]
          },
          "metadata": {},
          "execution_count": 17
        }
      ]
    },
    {
      "cell_type": "markdown",
      "metadata": {
        "id": "c412dd4e-7587-4b27-88c6-1dfde645db52"
      },
      "source": [
        "# Análise dos dados\n",
        "\n",
        "Conhecer os dados é importante para projetar qualquer classificador. Esta análise serve para compreender a dificuldade do problema e possíveis métodos capazes de resolvê-lo."
      ],
      "id": "c412dd4e-7587-4b27-88c6-1dfde645db52"
    },
    {
      "cell_type": "code",
      "metadata": {
        "colab": {
          "base_uri": "https://localhost:8080/",
          "height": 173
        },
        "id": "a7ce9c17-d62d-4657-a0d8-38ecf7421130",
        "outputId": "c83d7f6b-41d3-4145-a142-f0655b219a66"
      },
      "source": [
        "df.groupby('especie').describe()"
      ],
      "id": "a7ce9c17-d62d-4657-a0d8-38ecf7421130",
      "execution_count": 12,
      "outputs": [
        {
          "output_type": "execute_result",
          "data": {
            "text/html": [
              "<div>\n",
              "<style scoped>\n",
              "    .dataframe tbody tr th:only-of-type {\n",
              "        vertical-align: middle;\n",
              "    }\n",
              "\n",
              "    .dataframe tbody tr th {\n",
              "        vertical-align: top;\n",
              "    }\n",
              "\n",
              "    .dataframe thead tr th {\n",
              "        text-align: left;\n",
              "    }\n",
              "\n",
              "    .dataframe thead tr:last-of-type th {\n",
              "        text-align: right;\n",
              "    }\n",
              "</style>\n",
              "<table border=\"1\" class=\"dataframe\">\n",
              "  <thead>\n",
              "    <tr>\n",
              "      <th></th>\n",
              "      <th colspan=\"8\" halign=\"left\">sepal length (cm)</th>\n",
              "      <th colspan=\"8\" halign=\"left\">sepal width (cm)</th>\n",
              "      <th colspan=\"8\" halign=\"left\">petal length (cm)</th>\n",
              "      <th colspan=\"8\" halign=\"left\">petal width (cm)</th>\n",
              "    </tr>\n",
              "    <tr>\n",
              "      <th></th>\n",
              "      <th>count</th>\n",
              "      <th>mean</th>\n",
              "      <th>std</th>\n",
              "      <th>min</th>\n",
              "      <th>25%</th>\n",
              "      <th>50%</th>\n",
              "      <th>75%</th>\n",
              "      <th>max</th>\n",
              "      <th>count</th>\n",
              "      <th>mean</th>\n",
              "      <th>std</th>\n",
              "      <th>min</th>\n",
              "      <th>25%</th>\n",
              "      <th>50%</th>\n",
              "      <th>75%</th>\n",
              "      <th>max</th>\n",
              "      <th>count</th>\n",
              "      <th>mean</th>\n",
              "      <th>std</th>\n",
              "      <th>min</th>\n",
              "      <th>25%</th>\n",
              "      <th>50%</th>\n",
              "      <th>75%</th>\n",
              "      <th>max</th>\n",
              "      <th>count</th>\n",
              "      <th>mean</th>\n",
              "      <th>std</th>\n",
              "      <th>min</th>\n",
              "      <th>25%</th>\n",
              "      <th>50%</th>\n",
              "      <th>75%</th>\n",
              "      <th>max</th>\n",
              "    </tr>\n",
              "    <tr>\n",
              "      <th>especie</th>\n",
              "      <th></th>\n",
              "      <th></th>\n",
              "      <th></th>\n",
              "      <th></th>\n",
              "      <th></th>\n",
              "      <th></th>\n",
              "      <th></th>\n",
              "      <th></th>\n",
              "      <th></th>\n",
              "      <th></th>\n",
              "      <th></th>\n",
              "      <th></th>\n",
              "      <th></th>\n",
              "      <th></th>\n",
              "      <th></th>\n",
              "      <th></th>\n",
              "      <th></th>\n",
              "      <th></th>\n",
              "      <th></th>\n",
              "      <th></th>\n",
              "      <th></th>\n",
              "      <th></th>\n",
              "      <th></th>\n",
              "      <th></th>\n",
              "      <th></th>\n",
              "      <th></th>\n",
              "      <th></th>\n",
              "      <th></th>\n",
              "      <th></th>\n",
              "      <th></th>\n",
              "      <th></th>\n",
              "      <th></th>\n",
              "    </tr>\n",
              "  </thead>\n",
              "  <tbody>\n",
              "    <tr>\n",
              "      <th>versicolor</th>\n",
              "      <td>50.0</td>\n",
              "      <td>5.936</td>\n",
              "      <td>0.516171</td>\n",
              "      <td>4.9</td>\n",
              "      <td>5.600</td>\n",
              "      <td>5.9</td>\n",
              "      <td>6.3</td>\n",
              "      <td>7.0</td>\n",
              "      <td>50.0</td>\n",
              "      <td>2.770</td>\n",
              "      <td>0.313798</td>\n",
              "      <td>2.0</td>\n",
              "      <td>2.525</td>\n",
              "      <td>2.8</td>\n",
              "      <td>3.000</td>\n",
              "      <td>3.4</td>\n",
              "      <td>50.0</td>\n",
              "      <td>4.260</td>\n",
              "      <td>0.469911</td>\n",
              "      <td>3.0</td>\n",
              "      <td>4.0</td>\n",
              "      <td>4.35</td>\n",
              "      <td>4.600</td>\n",
              "      <td>5.1</td>\n",
              "      <td>50.0</td>\n",
              "      <td>1.326</td>\n",
              "      <td>0.197753</td>\n",
              "      <td>1.0</td>\n",
              "      <td>1.2</td>\n",
              "      <td>1.3</td>\n",
              "      <td>1.5</td>\n",
              "      <td>1.8</td>\n",
              "    </tr>\n",
              "    <tr>\n",
              "      <th>virginica</th>\n",
              "      <td>50.0</td>\n",
              "      <td>6.588</td>\n",
              "      <td>0.635880</td>\n",
              "      <td>4.9</td>\n",
              "      <td>6.225</td>\n",
              "      <td>6.5</td>\n",
              "      <td>6.9</td>\n",
              "      <td>7.9</td>\n",
              "      <td>50.0</td>\n",
              "      <td>2.974</td>\n",
              "      <td>0.322497</td>\n",
              "      <td>2.2</td>\n",
              "      <td>2.800</td>\n",
              "      <td>3.0</td>\n",
              "      <td>3.175</td>\n",
              "      <td>3.8</td>\n",
              "      <td>50.0</td>\n",
              "      <td>5.552</td>\n",
              "      <td>0.551895</td>\n",
              "      <td>4.5</td>\n",
              "      <td>5.1</td>\n",
              "      <td>5.55</td>\n",
              "      <td>5.875</td>\n",
              "      <td>6.9</td>\n",
              "      <td>50.0</td>\n",
              "      <td>2.026</td>\n",
              "      <td>0.274650</td>\n",
              "      <td>1.4</td>\n",
              "      <td>1.8</td>\n",
              "      <td>2.0</td>\n",
              "      <td>2.3</td>\n",
              "      <td>2.5</td>\n",
              "    </tr>\n",
              "  </tbody>\n",
              "</table>\n",
              "</div>"
            ],
            "text/plain": [
              "           sepal length (cm)                        ... petal width (cm)               \n",
              "                       count   mean       std  min  ...              25%  50%  75%  max\n",
              "especie                                             ...                                \n",
              "versicolor              50.0  5.936  0.516171  4.9  ...              1.2  1.3  1.5  1.8\n",
              "virginica               50.0  6.588  0.635880  4.9  ...              1.8  2.0  2.3  2.5\n",
              "\n",
              "[2 rows x 32 columns]"
            ]
          },
          "metadata": {},
          "execution_count": 12
        }
      ]
    },
    {
      "cell_type": "markdown",
      "metadata": {
        "id": "97505077-4db8-451f-ab40-67083fbebdb1"
      },
      "source": [
        "A partir das estatísticas calculadas para cada grupo, podemos verificar que a média de tamanho da sepa e da pétala é bem diferente entre elas. Sendo a 'virginica' o grupo de maior porte."
      ],
      "id": "97505077-4db8-451f-ab40-67083fbebdb1"
    },
    {
      "cell_type": "markdown",
      "metadata": {
        "id": "04283dbe-5da0-4548-9eb8-426f71bf28d2"
      },
      "source": [
        "## Histograma"
      ],
      "id": "04283dbe-5da0-4548-9eb8-426f71bf28d2"
    },
    {
      "cell_type": "markdown",
      "metadata": {
        "id": "16841e60-a90c-4994-a931-116c059af3c7"
      },
      "source": [
        "As características peso e altura são variáveis contínuas. Para compreender melhor a distribuição de uma característica podemos usar um histograma, que discretiza a distribuição dos valores em \"baldes\". Cada \"balde\" representa um intervalo dos valores e possui a contagem dos valores que estão naquele intervalo. Cada \"balde\" é representado por um gráfico de barras."
      ],
      "id": "16841e60-a90c-4994-a931-116c059af3c7"
    },
    {
      "cell_type": "code",
      "metadata": {
        "colab": {
          "base_uri": "https://localhost:8080/",
          "height": 279
        },
        "id": "f2fed932-8980-4afe-8952-cbf622722500",
        "outputId": "7e89974d-2d5b-4bd3-c914-f8ef22a955fe"
      },
      "source": [
        "fig, axes = plt.subplots(nrows=1, ncols=4, figsize=(16,4))\n",
        "sns.histplot(data=df, bins=10, x='sepal length (cm)', hue='especie', multiple='dodge', shrink=0.8, ax=axes[0])\n",
        "sns.histplot(data=df, bins=10, x='sepal width (cm)', hue='especie', multiple='dodge', shrink=0.8,ax=axes[1])\n",
        "sns.histplot(data=df, bins=10, x='petal length (cm)', hue='especie', multiple='dodge', shrink=0.8, ax=axes[2])\n",
        "sns.histplot(data=df, bins=10, x='petal width (cm)', hue='especie', multiple='dodge', shrink=0.8,ax=axes[3])\n",
        "plt.show()"
      ],
      "id": "f2fed932-8980-4afe-8952-cbf622722500",
      "execution_count": 15,
      "outputs": [
        {
          "output_type": "display_data",
          "data": {
            "image/png": "[encoded data removed]",
            "text/plain": [
              "<Figure size 1152x288 with 4 Axes>"
            ]
          },
          "metadata": {
            "needs_background": "light"
          }
        }
      ]
    },
    {
      "cell_type": "markdown",
      "metadata": {
        "id": "1f785106-f97f-4c86-9279-1ad9f71d7b37"
      },
      "source": [
        "O histograma da altura nos mostra que claramente a maioria das plantas da espécie 'virginica' tem pétalas com largura e comprimento menor que as pétalas da espécie 'versicolor'. Já sobre a sepa, a espécie virginica tende a ter um tamanho final maior."
      ],
      "id": "1f785106-f97f-4c86-9279-1ad9f71d7b37"
    },
    {
      "cell_type": "markdown",
      "metadata": {
        "id": "66dc2ace-f9e8-46d9-8b6d-ea59ee1f4918"
      },
      "source": [
        "## Scatterplot (gráfico de pontos)\n",
        "\n",
        "Uma outra forma de conhecer o conjunto de dados é por meio de visualizações. Com estas ferramentas é possível ter uma idéia da separabilidade entre as classes e quais características que podem ser úteis para separá-las.\n",
        "\n",
        "Como os objetos que queremos classificar tem apenas 2 características de entrada, é possível visualizá-los em um plano cartesiano 2D, onde cada característica é representada por um eixo coordenado. Para identificar cada ponto com sua classe podemos usar cores diferentes para cada uma."
      ],
      "id": "66dc2ace-f9e8-46d9-8b6d-ea59ee1f4918"
    },
    {
      "cell_type": "markdown",
      "metadata": {
        "id": "iYZdtfZGLW_t"
      },
      "source": [
        "### Sepa"
      ],
      "id": "iYZdtfZGLW_t"
    },
    {
      "cell_type": "code",
      "metadata": {
        "colab": {
          "base_uri": "https://localhost:8080/",
          "height": 280
        },
        "id": "FNP1MlCCLUzx",
        "outputId": "834355fa-859f-4cf4-841b-a996d17d6449"
      },
      "source": [
        "plt.figure(figsize=(8,4))\n",
        "\n",
        "sns.scatterplot(data=df, x='sepal width (cm)', y='sepal length (cm)', hue='especie')\n",
        "plt.show()"
      ],
      "id": "FNP1MlCCLUzx",
      "execution_count": null,
      "outputs": [
        {
          "output_type": "display_data",
          "data": {
            "image/png": "[encoded data removed]",
            "text/plain": [
              "<Figure size 576x288 with 1 Axes>"
            ]
          },
          "metadata": {
            "needs_background": "light"
          }
        }
      ]
    },
    {
      "cell_type": "markdown",
      "metadata": {
        "id": "bitbHxy4Lazl"
      },
      "source": [
        "### Pétala"
      ],
      "id": "bitbHxy4Lazl"
    },
    {
      "cell_type": "code",
      "metadata": {
        "colab": {
          "base_uri": "https://localhost:8080/",
          "height": 279
        },
        "id": "77dda726-c09b-4a32-b061-eab897bb0b05",
        "outputId": "2b179ae6-e09b-4a69-d2c7-bec1675623a2"
      },
      "source": [
        "plt.figure(figsize=(8,4))\n",
        "\n",
        "sns.scatterplot(data=df, x='petal width (cm)', y='petal length (cm)', hue='especie')\n",
        "plt.show()"
      ],
      "id": "77dda726-c09b-4a32-b061-eab897bb0b05",
      "execution_count": 22,
      "outputs": [
        {
          "output_type": "display_data",
          "data": {
            "image/png": "[encoded data removed]",
            "text/plain": [
              "<Figure size 576x288 with 1 Axes>"
            ]
          },
          "metadata": {
            "needs_background": "light"
          }
        }
      ]
    },
    {
      "cell_type": "markdown",
      "metadata": {
        "id": "33f5db72-dfc0-4e11-b096-c805f189596f"
      },
      "source": [
        "Conforme esperado, podemos ver que a característica das pétalas separa melhor as duas classes que queremos separar. Embora não dê para separar perfeitamente as 2 classes a partir da pétala, podemos ver que é possível separar os 2 conjuntos razoavelmente bem traçando uma reta em ``petal_length=4,90``:"
      ],
      "id": "33f5db72-dfc0-4e11-b096-c805f189596f"
    },
    {
      "cell_type": "code",
      "metadata": {
        "colab": {
          "base_uri": "https://localhost:8080/",
          "height": 279
        },
        "id": "2b905731-4b77-4575-a7da-7e15b19a67a0",
        "outputId": "168529a5-7858-4e23-a103-ca7c361b198e"
      },
      "source": [
        "plt.figure(figsize=(8,4))\n",
        "sns.scatterplot(data=df, x='petal width (cm)', y='petal length (cm)', hue='especie')\n",
        "plt.axhline(4.9, color='red', label='Limiar')\n",
        "plt.legend()\n",
        "plt.show()"
      ],
      "id": "2b905731-4b77-4575-a7da-7e15b19a67a0",
      "execution_count": 24,
      "outputs": [
        {
          "output_type": "display_data",
          "data": {
            "image/png": "[encoded data removed]",
            "text/plain": [
              "<Figure size 576x288 with 1 Axes>"
            ]
          },
          "metadata": {
            "needs_background": "light"
          }
        }
      ]
    },
    {
      "cell_type": "markdown",
      "metadata": {
        "id": "bf66ddc6-d060-4a12-bef1-43d3d6a60071"
      },
      "source": [
        "O limiar *4,9* para o comprimento da pétala separa o espaço vetorial em duas regiões: o espaço que representa a espécie *virginica* e o espaço que representa a espécie *versicolor*. Este valor não foi escolhido ao acaso: a idéia é encontrar o valor que **melhor separa** os dois conjuntos de pontos, ou seja, que minimize o erro de predição."
      ],
      "id": "bf66ddc6-d060-4a12-bef1-43d3d6a60071"
    },
    {
      "cell_type": "markdown",
      "metadata": {
        "id": "f02cf9df-4bec-42ab-85ca-37695842d36f"
      },
      "source": [
        "# Classificador\n",
        "\n",
        "Um classificador pode ser modelado matematicamente como uma função n-dimendional cujos argumentos são as características e a saída é um rótulo. Dado $\\mathbf{x} \\in \\mathbb{R}^n$, onde $n$ é o número de características, e $C = \\{c_0, c_1, \\dots, c_m\\}$ um conjunto de rótulos,  um classificador é uma função:\n",
        "\n",
        "$$f: \\mathbb{R}^n \\mapsto C$$\n",
        "\n",
        "## Classificador por limiar\n",
        "\n",
        "No caso do problema que estamos trabalhando, $\\mathbf{x} \\in \\mathbb{R}^2$, onde a primeira de dimensão de $\\mathbf{x}$ é o comprimento da pétala, e a segunda é a largura. O conjunto dos rótulos $C$ é dado pelas 2 espécies que temos na base de dados: $C = ${virginica, versicolor}. Usando o limiar 4,9 para a característica *comprimento da pétala* e considerando o espaço visualizado no *scatterplot*, temos um classificador:\n",
        "\n",
        "$$\n",
        "f(\\mathbf{x}) = \n",
        "\\begin{cases}\n",
        "    versicolor & \\text{se } x[0] \\leq 4,9 \\\\\n",
        "    virginica   & \\text{se } x[0] \\gt 4,9\n",
        "\\end{cases}\n",
        "$$\n",
        "\n",
        "Note que este classificador utiliza apenas uma das 2 características (*comprimento da pétala*, que está na posição 0 do vetor **x**) para fazer a predição. Mais adiante iremos explorar como podemos combinar multiplas características.\n"
      ],
      "id": "f02cf9df-4bec-42ab-85ca-37695842d36f"
    },
    {
      "cell_type": "code",
      "metadata": {
        "id": "27b48a64-4c4f-4ee7-9bc2-12017866888e"
      },
      "source": [
        "def classificador_limiar(limiar, dados, rotulos=('versicolor', 'virginica')):\n",
        "    resposta = []   \n",
        "    for idx, dado in dados.iterrows():\n",
        "        if dado[1] <= limiar:\n",
        "            resposta.append(rotulos[0])\n",
        "        else:\n",
        "            resposta.append(rotulos[1])\n",
        "    return pd.DataFrame(resposta, columns=['especie'])\n",
        "\n",
        "#A implementação a seguir é mais eficiente e tem o mesmo resultado\n",
        "# def classificador_limiar(limiar, dados, rotulos=('Futebol', 'Vôlei')):\n",
        "#     def f(dado):\n",
        "#         return rotulos[0] if dado[0] <= limiar else rotulos[1]\n",
        "#     resposta = dados.apply(f, axis=1)\n",
        "#     return resposta\n",
        "    \n",
        "    "
      ],
      "id": "27b48a64-4c4f-4ee7-9bc2-12017866888e",
      "execution_count": 44,
      "outputs": []
    },
    {
      "cell_type": "code",
      "metadata": {
        "colab": {
          "base_uri": "https://localhost:8080/"
        },
        "id": "33a8c0c1-a402-4a38-bc26-ae2c0d0494fc",
        "outputId": "46437d8a-e3a0-4e90-e9f5-5d192bdff308"
      },
      "source": [
        "predicoes = classificador_limiar(4.9, df[['petal width (cm)', 'petal length (cm)']])\n",
        "for p in predicoes.values.flatten():\n",
        "    print(p, end=\", \")"
      ],
      "id": "33a8c0c1-a402-4a38-bc26-ae2c0d0494fc",
      "execution_count": 45,
      "outputs": [
        {
          "output_type": "stream",
          "name": "stdout",
          "text": [
            "versicolor, versicolor, versicolor, versicolor, versicolor, versicolor, versicolor, versicolor, versicolor, versicolor, versicolor, versicolor, versicolor, versicolor, versicolor, versicolor, versicolor, versicolor, versicolor, versicolor, versicolor, versicolor, versicolor, versicolor, versicolor, versicolor, versicolor, virginica, versicolor, versicolor, versicolor, versicolor, versicolor, virginica, versicolor, versicolor, versicolor, versicolor, versicolor, versicolor, versicolor, versicolor, versicolor, versicolor, versicolor, versicolor, versicolor, versicolor, versicolor, versicolor, virginica, virginica, virginica, virginica, virginica, virginica, versicolor, virginica, virginica, virginica, virginica, virginica, virginica, virginica, virginica, virginica, virginica, virginica, virginica, virginica, virginica, versicolor, virginica, versicolor, virginica, virginica, versicolor, versicolor, virginica, virginica, virginica, virginica, virginica, virginica, virginica, virginica, virginica, virginica, versicolor, virginica, virginica, virginica, virginica, virginica, virginica, virginica, virginica, virginica, virginica, virginica, "
          ]
        }
      ]
    },
    {
      "cell_type": "markdown",
      "metadata": {
        "id": "e13ea9a0-80b1-4a89-9d3d-8ae8798db354"
      },
      "source": [
        "# Verificando o desempenho do classificador\n",
        "\n",
        "É necessário medir o desempenho do classificador desenvolvido para ter uma idéia de sua assertividade."
      ],
      "id": "e13ea9a0-80b1-4a89-9d3d-8ae8798db354"
    },
    {
      "cell_type": "code",
      "metadata": {
        "colab": {
          "base_uri": "https://localhost:8080/"
        },
        "id": "62187890-ecad-4ce9-a09e-e13baf940a62",
        "outputId": "4faaa349-edda-469a-9d2b-b124d0c835ae"
      },
      "source": [
        "#imprimir os esportes da base de dados, juntamente com as predições\n",
        "predicoes = classificador_limiar(4.9, df[['petal width (cm)', 'petal length (cm)']])\n",
        "for i in np.vstack([df['especie'].values, predicoes['especie'].values]).T:\n",
        "    print(i)"
      ],
      "id": "62187890-ecad-4ce9-a09e-e13baf940a62",
      "execution_count": 46,
      "outputs": [
        {
          "output_type": "stream",
          "name": "stdout",
          "text": [
            "['versicolor' 'versicolor']\n",
            "['versicolor' 'versicolor']\n",
            "['versicolor' 'versicolor']\n",
            "['versicolor' 'versicolor']\n",
            "['versicolor' 'versicolor']\n",
            "['versicolor' 'versicolor']\n",
            "['versicolor' 'versicolor']\n",
            "['versicolor' 'versicolor']\n",
            "['versicolor' 'versicolor']\n",
            "['versicolor' 'versicolor']\n",
            "['versicolor' 'versicolor']\n",
            "['versicolor' 'versicolor']\n",
            "['versicolor' 'versicolor']\n",
            "['versicolor' 'versicolor']\n",
            "['versicolor' 'versicolor']\n",
            "['versicolor' 'versicolor']\n",
            "['versicolor' 'versicolor']\n",
            "['versicolor' 'versicolor']\n",
            "['versicolor' 'versicolor']\n",
            "['versicolor' 'versicolor']\n",
            "['versicolor' 'versicolor']\n",
            "['versicolor' 'versicolor']\n",
            "['versicolor' 'versicolor']\n",
            "['versicolor' 'versicolor']\n",
            "['versicolor' 'versicolor']\n",
            "['versicolor' 'versicolor']\n",
            "['versicolor' 'versicolor']\n",
            "['versicolor' 'virginica']\n",
            "['versicolor' 'versicolor']\n",
            "['versicolor' 'versicolor']\n",
            "['versicolor' 'versicolor']\n",
            "['versicolor' 'versicolor']\n",
            "['versicolor' 'versicolor']\n",
            "['versicolor' 'virginica']\n",
            "['versicolor' 'versicolor']\n",
            "['versicolor' 'versicolor']\n",
            "['versicolor' 'versicolor']\n",
            "['versicolor' 'versicolor']\n",
            "['versicolor' 'versicolor']\n",
            "['versicolor' 'versicolor']\n",
            "['versicolor' 'versicolor']\n",
            "['versicolor' 'versicolor']\n",
            "['versicolor' 'versicolor']\n",
            "['versicolor' 'versicolor']\n",
            "['versicolor' 'versicolor']\n",
            "['versicolor' 'versicolor']\n",
            "['versicolor' 'versicolor']\n",
            "['versicolor' 'versicolor']\n",
            "['versicolor' 'versicolor']\n",
            "['versicolor' 'versicolor']\n",
            "['virginica' 'virginica']\n",
            "['virginica' 'virginica']\n",
            "['virginica' 'virginica']\n",
            "['virginica' 'virginica']\n",
            "['virginica' 'virginica']\n",
            "['virginica' 'virginica']\n",
            "['virginica' 'versicolor']\n",
            "['virginica' 'virginica']\n",
            "['virginica' 'virginica']\n",
            "['virginica' 'virginica']\n",
            "['virginica' 'virginica']\n",
            "['virginica' 'virginica']\n",
            "['virginica' 'virginica']\n",
            "['virginica' 'virginica']\n",
            "['virginica' 'virginica']\n",
            "['virginica' 'virginica']\n",
            "['virginica' 'virginica']\n",
            "['virginica' 'virginica']\n",
            "['virginica' 'virginica']\n",
            "['virginica' 'virginica']\n",
            "['virginica' 'virginica']\n",
            "['virginica' 'versicolor']\n",
            "['virginica' 'virginica']\n",
            "['virginica' 'versicolor']\n",
            "['virginica' 'virginica']\n",
            "['virginica' 'virginica']\n",
            "['virginica' 'versicolor']\n",
            "['virginica' 'versicolor']\n",
            "['virginica' 'virginica']\n",
            "['virginica' 'virginica']\n",
            "['virginica' 'virginica']\n",
            "['virginica' 'virginica']\n",
            "['virginica' 'virginica']\n",
            "['virginica' 'virginica']\n",
            "['virginica' 'virginica']\n",
            "['virginica' 'virginica']\n",
            "['virginica' 'virginica']\n",
            "['virginica' 'virginica']\n",
            "['virginica' 'versicolor']\n",
            "['virginica' 'virginica']\n",
            "['virginica' 'virginica']\n",
            "['virginica' 'virginica']\n",
            "['virginica' 'virginica']\n",
            "['virginica' 'virginica']\n",
            "['virginica' 'virginica']\n",
            "['virginica' 'virginica']\n",
            "['virginica' 'virginica']\n",
            "['virginica' 'virginica']\n",
            "['virginica' 'virginica']\n",
            "['virginica' 'virginica']\n"
          ]
        }
      ]
    },
    {
      "cell_type": "markdown",
      "metadata": {
        "id": "e6259066-778d-4e69-8b80-a3448fab551b"
      },
      "source": [
        "## Acurácia\n",
        "\n",
        "Existem muitas medidas de desempenho de classificadores. Estas medidas são comumente conhecidas como métricas. Uma das métricas mais simples e intuitivas de classificação é chamada de **acurácia**. A acurácia é dada por:\n",
        "\n",
        "$$\n",
        "    \\text{Acurácia} = \\frac{\\text{acertos}}{\\text{total de instâncias}}\n",
        "$$\n"
      ],
      "id": "e6259066-778d-4e69-8b80-a3448fab551b"
    },
    {
      "cell_type": "code",
      "metadata": {
        "id": "f91d0085-2ec0-4552-bfd6-46475876dd0c"
      },
      "source": [
        "def comparar_resultados(predicoes, gabarito, rotulo):\n",
        "    predicoes = predicoes.values\n",
        "    gabarito = gabarito.values\n",
        "    acertos = 0\n",
        "    erros = 0\n",
        "    for i, gab in enumerate(gabarito):\n",
        "        if gab == rotulo:\n",
        "            if gab == predicoes[i]:\n",
        "                acertos+=1\n",
        "            else:\n",
        "                erros+=1\n",
        "    return acertos, erros"
      ],
      "id": "f91d0085-2ec0-4552-bfd6-46475876dd0c",
      "execution_count": 47,
      "outputs": []
    },
    {
      "cell_type": "code",
      "metadata": {
        "colab": {
          "base_uri": "https://localhost:8080/"
        },
        "id": "5f2972ba-0321-4b86-8adc-a69efdb7cff4",
        "outputId": "0c1bcff8-dc1c-464f-dc88-e92a09586930"
      },
      "source": [
        "resultados_versicolor = comparar_resultados(predicoes['especie'], df['especie'], 'versicolor')\n",
        "resultados_virginica = comparar_resultados(predicoes['especie'], df['especie'], 'virginica')\n",
        "\n",
        "print(\"(versicolor) Acertos e Erros:\", resultados_versicolor)\n",
        "print(\"(virginica) Acertos e Erros:\", resultados_virginica)"
      ],
      "id": "5f2972ba-0321-4b86-8adc-a69efdb7cff4",
      "execution_count": 49,
      "outputs": [
        {
          "output_type": "stream",
          "name": "stdout",
          "text": [
            "(versicolor) Acertos e Erros: (48, 2)\n",
            "(virginica) Acertos e Erros: (44, 6)\n"
          ]
        }
      ]
    },
    {
      "cell_type": "markdown",
      "metadata": {
        "id": "877915d1-2b95-47b7-9475-49bccfff7adc"
      },
      "source": [
        "Agora vamos calcular a acurácia do classificador para cada classe separadamente, e depois para o classificador de um modo geral. A vantagem da acurácia é que vamos ter um único número que vai nos descrever cada um destes cenários."
      ],
      "id": "877915d1-2b95-47b7-9475-49bccfff7adc"
    },
    {
      "cell_type": "code",
      "metadata": {
        "colab": {
          "base_uri": "https://localhost:8080/"
        },
        "id": "9acbd35b-5826-4835-99c9-7e4e1529c7f6",
        "outputId": "42439b52-30c5-4567-c74d-ced2fbefc95a"
      },
      "source": [
        "def acuracia(acertos, total_instancias):\n",
        "    return acertos / total_instancias\n",
        "\n",
        "print(\"Acurácia (versicolor): %.3f\" % (acuracia(resultados_versicolor[0], resultados_versicolor[0] + resultados_versicolor[1]) ))\n",
        "print(\"Acurácia (virginica): %.3f\" % (acuracia(resultados_virginica[0], resultados_virginica[0] + resultados_virginica[1]) ))\n",
        "total_de_instancias = len(predicoes)\n",
        "print(\"Acurácia (Total): %.3f\" % (acuracia(resultados_versicolor[0] + resultados_virginica[0], total_de_instancias) ))"
      ],
      "id": "9acbd35b-5826-4835-99c9-7e4e1529c7f6",
      "execution_count": 50,
      "outputs": [
        {
          "output_type": "stream",
          "name": "stdout",
          "text": [
            "Acurácia (versicolor): 0.960\n",
            "Acurácia (virginica): 0.880\n",
            "Acurácia (Total): 0.920\n"
          ]
        }
      ]
    },
    {
      "cell_type": "code",
      "metadata": {
        "colab": {
          "base_uri": "https://localhost:8080/"
        },
        "id": "2571234a-e97d-4fe8-8a60-180a8f69f68f",
        "outputId": "12b5f68e-80bd-4d6a-aa46-14a48d900a1d"
      },
      "source": [
        "\n",
        "from sklearn.metrics import accuracy_score\n",
        "print(\"Acurácia (Total) %.3f\" % (accuracy_score(df['especie'], predicoes['especie'])))"
      ],
      "id": "2571234a-e97d-4fe8-8a60-180a8f69f68f",
      "execution_count": 51,
      "outputs": [
        {
          "output_type": "stream",
          "name": "stdout",
          "text": [
            "Acurácia (Total) 0.920\n"
          ]
        }
      ]
    },
    {
      "cell_type": "markdown",
      "metadata": {
        "id": "29252744-0701-44f6-8437-9dcccf2108fe"
      },
      "source": [
        "O desempenho do classificador é diretamente relacionado com seus parâmetros. No caso do exemplo, o parâmetro do classificador é o limiar. \n",
        "\n",
        "Nós decidimos um valor para este limiar com base nas observações dos dados. Como o parâmetro do classificador foi escolhido manualmente, não podemos dizer que houve aprendizado de máquina até aqui.\n",
        "\n",
        "Qual é o papel da aprendizagem neste contexto? \"Aprender\" significa encontrar um limar cada vez melhor, ou seja, otimizar o limiar de forma que o classificador erre o mínimo possível considerando suas limitações."
      ],
      "id": "29252744-0701-44f6-8437-9dcccf2108fe"
    },
    {
      "cell_type": "markdown",
      "metadata": {
        "id": "e4148513-f999-4e97-8b75-58f6cd23c966"
      },
      "source": [
        "# Aprendizado do limiar por busca exaustiva"
      ],
      "id": "e4148513-f999-4e97-8b75-58f6cd23c966"
    },
    {
      "cell_type": "markdown",
      "metadata": {
        "id": "20a35c3e-8dbb-455e-b356-b3d28485efd8"
      },
      "source": [
        "O algoritmo de aprendizado mais simples realiza uma busca exaustiva pelos parâmetros que otimizem alguma métrica. Esta técnica se chama busca exaustiva, ou busca em grade (*grid-search*). No exemplo que estamos estudando, a busca exaustiva testa uma lista de todos os limiares possíveis dentro de um intervalo, e retorna o limiar que maximiza a métrica de desempenho (como a acurácia, por exemplo)."
      ],
      "id": "20a35c3e-8dbb-455e-b356-b3d28485efd8"
    },
    {
      "cell_type": "code",
      "metadata": {
        "colab": {
          "base_uri": "https://localhost:8080/",
          "height": 296
        },
        "id": "4e365924-44f4-43e3-9f0c-0a490dd121c7",
        "outputId": "2ed97396-962f-4f2a-d086-7cc0d6048ea3"
      },
      "source": [
        "n_limiares = 100\n",
        "limiares = np.linspace(4.5, 5.5, n_limiares)\n",
        "acuracias = []\n",
        "\n",
        "melhor_limiar = limiares[0]\n",
        "melhor_acuracia = 0\n",
        "\n",
        "dados = df[['petal width (cm)', 'petal length (cm)']]\n",
        "\n",
        "for limiar in limiares:\n",
        "    predicoes = classificador_limiar(limiar, dados)\n",
        "    \n",
        "    acuracia = accuracy_score(df['especie'], predicoes['especie'])\n",
        "    acuracias.append(acuracia)\n",
        "    \n",
        "    if acuracia > melhor_acuracia:\n",
        "        melhor_acuracia = acuracia\n",
        "        melhor_limiar = limiar\n",
        "\n",
        "print(\"Melhor limiar: %.3f, Melhor Acurácia: %.3f\" % (melhor_limiar, melhor_acuracia))\n",
        "\n",
        "fig, axes = plt.subplots(figsize=(8,4))\n",
        "axes.plot(limiares, acuracias)\n",
        "axes.axvline(melhor_limiar, color='red')\n",
        "axes.set_xlabel('Limiar')\n",
        "axes.set_ylabel('Acurácia')\n",
        "plt.show()"
      ],
      "id": "4e365924-44f4-43e3-9f0c-0a490dd121c7",
      "execution_count": 52,
      "outputs": [
        {
          "output_type": "stream",
          "name": "stdout",
          "text": [
            "Melhor limiar: 4.702, Melhor Acurácia: 0.930\n"
          ]
        },
        {
          "output_type": "display_data",
          "data": {
            "image/png": "[encoded data removed]",
            "text/plain": [
              "<Figure size 576x288 with 1 Axes>"
            ]
          },
          "metadata": {
            "needs_background": "light"
          }
        }
      ]
    },
    {
      "cell_type": "markdown",
      "metadata": {
        "id": "dceb81bd-09dc-4e1d-9c5a-954f13e74e3c"
      },
      "source": [
        "A busca exaustiva pode encontrar bons resultados, mas depende da realização da classificação muitas vezes. A quantidade de vezes aumenta proporcionalmente a quantidade de valores a serem avaliados. No exemplo, avaliamos ``n_limiares`` valores linearmente espaçados entre 4,5 e 5,5. Quanto maior ``n_limiares`` maior a probabilidade de encontrar a melhor solução possível (a solução ótima). Entretanto, o custo da busca aumenta proporcionalmente.\n"
      ],
      "id": "dceb81bd-09dc-4e1d-9c5a-954f13e74e3c"
    }
  ]
}